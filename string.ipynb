{
 "cells": [
  {
   "cell_type": "markdown",
   "id": "a4d32ab6-f8cb-4e2f-a1e0-81e6b3aaf454",
   "metadata": {},
   "source": [
    "# String:"
   ]
  },
  {
   "cell_type": "markdown",
   "id": "cd466bc6-05af-48bb-938a-1c464629cc16",
   "metadata": {},
   "source": [
    "## 1. Set of characters include whitespace,number ,special char,etc."
   ]
  },
  {
   "cell_type": "markdown",
   "id": "c5a72eb3-9e2d-471e-9dfb-3e2f5075560b",
   "metadata": {},
   "source": [
    "## 2. Number of ways to declare string¶"
   ]
  },
  {
   "cell_type": "code",
   "execution_count": 1,
   "id": "7733c71f-1f79-40d4-afb3-8c1aef11bf7f",
   "metadata": {},
   "outputs": [
    {
     "name": "stdout",
     "output_type": "stream",
     "text": [
      "hello hii byee byee\n"
     ]
    }
   ],
   "source": [
    "data ='hello hii byee byee'\n",
    "print(data)"
   ]
  },
  {
   "cell_type": "code",
   "execution_count": 2,
   "id": "4a704b8f-08dc-4c3e-a090-b2ad88f6c81c",
   "metadata": {},
   "outputs": [
    {
     "name": "stdout",
     "output_type": "stream",
     "text": [
      "hello hii byee byee\n"
     ]
    }
   ],
   "source": [
    "data =\"hello hii byee byee\"\n",
    "print(data)"
   ]
  },
  {
   "cell_type": "code",
   "execution_count": 15,
   "id": "0281584c-cf17-46ef-8180-7f59dd0ed634",
   "metadata": {},
   "outputs": [
    {
     "name": "stdout",
     "output_type": "stream",
     "text": [
      "water is best drink said by \"neha\"   she is good \n",
      "<class 'str'>\n"
     ]
    }
   ],
   "source": [
    "#when your string contains the double quotes declare the outer one using the single quotes   or vice versa\n",
    "data='water is best drink said by \"neha\"   she is good '\n",
    "print(data)\n",
    "print(type(data))"
   ]
  },
  {
   "cell_type": "code",
   "execution_count": 12,
   "id": "f3328fe8-b145-4b40-bc26-ccf616e5cc84",
   "metadata": {},
   "outputs": [
    {
     "name": "stdout",
     "output_type": "stream",
     "text": [
      "Even so my sun one early morn did shine,\n",
      "With all triumphant splendour on my brow;\n",
      "But out, alack, he was but one hour mine,\n",
      "<class 'str'>\n"
     ]
    }
   ],
   "source": [
    "# when you to print   more than one 1 line go for \"\"\"      \"\"\"  or   Multiline Strings\n",
    "\n",
    "poem=\"\"\"Even so my sun one early morn did shine,\n",
    "With all triumphant splendour on my brow;\n",
    "But out, alack, he was but one hour mine,\"\"\"\n",
    "print(poem)\n",
    "print(type(data))"
   ]
  },
  {
   "cell_type": "markdown",
   "id": "ab26e944-0115-423b-aeee-9e65449e4949",
   "metadata": {},
   "source": []
  },
  {
   "cell_type": "markdown",
   "id": "8321e9ce-f2d9-4049-80ab-46b7922bb50e",
   "metadata": {},
   "source": [
    "## 4.String are associated with index value bydefault start from 0¶"
   ]
  },
  {
   "cell_type": "markdown",
   "id": "3bf71c6b-e57b-4650-9e0d-558b94c814ec",
   "metadata": {},
   "source": [
    "### Indexing :  FETCHING THE SINGLE CHARACTER"
   ]
  },
  {
   "cell_type": "code",
   "execution_count": 16,
   "id": "608f43fd-4d6d-4127-b25b-6fc5eea29f48",
   "metadata": {},
   "outputs": [
    {
     "name": "stdout",
     "output_type": "stream",
     "text": [
      "book are best frnd\n"
     ]
    }
   ],
   "source": [
    "data=\"book are best frnd\"\n",
    "print(data)"
   ]
  },
  {
   "cell_type": "code",
   "execution_count": 22,
   "id": "a9d49b64-1c94-4b2d-831d-c8a4cd98d213",
   "metadata": {},
   "outputs": [
    {
     "name": "stdout",
     "output_type": "stream",
     "text": [
      "print the character from index location 3  is : k\n"
     ]
    }
   ],
   "source": [
    "print(\"print the character from index location 3  is :\",data[3])"
   ]
  },
  {
   "cell_type": "markdown",
   "id": "26563fa9-ee13-4b6f-ba24-e5ed214246fd",
   "metadata": {},
   "source": [
    "### negative indexing\n"
   ]
  },
  {
   "cell_type": "code",
   "execution_count": 23,
   "id": "5952f4fe-7b63-4295-a0f9-d5fb26750e72",
   "metadata": {},
   "outputs": [
    {
     "name": "stdout",
     "output_type": "stream",
     "text": [
      "last character  d\n"
     ]
    }
   ],
   "source": [
    "print(\"last character \",data[-1])"
   ]
  },
  {
   "cell_type": "code",
   "execution_count": 24,
   "id": "993bab79-6e2f-4b68-a387-56bb843d79dc",
   "metadata": {},
   "outputs": [
    {
     "name": "stdout",
     "output_type": "stream",
     "text": [
      "second last   n\n"
     ]
    }
   ],
   "source": [
    "print(\"second last  \",data[-2])"
   ]
  },
  {
   "cell_type": "markdown",
   "id": "534b8a5b-e0de-4b87-9d90-5bfcc86508ed",
   "metadata": {},
   "source": [
    "## slicing  :   where getting the sub-string from the original"
   ]
  },
  {
   "cell_type": "markdown",
   "id": "b600a68e-6d69-4fcf-9027-08a53643824a",
   "metadata": {},
   "source": [
    "### variable_name[start:end:stepdiff]   :::end is exclusicve  returns -1 value"
   ]
  },
  {
   "cell_type": "code",
   "execution_count": 65,
   "id": "056af591-4050-45a3-9c0f-3740de992635",
   "metadata": {},
   "outputs": [
    {
     "name": "stdout",
     "output_type": "stream",
     "text": [
      "Kind words cost nothing\n"
     ]
    }
   ],
   "source": [
    "    data=\"Kind words cost nothing\"\n",
    "# -14-13-12-11-10-9-8-7-6-5-4-3-2-1\n",
    "\n",
    "\n",
    "\n",
    "print(data)"
   ]
  },
  {
   "cell_type": "code",
   "execution_count": 38,
   "id": "6bd2d7a4-dbf1-4654-8541-a2ade213fbe2",
   "metadata": {},
   "outputs": [
    {
     "name": "stdout",
     "output_type": "stream",
     "text": [
      "Kind words cost nothing\n"
     ]
    }
   ],
   "source": [
    "print(data[: ])"
   ]
  },
  {
   "cell_type": "code",
   "execution_count": 34,
   "id": "ca3c5968-ad71-4151-9ad0-085a7a1c9874",
   "metadata": {},
   "outputs": [
    {
     "name": "stdout",
     "output_type": "stream",
     "text": [
      "Kind wor\n"
     ]
    }
   ],
   "source": [
    "print(data[: 8])"
   ]
  },
  {
   "cell_type": "code",
   "execution_count": 63,
   "id": "e8102b40-7862-4c0f-98a0-a98d7fadc5d7",
   "metadata": {},
   "outputs": [
    {
     "name": "stdout",
     "output_type": "stream",
     "text": [
      "Kind words cost\n"
     ]
    }
   ],
   "source": [
    "print(data[ : -8])  # it will end from negative side"
   ]
  },
  {
   "cell_type": "code",
   "execution_count": 35,
   "id": "2e3c58f2-5759-4ad7-9182-74a52e8fb471",
   "metadata": {},
   "outputs": [
    {
     "name": "stdout",
     "output_type": "stream",
     "text": [
      " words cost nothing\n"
     ]
    }
   ],
   "source": [
    "print(data[ 4 :])"
   ]
  },
  {
   "cell_type": "code",
   "execution_count": 31,
   "id": "73713b01-71b8-4fe1-a130-684d59db1ee9",
   "metadata": {},
   "outputs": [
    {
     "name": "stdout",
     "output_type": "stream",
     "text": [
      "Kind\n"
     ]
    }
   ],
   "source": [
    "print(data[0:4])"
   ]
  },
  {
   "cell_type": "code",
   "execution_count": 64,
   "id": "63bac6bf-ee88-488d-a425-f15677a76f2c",
   "metadata": {},
   "outputs": [
    {
     "name": "stdout",
     "output_type": "stream",
     "text": [
      "Kn od ot\n"
     ]
    }
   ],
   "source": [
    "print(data[0 : 15:2])"
   ]
  },
  {
   "cell_type": "code",
   "execution_count": 56,
   "id": "8e7fe1a6-32cb-494c-88a1-c324683d6ed7",
   "metadata": {},
   "outputs": [
    {
     "name": "stdout",
     "output_type": "stream",
     "text": [
      "Kn od otntig\n"
     ]
    }
   ],
   "source": [
    "print(data[::2])"
   ]
  },
  {
   "cell_type": "code",
   "execution_count": 59,
   "id": "c19da981-a633-40c9-bfa1-7a94cc853b8c",
   "metadata": {},
   "outputs": [
    {
     "name": "stdout",
     "output_type": "stream",
     "text": [
      "Kdoso tn\n"
     ]
    }
   ],
   "source": [
    "print(data[: : 3  ])  # sd is from  staring point"
   ]
  },
  {
   "cell_type": "code",
   "execution_count": 55,
   "id": "9d94f046-640d-4d4a-81b7-8baf99ae400c",
   "metadata": {},
   "outputs": [
    {
     "name": "stdout",
     "output_type": "stream",
     "text": [
      "gtt on\n"
     ]
    }
   ],
   "source": [
    "print(data[: : -4  ])  #sd   is done from ending point"
   ]
  },
  {
   "cell_type": "markdown",
   "id": "a5e73506-a67e-407d-8684-07c30b22cb76",
   "metadata": {},
   "source": [
    "## built in function of string\n",
    " 1.( . ) operator is used to    access functions  or methods in pythons  \n",
    " 2. var_name.function_name()"
   ]
  },
  {
   "cell_type": "markdown",
   "id": "07f7ea19-3d4e-432f-b0dc-b4d80676bebf",
   "metadata": {},
   "source": [
    "##### 1. lower()"
   ]
  },
  {
   "cell_type": "code",
   "execution_count": 139,
   "id": "cb61e897-6346-4ffe-bea0-be78cd65550a",
   "metadata": {},
   "outputs": [
    {
     "name": "stdin",
     "output_type": "stream",
     "text": [
      "enter a string BHJGFHGFGF\n"
     ]
    },
    {
     "name": "stdout",
     "output_type": "stream",
     "text": [
      "bhjgfhgfgf\n"
     ]
    }
   ],
   "source": [
    "check=input(\"enter a string\").lower()\n",
    "print(check)"
   ]
  },
  {
   "cell_type": "code",
   "execution_count": 82,
   "id": "fba213e1-9b2e-4704-9b45-b54fde870f88",
   "metadata": {},
   "outputs": [
    {
     "name": "stdout",
     "output_type": "stream",
     "text": [
      "Today is better thAn yesTurday\n",
      "today is better than yesturday\n"
     ]
    }
   ],
   "source": [
    "data=\"Today is better thAn yesTurday\"\n",
    "lowerdata=data.lower()\n",
    "print(data)\n",
    "print(lowerdata)"
   ]
  },
  {
   "cell_type": "code",
   "execution_count": 78,
   "id": "8e84e975-976f-4f31-8d34-beabe57dea03",
   "metadata": {},
   "outputs": [
    {
     "name": "stdout",
     "output_type": "stream",
     "text": [
      "TODAY IS BETTER THAN YESTURDAY\n"
     ]
    }
   ],
   "source": [
    "print(data.upper())"
   ]
  },
  {
   "cell_type": "code",
   "execution_count": 83,
   "id": "0a28bf0c-800c-4f68-b6b8-5767da37caac",
   "metadata": {},
   "outputs": [
    {
     "name": "stdout",
     "output_type": "stream",
     "text": [
      "Today Is Better Than Yesturday\n"
     ]
    }
   ],
   "source": [
    "print(data.title())"
   ]
  },
  {
   "cell_type": "code",
   "execution_count": 84,
   "id": "3b59ab87-ec12-4685-8b1d-8524e3702ae2",
   "metadata": {},
   "outputs": [
    {
     "name": "stdout",
     "output_type": "stream",
     "text": [
      "Today is better than yesturday\n"
     ]
    }
   ],
   "source": [
    "print(data.capitalize())"
   ]
  },
  {
   "cell_type": "markdown",
   "id": "e5b097e7-c818-4e10-a4e6-325e665b53bb",
   "metadata": {},
   "source": [
    "#### 5.swapcase()¶\n",
    "convrt uppr into lover vice versa"
   ]
  },
  {
   "cell_type": "code",
   "execution_count": 142,
   "id": "e724278f-a4bc-4752-a48a-244e17422af5",
   "metadata": {},
   "outputs": [],
   "source": [
    "a=\"BasMA\""
   ]
  },
  {
   "cell_type": "code",
   "execution_count": 143,
   "id": "40d7841a-8e21-48a3-9d12-58b1c91fff80",
   "metadata": {},
   "outputs": [
    {
     "name": "stdout",
     "output_type": "stream",
     "text": [
      "BasMA\n",
      "bASma\n"
     ]
    }
   ],
   "source": [
    "b=a.swapcase()\n",
    "print(a)\n",
    "print(b)"
   ]
  },
  {
   "cell_type": "code",
   "execution_count": 1,
   "id": "98042a48-00c6-4eec-96ad-98d66b889436",
   "metadata": {},
   "outputs": [
    {
     "name": "stdout",
     "output_type": "stream",
     "text": [
      "dad\n",
      "muM\n",
      "muM\n",
      "dad\n"
     ]
    }
   ],
   "source": [
    "x =\"dad\"\n",
    "y=\"muM\"\n",
    "print(x)\n",
    "print(y)\n",
    "\n",
    "x,y=y,x\n",
    "\n",
    "print(x)\n",
    "print(y)"
   ]
  },
  {
   "cell_type": "markdown",
   "id": "ae23ab7b-a5c9-4063-a7c8-06aff8afb803",
   "metadata": {},
   "source": [
    "### few examples"
   ]
  },
  {
   "cell_type": "code",
   "execution_count": 85,
   "id": "8b1ec95f-9a41-431d-b75f-715f086f9f2f",
   "metadata": {},
   "outputs": [
    {
     "name": "stdout",
     "output_type": "stream",
     "text": [
      "rga\n"
     ]
    }
   ],
   "source": [
    "data=\"program\"   # get rga\n",
    "print(data[1 : 8 :2])"
   ]
  },
  {
   "cell_type": "code",
   "execution_count": 87,
   "id": "9fcbb7ad-3d29-44ab-8a10-a2a609166a19",
   "metadata": {},
   "outputs": [
    {
     "name": "stdout",
     "output_type": "stream",
     "text": [
      "rga\n"
     ]
    }
   ],
   "source": [
    "print(data[1 : : 2])"
   ]
  },
  {
   "cell_type": "code",
   "execution_count": 88,
   "id": "82a44f17-a742-4f30-91db-41f7c6edaeb4",
   "metadata": {},
   "outputs": [
    {
     "name": "stdout",
     "output_type": "stream",
     "text": [
      "nisu\n"
     ]
    }
   ],
   "source": [
    "data=\"question\"\n",
    "print(data[: : -2])"
   ]
  },
  {
   "cell_type": "code",
   "execution_count": 91,
   "id": "b511c8ae-58e1-459e-b81c-4bd80b2d5b5f",
   "metadata": {},
   "outputs": [
    {
     "name": "stdout",
     "output_type": "stream",
     "text": [
      "nisu\n"
     ]
    }
   ],
   "source": [
    "print(data[-1 :-8: -2])"
   ]
  },
  {
   "cell_type": "code",
   "execution_count": 92,
   "id": "93dfade3-fb49-49b8-9c86-d7e146ae93fb",
   "metadata": {},
   "outputs": [
    {
     "name": "stdout",
     "output_type": "stream",
     "text": [
      "nisu\n"
     ]
    }
   ],
   "source": [
    "print(data[-1 : : -2])"
   ]
  },
  {
   "cell_type": "code",
   "execution_count": 94,
   "id": "58a9e0a5-b8e1-4216-986c-656135fb6b1c",
   "metadata": {},
   "outputs": [
    {
     "name": "stdout",
     "output_type": "stream",
     "text": [
      "m\n"
     ]
    }
   ],
   "source": [
    "data=\"completed\"\n",
    "print(data[2:5:3])"
   ]
  },
  {
   "cell_type": "markdown",
   "id": "49b8a199-347f-4491-9241-c3753b7a4554",
   "metadata": {},
   "source": [
    "##### swapcase :convert upper to lower vice versa"
   ]
  },
  {
   "cell_type": "code",
   "execution_count": 100,
   "id": "04159e49-bc61-4ae9-8f26-b79bc73f971f",
   "metadata": {},
   "outputs": [
    {
     "data": {
      "text/plain": [
       "'iNdiA'"
      ]
     },
     "execution_count": 100,
     "metadata": {},
     "output_type": "execute_result"
    }
   ],
   "source": [
    "data=\"InDIa\"\n",
    "data.swapcase()\n"
   ]
  },
  {
   "cell_type": "code",
   "execution_count": 101,
   "id": "875fd948-4944-46a8-9c62-ab3f0c22bec8",
   "metadata": {},
   "outputs": [
    {
     "name": "stdout",
     "output_type": "stream",
     "text": [
      "InDIa\n",
      "iNdiA\n"
     ]
    }
   ],
   "source": [
    "data=\"InDIa\"\n",
    "print(data)\n",
    "data2 =data.swapcase()\n",
    "print(data2)"
   ]
  },
  {
   "cell_type": "markdown",
   "id": "379673a3-844b-44df-b073-d523f74cc476",
   "metadata": {},
   "source": [
    "##### len()"
   ]
  },
  {
   "cell_type": "code",
   "execution_count": 3,
   "id": "f1108827-6163-4c90-8bf7-36f2ea549dab",
   "metadata": {},
   "outputs": [
    {
     "name": "stdout",
     "output_type": "stream",
     "text": [
      "33\n"
     ]
    }
   ],
   "source": [
    "data =\"njdhfjuhgjfbfbgj  for nghjj  jk ?\"\n",
    "print(len(data))"
   ]
  },
  {
   "cell_type": "markdown",
   "id": "f1f61bf4-f18e-4620-b57c-0d2c788a83a7",
   "metadata": {},
   "source": [
    "##### count  :  TypeError: count() takes at least 1 argument (0 given)"
   ]
  },
  {
   "cell_type": "code",
   "execution_count": 8,
   "id": "1c341111-6962-4f69-b11e-38d119088d31",
   "metadata": {},
   "outputs": [
    {
     "ename": "TypeError",
     "evalue": "'builtin_function_or_method' object is not subscriptable",
     "output_type": "error",
     "traceback": [
      "\u001b[1;31m---------------------------------------------------------------------------\u001b[0m",
      "\u001b[1;31mTypeError\u001b[0m                                 Traceback (most recent call last)",
      "Cell \u001b[1;32mIn[8], line 1\u001b[0m\n\u001b[1;32m----> 1\u001b[0m \u001b[38;5;28mprint\u001b[39m(data\u001b[38;5;241m.\u001b[39mcount[\u001b[38;5;124m\"\u001b[39m\u001b[38;5;124mg\u001b[39m\u001b[38;5;124m\"\u001b[39m])\n",
      "\u001b[1;31mTypeError\u001b[0m: 'builtin_function_or_method' object is not subscriptable"
     ]
    }
   ],
   "source": [
    "print(data.count[\"g\"])"
   ]
  },
  {
   "cell_type": "code",
   "execution_count": null,
   "id": "f61e21a2-9927-42f0-b705-f862c37c6134",
   "metadata": {},
   "outputs": [],
   "source": []
  },
  {
   "cell_type": "markdown",
   "id": "e791b6a7-9f97-4b24-9474-24b3b460f19a",
   "metadata": {},
   "source": [
    "##### find  : returns index number"
   ]
  },
  {
   "cell_type": "code",
   "execution_count": 111,
   "id": "39570645-bfac-44bc-aa01-91c25b65a76f",
   "metadata": {},
   "outputs": [
    {
     "name": "stdout",
     "output_type": "stream",
     "text": [
      "18\n"
     ]
    }
   ],
   "source": [
    "print(data.find(\"for\"))"
   ]
  },
  {
   "cell_type": "code",
   "execution_count": 112,
   "id": "e988aa3d-4bb4-4727-bf2f-eb5ccfe7b12e",
   "metadata": {},
   "outputs": [
    {
     "name": "stdout",
     "output_type": "stream",
     "text": [
      "-1\n"
     ]
    }
   ],
   "source": [
    "print(data.find(\"jk\"))"
   ]
  },
  {
   "cell_type": "markdown",
   "id": "0de56235-dfec-4371-ac29-43a17caa2872",
   "metadata": {},
   "source": [
    "##### endswith : it will chck if the sentence ends given ? . or  not  and return true or false"
   ]
  },
  {
   "cell_type": "code",
   "execution_count": 121,
   "id": "d4cd3808-874b-483f-a0cd-609bececec4a",
   "metadata": {},
   "outputs": [
    {
     "name": "stdout",
     "output_type": "stream",
     "text": [
      "True\n"
     ]
    }
   ],
   "source": [
    "print(data.endswith(\"?\"))"
   ]
  },
  {
   "cell_type": "markdown",
   "id": "267bc895-d8bf-4ae6-b851-78a8f3e2c780",
   "metadata": {},
   "source": [
    "##### replace  : you can replace on char or group of char or entire sentence"
   ]
  },
  {
   "cell_type": "code",
   "execution_count": 137,
   "id": "94a83c6d-254e-4c19-956e-8ef96c3e0f4c",
   "metadata": {},
   "outputs": [
    {
     "name": "stdout",
     "output_type": "stream",
     "text": [
      "njdhfjuhgjfbfbgj  basma nghjj  jk ?\n"
     ]
    }
   ],
   "source": [
    "print(data.replace(\"for\" ,\"basma\"))"
   ]
  },
  {
   "cell_type": "code",
   "execution_count": 138,
   "id": "e616fab1-f8f2-4072-9864-44e9a9660d13",
   "metadata": {},
   "outputs": [
    {
     "name": "stdout",
     "output_type": "stream",
     "text": [
      "a\n"
     ]
    }
   ],
   "source": [
    "print(data.replace(\"njdhfjuhgjfbfbgj  for nghjj  jk ?\" ,\"a\"))"
   ]
  },
  {
   "cell_type": "markdown",
   "id": "f903277d-3fff-48a6-ba4c-b8d8e59fd3b2",
   "metadata": {},
   "source": [
    "##### check whether is lower, upper   or not¶  : true or false"
   ]
  },
  {
   "cell_type": "code",
   "execution_count": 152,
   "id": "34f86bf8-1bd7-4686-b49e-7dde305155b8",
   "metadata": {},
   "outputs": [],
   "source": [
    "z=\"whats goin on\""
   ]
  },
  {
   "cell_type": "code",
   "execution_count": 153,
   "id": "d3886015-de3a-47d1-8205-559d5b7602b1",
   "metadata": {},
   "outputs": [
    {
     "name": "stdout",
     "output_type": "stream",
     "text": [
      "False\n"
     ]
    }
   ],
   "source": [
    "print(z.isupper())"
   ]
  },
  {
   "cell_type": "code",
   "execution_count": 155,
   "id": "d561ce6b-070f-4f8a-bc9d-879ff6d247eb",
   "metadata": {},
   "outputs": [
    {
     "name": "stdout",
     "output_type": "stream",
     "text": [
      "True\n"
     ]
    }
   ],
   "source": [
    "print(z.islower())"
   ]
  },
  {
   "cell_type": "markdown",
   "id": "51ce126b-96d3-4014-9480-40f9188b69b2",
   "metadata": {},
   "source": [
    "whatever is enclosed in string  with \" \"  will be string\n",
    "#####  check whether string contain num or char or alpha numeric : true or false"
   ]
  },
  {
   "cell_type": "code",
   "execution_count": 156,
   "id": "f8dbf5b1-b23c-4425-8f1d-dc6a5683031e",
   "metadata": {},
   "outputs": [
    {
     "name": "stdout",
     "output_type": "stream",
     "text": [
      "<class 'str'>\n"
     ]
    }
   ],
   "source": [
    "p=\"123456\"\n",
    "print(type(p))"
   ]
  },
  {
   "cell_type": "code",
   "execution_count": 170,
   "id": "3410c562-2b9d-4cbf-b8d5-6dc7b19e6e83",
   "metadata": {},
   "outputs": [
    {
     "name": "stdout",
     "output_type": "stream",
     "text": [
      "True\n"
     ]
    }
   ],
   "source": [
    "#looks for numbers\n",
    "print(p.isnumeric())"
   ]
  },
  {
   "cell_type": "code",
   "execution_count": 172,
   "id": "669f70cd-d8dd-4089-ae28-eb5337f9015c",
   "metadata": {},
   "outputs": [
    {
     "name": "stdout",
     "output_type": "stream",
     "text": [
      "True\n"
     ]
    }
   ],
   "source": [
    "q=\"123njh\"\n",
    "print(q.isalnum())"
   ]
  },
  {
   "cell_type": "code",
   "execution_count": 173,
   "id": "07707f21-8c6a-4aa6-a10c-6416b83b020e",
   "metadata": {},
   "outputs": [
    {
     "name": "stdout",
     "output_type": "stream",
     "text": [
      "True\n"
     ]
    }
   ],
   "source": [
    "#is alpha looks for character alphabets\n",
    "r=\"onlyalphabets\"\n",
    "print(r.isalpha())"
   ]
  },
  {
   "cell_type": "markdown",
   "id": "8bf4d400-3186-48e8-aac6-6fbce95eb011",
   "metadata": {},
   "source": [
    "## 3. String  values  are immutable   : means once dclared cannot b changed\n",
    "   but caN be replACED"
   ]
  },
  {
   "cell_type": "markdown",
   "id": "c0386f40-d47a-404a-9183-253eccb0786a",
   "metadata": {},
   "source": [
    "##### strings can be changed only with  replace function."
   ]
  },
  {
   "cell_type": "code",
   "execution_count": null,
   "id": "5edbe9a7-faea-4950-99ee-1f7b2a0076c6",
   "metadata": {},
   "outputs": [],
   "source": []
  },
  {
   "cell_type": "code",
   "execution_count": null,
   "id": "f356c88b-74e2-447d-8f46-777ba37ed0ba",
   "metadata": {},
   "outputs": [],
   "source": []
  }
 ],
 "metadata": {
  "kernelspec": {
   "display_name": "Python 3 (ipykernel)",
   "language": "python",
   "name": "python3"
  },
  "language_info": {
   "codemirror_mode": {
    "name": "ipython",
    "version": 3
   },
   "file_extension": ".py",
   "mimetype": "text/x-python",
   "name": "python",
   "nbconvert_exporter": "python",
   "pygments_lexer": "ipython3",
   "version": "3.12.4"
  }
 },
 "nbformat": 4,
 "nbformat_minor": 5
}
