{
 "cells": [
  {
   "cell_type": "markdown",
   "id": "9d61b632-f9f6-4f12-a9bd-1a89cc2002d0",
   "metadata": {},
   "source": [
    "# List \n",
    "is identify by []\n",
    "it is mutable\n",
    "it is heterogenous\n",
    "it allow duplicate\n",
    "\n",
    "it have index value start from 0"
   ]
  },
  {
   "cell_type": "markdown",
   "id": "e6599a70-b44a-4369-b68e-448d52a3be36",
   "metadata": {},
   "source": [
    "### create an empty list using []"
   ]
  },
  {
   "cell_type": "code",
   "execution_count": 1,
   "id": "ccc915a5-0139-48b6-a5d4-1493f35670fa",
   "metadata": {},
   "outputs": [
    {
     "name": "stdout",
     "output_type": "stream",
     "text": [
      "[]\n",
      "<class 'list'>\n"
     ]
    }
   ],
   "source": [
    "#EMPTY LIST\n",
    "var1=[]\n",
    "print(var1)\n",
    "print(type(var1))"
   ]
  },
  {
   "cell_type": "markdown",
   "id": "9ff6407c-e5e9-457a-a671-89d2dec14276",
   "metadata": {},
   "source": [
    "### create an empty list using the constructor  : \n",
    "here  we ar calling the with rpct to the (list is a )keyword ,declared with ()"
   ]
  },
  {
   "cell_type": "code",
   "execution_count": 2,
   "id": "01c0fe99-a73f-4bea-809a-f27d37ec00af",
   "metadata": {},
   "outputs": [
    {
     "name": "stdout",
     "output_type": "stream",
     "text": [
      "[]\n",
      "<class 'list'>\n"
     ]
    }
   ],
   "source": [
    "var2=list()\n",
    "print(var2)\n",
    "print(type(var2))"
   ]
  },
  {
   "cell_type": "markdown",
   "id": "1228f412-2d33-43b7-816a-ec2207929e7e",
   "metadata": {},
   "source": [
    "### insert the value using the square brackets []¶"
   ]
  },
  {
   "cell_type": "code",
   "execution_count": 3,
   "id": "c4dea1d5-61aa-42ad-9164-3dca48b0a3cd",
   "metadata": {},
   "outputs": [
    {
     "name": "stdout",
     "output_type": "stream",
     "text": [
      "[1, 2, 3, 'for', 'at', True]\n",
      "<class 'list'>\n"
     ]
    }
   ],
   "source": [
    "#heterogenous\n",
    "var3=[1,2,3,\"for\",\"at\",True]\n",
    "print(var3)\n",
    "print(type(var3))"
   ]
  },
  {
   "cell_type": "code",
   "execution_count": 4,
   "id": "4a954951-6892-4406-9e11-6183f962de95",
   "metadata": {},
   "outputs": [
    {
     "name": "stdout",
     "output_type": "stream",
     "text": [
      "[12, 12, 12, 12, 12, 12, 12, 12]\n",
      "<class 'list'>\n"
     ]
    }
   ],
   "source": [
    "#duplicate\n",
    "var4=[12,12,12,12,12,12,12,12]\n",
    "print(var4)\n",
    "print(type(var4))"
   ]
  },
  {
   "cell_type": "markdown",
   "id": "7328b881-d713-416c-ab07-60709b855d13",
   "metadata": {},
   "source": [
    "### insert the value using the constructor  : ([]) its a format   "
   ]
  },
  {
   "cell_type": "code",
   "execution_count": 14,
   "id": "0a460737-75d3-4c16-b5b8-1e9ae63e75dc",
   "metadata": {},
   "outputs": [
    {
     "name": "stdout",
     "output_type": "stream",
     "text": [
      "[12, 19.87, 'go', False]\n",
      "<class 'list'>\n"
     ]
    }
   ],
   "source": [
    "var5=list([12,19.87,\"go\",False,\"afreen\"])\n",
    "print(var5)\n",
    "print(type(var5))"
   ]
  },
  {
   "cell_type": "code",
   "execution_count": 16,
   "id": "92cf264c-f3f8-4ee5-91a9-0ea7af8633c1",
   "metadata": {},
   "outputs": [],
   "source": [
    "data=[12,\"priya\",13,\"yogesh\",14,\"anup\",15,\"vidiya\",16,\"fiza\"]"
   ]
  },
  {
   "cell_type": "markdown",
   "id": "7c283a34-5cb1-490e-96c2-65d5b2db5207",
   "metadata": {},
   "source": [
    "### accessing the element using index no. or access the name priya"
   ]
  },
  {
   "cell_type": "code",
   "execution_count": 17,
   "id": "b854bad1-bf97-42f0-9a78-9c2a498a9483",
   "metadata": {},
   "outputs": [
    {
     "name": "stdout",
     "output_type": "stream",
     "text": [
      "priya\n"
     ]
    }
   ],
   "source": [
    "\n",
    "print(data[1])"
   ]
  },
  {
   "cell_type": "markdown",
   "id": "1b5432f0-472b-4860-b90d-29a557b620bc",
   "metadata": {},
   "source": [
    "###### print the last element¶\n",
    "\n"
   ]
  },
  {
   "cell_type": "code",
   "execution_count": 37,
   "id": "c8d117f4-5043-4e62-a302-9c99be64d261",
   "metadata": {},
   "outputs": [
    {
     "name": "stdout",
     "output_type": "stream",
     "text": [
      "fiza\n"
     ]
    }
   ],
   "source": [
    "print(data[-1])"
   ]
  },
  {
   "cell_type": "markdown",
   "id": "fa66e3f0-97e4-4598-b990-cd33b875e78e",
   "metadata": {},
   "source": [
    "##### only numeric value"
   ]
  },
  {
   "cell_type": "code",
   "execution_count": 41,
   "id": "cd1343fb-a220-4416-9d09-e9b813c5ea88",
   "metadata": {},
   "outputs": [
    {
     "name": "stdout",
     "output_type": "stream",
     "text": [
      "[12, 13, 14, 15, 16]\n",
      "[12, 13, 14, 15, 16]\n"
     ]
    }
   ],
   "source": [
    "print(data[0 : : 2])\n",
    "print(data[:  : 2])"
   ]
  },
  {
   "cell_type": "markdown",
   "id": "a7673170-cfad-4359-88d1-18ece1b6f992",
   "metadata": {},
   "source": [
    "##### only alpha value"
   ]
  },
  {
   "cell_type": "code",
   "execution_count": 44,
   "id": "5c23cd61-df3d-4ccb-85d0-6386a89f3cab",
   "metadata": {},
   "outputs": [
    {
     "name": "stdout",
     "output_type": "stream",
     "text": [
      "['priya', 'yogesh', 'anup', 'vidiya', 'fiza']\n",
      "['priya', 'yogesh', 'anup', 'vidiya', 'fiza']\n"
     ]
    }
   ],
   "source": [
    "print(data[1 : : 2])\n",
    "\n",
    "print(data[1 : 10: 2])"
   ]
  },
  {
   "cell_type": "markdown",
   "id": "8bc42243-0ef2-4c73-a10c-a6983c1444d5",
   "metadata": {},
   "source": [
    "##### that will accept the username and password¶"
   ]
  },
  {
   "cell_type": "code",
   "execution_count": 27,
   "id": "aa1cb176-b679-485c-be1f-de08959dfe01",
   "metadata": {},
   "outputs": [
    {
     "name": "stdin",
     "output_type": "stream",
     "text": [
      "enter your name bas\n",
      "enter you password 123\n"
     ]
    }
   ],
   "source": [
    "username=input(\"enter your name\")\n",
    "password=int(input(\"enter you password\"))\n",
    "\n",
    "# here we declaring  username as string and password\n",
    "        "
   ]
  },
  {
   "cell_type": "markdown",
   "id": "b558eb0a-df3e-4899-af05-d5ad7defa2bb",
   "metadata": {},
   "source": [
    "##### username in string and password is in numeric"
   ]
  },
  {
   "cell_type": "code",
   "execution_count": 35,
   "id": "4e961fd0-d3ef-4d99-aaaa-dff95a5fa2bd",
   "metadata": {},
   "outputs": [
    {
     "name": "stdin",
     "output_type": "stream",
     "text": [
      "enter your name nnxj\n",
      "enter you password nnnnkj12\n"
     ]
    },
    {
     "name": "stdout",
     "output_type": "stream",
     "text": [
      "right nnxj nnnnkj12\n"
     ]
    }
   ],
   "source": [
    "# print only if   username.isalpha()   and password.isnumeric():   \n",
    "\n",
    "\n",
    "\n",
    "username=input(\"enter your name\")\n",
    "password=input(\"enter you password\")\n",
    "if username.isalpha()   and password.isnumeric():\n",
    "    print(\"right\",username ,password)\n",
    "else:\n",
    "    print(\"wrONG  username &password\")\n",
    "\n",
    "\n",
    "#here we are using string functions .isalpha()   and  isnumeric():  bzc 1. input by default accecpt only string"
   ]
  },
  {
   "cell_type": "code",
   "execution_count": 36,
   "id": "b7471ba0-c75e-4272-8890-67f11eb62982",
   "metadata": {},
   "outputs": [
    {
     "name": "stdin",
     "output_type": "stream",
     "text": [
      "enter your name njbjh\n",
      "enter you password nbjb132\n"
     ]
    },
    {
     "name": "stdout",
     "output_type": "stream",
     "text": [
      "right nnxj nbjb132\n"
     ]
    }
   ],
   "source": [
    "sername=input(\"enter your name\")\n",
    "password=input(\"enter you password\")\n",
    "if username.isalpha()   and password.isalnum():\n",
    "    print(\"right\",username ,password)\n",
    "else:\n",
    "    print(\"wrONG  username &password\")\n"
   ]
  },
  {
   "cell_type": "code",
   "execution_count": 33,
   "id": "773e87e0-773e-4433-9f92-3f2a07243a4f",
   "metadata": {},
   "outputs": [
    {
     "name": "stdin",
     "output_type": "stream",
     "text": [
      "enter your name bjb\n",
      "enter you password 123\n"
     ]
    },
    {
     "name": "stdout",
     "output_type": "stream",
     "text": [
      "right bjb 123\n"
     ]
    }
   ],
   "source": [
    "\n",
    "username=input(\"enter your name\")\n",
    "password=int(input(\"enter you password\"))\n",
    "if username.isalpha()  :\n",
    "    print(\"right\",username ,password)\n",
    "else:\n",
    "    print(\"wrONG  username &password\")\n"
   ]
  },
  {
   "cell_type": "markdown",
   "id": "bf19c5a6-4d3e-46ac-ab9c-688050239a05",
   "metadata": {},
   "source": [
    "# 06-11-2024"
   ]
  },
  {
   "cell_type": "code",
   "execution_count": null,
   "id": "a7e5730a-a092-433c-b8d5-22ec663aa897",
   "metadata": {},
   "outputs": [],
   "source": []
  },
  {
   "cell_type": "code",
   "execution_count": null,
   "id": "49be3ae4-b404-498a-aa50-ad4aff82aed5",
   "metadata": {},
   "outputs": [],
   "source": [
    "data=[\"red\",\"black\",\"orange\",\"green\"]\n",
    "\n",
    "print(data)"
   ]
  },
  {
   "cell_type": "markdown",
   "id": "fa8bede1-e41a-46cc-9c91-1b078c1c0a0e",
   "metadata": {},
   "source": [
    "#### check wether the white color is present or not"
   ]
  },
  {
   "cell_type": "code",
   "execution_count": 46,
   "id": "e1448127-24cb-4721-a5c2-d9d1d128adf1",
   "metadata": {},
   "outputs": [
    {
     "name": "stdout",
     "output_type": "stream",
     "text": [
      "False\n"
     ]
    }
   ],
   "source": [
    "print(\"white\" in data)"
   ]
  },
  {
   "cell_type": "markdown",
   "id": "1f8e5f0e-e005-4001-945f-8082da7fd2b0",
   "metadata": {},
   "source": [
    "#### membership operator"
   ]
  },
  {
   "cell_type": "code",
   "execution_count": 51,
   "id": "4bd371a1-77cb-4102-9558-322b2e08492a",
   "metadata": {},
   "outputs": [
    {
     "name": "stdout",
     "output_type": "stream",
     "text": [
      "not prsent\n"
     ]
    }
   ],
   "source": [
    "if \"white\" in data:\n",
    "    print(\"present\")\n",
    "else :\n",
    "    print(\"not prsent\")"
   ]
  },
  {
   "cell_type": "markdown",
   "id": "986611ee-ebe9-4ecc-9b17-107f76c90c21",
   "metadata": {},
   "source": [
    "### Add the element in list   by usings list methods    :   var_name.method_name( arguments1)\n",
    "1.append() :  \n",
    "it will add the element at the end of list\n",
    "it will add only one element at a time\n",
    "and if we add mulitiple element then it will create a nested list\n"
   ]
  },
  {
   "cell_type": "code",
   "execution_count": 52,
   "id": "83ab29b7-6933-4ea7-9fe4-af2d654331ff",
   "metadata": {},
   "outputs": [
    {
     "name": "stdout",
     "output_type": "stream",
     "text": [
      "[12, 13, 14, 15, 16]\n"
     ]
    }
   ],
   "source": [
    "data=[12,13,14,15,16]\n",
    "print(data)\n"
   ]
  },
  {
   "cell_type": "code",
   "execution_count": 53,
   "id": "65ba26dc-54de-40c1-b438-90c95d120a3a",
   "metadata": {},
   "outputs": [
    {
     "data": {
      "text/plain": [
       "[12, 13, 14, 15, 16, 17]"
      ]
     },
     "execution_count": 53,
     "metadata": {},
     "output_type": "execute_result"
    }
   ],
   "source": [
    "#add the element 17\n",
    "data.append(17)\n",
    "data"
   ]
  },
  {
   "cell_type": "raw",
   "id": "1ae3da70-a160-4058-9ee9-2e89a8092a68",
   "metadata": {},
   "source": [
    "data.append(12,1,314)\n",
    "\n",
    "TypeError: list.append() takes exactly one argument (3 given)\n"
   ]
  },
  {
   "cell_type": "code",
   "execution_count": 55,
   "id": "6b94cd5b-a366-42a7-a341-faa7b04ddf41",
   "metadata": {},
   "outputs": [
    {
     "data": {
      "text/plain": [
       "[12, 13, 14, 15, 16, 17, [100, 200, 300]]"
      ]
     },
     "execution_count": 55,
     "metadata": {},
     "output_type": "execute_result"
    }
   ],
   "source": [
    "data.append([100,200,300])   \n",
    "\n",
    "\n",
    "data\n",
    "\n",
    "# this list will conatin on index value"
   ]
  },
  {
   "cell_type": "markdown",
   "id": "b21508ba-5dec-46b1-aa79-b4e528005fc2",
   "metadata": {},
   "source": [
    "#### 2.index mthod (1 arg)  :   return index no "
   ]
  },
  {
   "cell_type": "code",
   "execution_count": 66,
   "id": "7dc1682f-e4c8-4b43-85c2-850ffe706c93",
   "metadata": {},
   "outputs": [
    {
     "name": "stdout",
     "output_type": "stream",
     "text": [
      "0\n"
     ]
    }
   ],
   "source": [
    "print(data.index(12))"
   ]
  },
  {
   "cell_type": "code",
   "execution_count": 68,
   "id": "a6e7562a-2064-467e-bf29-47a849c6bd6a",
   "metadata": {},
   "outputs": [],
   "source": [
    "#      0   1   2   3   4   5   6    7\n",
    "data2=[12, 13, 14, 15, 16, 17,18 ,[100, 200, 300]]"
   ]
  },
  {
   "cell_type": "markdown",
   "id": "e5d4bb4c-7efc-4bb3-9178-06a7a7898907",
   "metadata": {},
   "source": [
    "#### fetching   the inner values of list"
   ]
  },
  {
   "cell_type": "code",
   "execution_count": 73,
   "id": "44b020af-b94b-479b-a02e-c6c6254f2251",
   "metadata": {},
   "outputs": [
    {
     "name": "stdout",
     "output_type": "stream",
     "text": [
      "100\n"
     ]
    }
   ],
   "source": [
    "print(data2[7][0])"
   ]
  },
  {
   "cell_type": "markdown",
   "id": "e5c5aac3-a46f-4390-941a-cc582a5f7775",
   "metadata": {},
   "source": [
    "### examples"
   ]
  },
  {
   "cell_type": "code",
   "execution_count": 88,
   "id": "98a5a704-8686-45af-b935-04f3be350f68",
   "metadata": {},
   "outputs": [
    {
     "name": "stdout",
     "output_type": "stream",
     "text": [
      "[1, 2, [11, 12, 13, [100, 200, 300]], 14]\n"
     ]
    }
   ],
   "source": [
    "#      0  1               2       3            \n",
    "#\n",
    "data3 = [1,2,[11,12,13,[100,200,300]],14]\n",
    "#              0  1 2   3 [0    1   2]\n",
    "print(data3)"
   ]
  },
  {
   "cell_type": "code",
   "execution_count": 89,
   "id": "8971af2c-c63d-43e9-a311-80eb5b19679e",
   "metadata": {},
   "outputs": [
    {
     "name": "stdout",
     "output_type": "stream",
     "text": [
      "fetch 14 : 14\n"
     ]
    }
   ],
   "source": [
    "print(\"fetch 14 :\",data3[3])"
   ]
  },
  {
   "cell_type": "code",
   "execution_count": 90,
   "id": "cd0c8104-83f4-4dd9-b638-ae8558893741",
   "metadata": {},
   "outputs": [
    {
     "name": "stdout",
     "output_type": "stream",
     "text": [
      "fetch  12 ::: 12\n"
     ]
    }
   ],
   "source": [
    "print(\"fetch  12 :::\" ,data3[2][1])"
   ]
  },
  {
   "cell_type": "code",
   "execution_count": 94,
   "id": "0ece9fcc-1bfa-46bf-bea4-f2190eace9cf",
   "metadata": {},
   "outputs": [
    {
     "name": "stdout",
     "output_type": "stream",
     "text": [
      "[11, 12, 13, [100, 200, 300]]\n"
     ]
    }
   ],
   "source": [
    "print(data3[2])"
   ]
  },
  {
   "cell_type": "code",
   "execution_count": 97,
   "id": "bb0aa477-d625-4970-bef0-012085afe876",
   "metadata": {},
   "outputs": [
    {
     "name": "stdout",
     "output_type": "stream",
     "text": [
      "[11, 12, 13]\n"
     ]
    }
   ],
   "source": [
    "print(data3[2][0:3])"
   ]
  },
  {
   "cell_type": "code",
   "execution_count": 98,
   "id": "aa9878b5-7f99-4116-a370-2391385a21e7",
   "metadata": {},
   "outputs": [
    {
     "name": "stdout",
     "output_type": "stream",
     "text": [
      "[100, 200, 300]\n"
     ]
    }
   ],
   "source": [
    "print(data3[2][3])"
   ]
  },
  {
   "cell_type": "code",
   "execution_count": 91,
   "id": "28dd3751-8f91-466d-a9b4-520ca4c2aac3",
   "metadata": {},
   "outputs": [
    {
     "name": "stdout",
     "output_type": "stream",
     "text": [
      "fetch  [100, 200, 300]\n"
     ]
    }
   ],
   "source": [
    "print(\"fetch \" ,data3[2][3][0:3])    # here we are nesting list elemnts"
   ]
  },
  {
   "cell_type": "code",
   "execution_count": null,
   "id": "b625bb4a-a989-4df8-93ac-b4165d1b4238",
   "metadata": {},
   "outputs": [],
   "source": []
  },
  {
   "cell_type": "markdown",
   "id": "7ce84112-056f-4893-bd3b-5f7379a10b97",
   "metadata": {},
   "source": [
    "### 2.  Insert(indexnumber ,value)  :expected 2 arguments\n",
    "1. insert method  will add the element at specified location\n",
    "2. TypeError ( in index if you  1 agru ) : insert expected 2 arguments, got 1\r\n"
   ]
  },
  {
   "cell_type": "code",
   "execution_count": 100,
   "id": "693061b0-d310-4575-b4e8-813283ecdb45",
   "metadata": {},
   "outputs": [
    {
     "name": "stdout",
     "output_type": "stream",
     "text": [
      "['sunday', 'tuesday', 'wednesday', 'saturday']\n"
     ]
    }
   ],
   "source": [
    "day=[\"sunday\",\"tuesday\",\"wednesday\",\"saturday\"]\n",
    "print(day)"
   ]
  },
  {
   "cell_type": "code",
   "execution_count": 101,
   "id": "8291ba1c-43bf-4188-9ac1-01a4ddd19e2a",
   "metadata": {},
   "outputs": [
    {
     "name": "stdout",
     "output_type": "stream",
     "text": [
      "['sunday', 'monday', 'tuesday', 'wednesday', 'saturday']\n"
     ]
    }
   ],
   "source": [
    "day.insert(1,\"monday\")\n",
    "print(day)"
   ]
  },
  {
   "cell_type": "code",
   "execution_count": 106,
   "id": "14890d09-23ee-49ee-b494-277fd2b28d16",
   "metadata": {},
   "outputs": [
    {
     "name": "stdout",
     "output_type": "stream",
     "text": [
      "['sunday', 'monday', 'tuesday', 'wednesday', ['thursday', 'friday'], ['thursday', 'friday'], 'saturday']\n"
     ]
    }
   ],
   "source": [
    "day.insert(4,[\"thursday\",\"friday\"])  #TypeError: insert expected 2 arguments, got 3\n",
    "                                     # so  go for list\n",
    "\n",
    "print(day)"
   ]
  },
  {
   "cell_type": "code",
   "execution_count": 107,
   "id": "bdc9ca4d-dc6c-4e8a-bec5-6d0c47cf09e7",
   "metadata": {},
   "outputs": [
    {
     "name": "stdout",
     "output_type": "stream",
     "text": [
      "['sunday', 'monday', 'tuesday', 'wednesday', ['thursday', 'friday'], ['thursday', 'friday'], 'saturday']\n"
     ]
    }
   ],
   "source": [
    "print(day)"
   ]
  },
  {
   "cell_type": "markdown",
   "id": "abe09e0c-6ca5-4ce9-bf75-8bc407321682",
   "metadata": {},
   "source": [
    "### 3. extend\n",
    "\r\n",
    "it will add the element at the end\r\n",
    "it will not go for the approach of nested list instead it will just extend the list\r\n"
   ]
  },
  {
   "cell_type": "code",
   "execution_count": 104,
   "id": "da3d8a3b-5c85-4d1d-9604-352251d17be9",
   "metadata": {},
   "outputs": [
    {
     "name": "stdout",
     "output_type": "stream",
     "text": [
      "['hyd', 'mumbai', 'patna']\n"
     ]
    }
   ],
   "source": [
    "city=[\"hyd\",\"mumbai\",\"patna\"]\n",
    "print(city)"
   ]
  },
  {
   "cell_type": "code",
   "execution_count": 105,
   "id": "2cddcdf7-2ad3-42c9-9de8-5887ecee66c4",
   "metadata": {},
   "outputs": [
    {
     "name": "stdout",
     "output_type": "stream",
     "text": [
      "['delhi', 'banglore', 'thane']\n"
     ]
    }
   ],
   "source": [
    "newcity=[\"delhi\",\"banglore\",\"thane\"]\n",
    "print(newcity)"
   ]
  },
  {
   "cell_type": "code",
   "execution_count": 25,
   "id": "e89524d4-c29b-4a7e-a896-3278132b79b8",
   "metadata": {},
   "outputs": [
    {
     "name": "stdout",
     "output_type": "stream",
     "text": [
      "['hyd', 'mumbai', 'patna', 'delhi', 'banglore', 'thane']\n"
     ]
    }
   ],
   "source": [
    "city.extend(newcity)\n",
    "print(city)"
   ]
  },
  {
   "cell_type": "code",
   "execution_count": 30,
   "id": "53e5d3b4-4cc9-49c5-bdc4-70df174365f8",
   "metadata": {},
   "outputs": [
    {
     "name": "stdout",
     "output_type": "stream",
     "text": [
      "['hyd', 'mumbai', 'patna', 'delhi', 'banglore', 'thane', 'delhi', 'banglore', 'thane', 1, 2, 3]\n"
     ]
    }
   ],
   "source": [
    "city.extend([1,2,3])\n",
    "print(city)"
   ]
  },
  {
   "cell_type": "markdown",
   "id": "9b094d5e-66df-4933-9dc4-c82e7cb130e2",
   "metadata": {},
   "source": [
    "### method 2  : "
   ]
  },
  {
   "cell_type": "code",
   "execution_count": 29,
   "id": "eada5456-d4de-40f9-b95f-a255a5cb5b44",
   "metadata": {},
   "outputs": [
    {
     "name": "stdout",
     "output_type": "stream",
     "text": [
      "['d', 'bai', 'na']\n"
     ]
    }
   ],
   "source": [
    "city1=[\"d\",\"bai\",\"na\"]\n",
    "print(city1)"
   ]
  },
  {
   "cell_type": "code",
   "execution_count": 28,
   "id": "157a26ff-7362-47d8-afa7-3915e983fc77",
   "metadata": {},
   "outputs": [
    {
     "name": "stdout",
     "output_type": "stream",
     "text": [
      "['hy', 'mum', 'pat']\n"
     ]
    }
   ],
   "source": [
    "city2=[\"hy\",\"mum\",\"pat\"]\n",
    "print(city2)"
   ]
  },
  {
   "cell_type": "code",
   "execution_count": 31,
   "id": "37595d52-72d7-4a79-b51f-ce03ea2ad9fb",
   "metadata": {},
   "outputs": [
    {
     "name": "stdout",
     "output_type": "stream",
     "text": [
      "['d', 'bai', 'na', 'hy', 'mum', 'pat']\n"
     ]
    }
   ],
   "source": [
    "city1.extend([\"hy\",\"mum\",\"pat\"])\n",
    "print(city1)"
   ]
  },
  {
   "cell_type": "markdown",
   "id": "c5a93c68-9781-4563-92f6-74d83ad5eafb",
   "metadata": {},
   "source": [
    "### the extend can be achievd using the + operator\r\n"
   ]
  },
  {
   "cell_type": "code",
   "execution_count": 53,
   "id": "b8358436-50f9-4a82-b8b2-c17d27b72ffb",
   "metadata": {},
   "outputs": [],
   "source": [
    "programming=[\"c\",\"c++\",\"java\"]\n",
    "visualization=[\"powerbi\",\"excel\",\"tableau\"]\n"
   ]
  },
  {
   "cell_type": "code",
   "execution_count": 54,
   "id": "9d65f07f-3aa4-4069-b3ac-2ae338030929",
   "metadata": {},
   "outputs": [
    {
     "data": {
      "text/plain": [
       "['c', 'c++', 'java', 'powerbi', 'excel', 'tableau']"
      ]
     },
     "execution_count": 54,
     "metadata": {},
     "output_type": "execute_result"
    }
   ],
   "source": [
    "programming+visualization   # it is not stored anywhere"
   ]
  },
  {
   "cell_type": "code",
   "execution_count": 55,
   "id": "f790ceaf-b3a1-499f-bd05-00ddbf7f30f4",
   "metadata": {},
   "outputs": [
    {
     "name": "stdout",
     "output_type": "stream",
     "text": [
      "['c', 'c++', 'java']\n"
     ]
    }
   ],
   "source": [
    "print(programming)"
   ]
  },
  {
   "cell_type": "code",
   "execution_count": 56,
   "id": "85271332-ae66-4d8e-a16c-3e20a27babdd",
   "metadata": {},
   "outputs": [
    {
     "name": "stdout",
     "output_type": "stream",
     "text": [
      "['c', 'c++', 'java', 'powerbi', 'excel', 'tableau']\n"
     ]
    }
   ],
   "source": [
    "\n",
    "#1.\n",
    "programming=programming+visualization \n",
    "print(programming)"
   ]
  },
  {
   "cell_type": "code",
   "execution_count": 67,
   "id": "95b256b7-4d4f-4e4f-bdfa-97937f686ee1",
   "metadata": {},
   "outputs": [],
   "source": [
    "# 2.\n",
    "a=[\"van\"]\n",
    "b=[\"oops\"]\n"
   ]
  },
  {
   "cell_type": "code",
   "execution_count": 82,
   "id": "bcf9095f-a40e-4cd7-93f4-cbf00e6f4eb6",
   "metadata": {},
   "outputs": [
    {
     "name": "stdout",
     "output_type": "stream",
     "text": [
      "['van', 'oops', 'oops', 'oops']\n"
     ]
    }
   ],
   "source": [
    "a+= b\n",
    "print(a)"
   ]
  },
  {
   "cell_type": "markdown",
   "id": "514f03f1-d8ba-46de-890a-cedebcf611ae",
   "metadata": {},
   "source": [
    "### Modification   : Change or update or replacing the existing values"
   ]
  },
  {
   "cell_type": "code",
   "execution_count": null,
   "id": "b2b947e4-a2a1-42cb-9b92-0fb246f9b8d8",
   "metadata": {},
   "outputs": [],
   "source": []
  },
  {
   "cell_type": "code",
   "execution_count": 72,
   "id": "78e56dc2-78b9-441b-b412-55f1a103721c",
   "metadata": {},
   "outputs": [
    {
     "name": "stdout",
     "output_type": "stream",
     "text": [
      "[2, 3, 4, 5, 8]\n"
     ]
    }
   ],
   "source": [
    "data=[2,3,4,5,8]\n",
    "print(data)"
   ]
  },
  {
   "cell_type": "code",
   "execution_count": 73,
   "id": "781694ab-0608-4a17-b740-fc453729337c",
   "metadata": {},
   "outputs": [
    {
     "name": "stdout",
     "output_type": "stream",
     "text": [
      "8\n"
     ]
    }
   ],
   "source": [
    "\n",
    "print(data[4])"
   ]
  },
  {
   "cell_type": "code",
   "execution_count": 74,
   "id": "e8f48769-4f9a-469f-a4ec-929adcab3dc1",
   "metadata": {},
   "outputs": [
    {
     "name": "stdout",
     "output_type": "stream",
     "text": [
      "[2, 3, 4, 5, 100]\n"
     ]
    }
   ],
   "source": [
    "# update or change the value 10 to 100\n",
    "data[4]=100\n",
    "print(data)"
   ]
  },
  {
   "cell_type": "code",
   "execution_count": 75,
   "id": "f3d02cbf-4040-473f-985b-64cea8448864",
   "metadata": {},
   "outputs": [
    {
     "name": "stdout",
     "output_type": "stream",
     "text": [
      "[3, 4, 5]\n"
     ]
    }
   ],
   "source": [
    "print(data[1:4])"
   ]
  },
  {
   "cell_type": "markdown",
   "id": "b22c17d8-15f3-49ed-ac69-7b03b56d65b3",
   "metadata": {},
   "source": [
    "### change the mulitiple elements\n",
    "    4,6,and 8 to 40,60 and 80"
   ]
  },
  {
   "cell_type": "code",
   "execution_count": 79,
   "id": "33417909-82a2-4561-8cca-a982fabdc059",
   "metadata": {},
   "outputs": [
    {
     "name": "stdout",
     "output_type": "stream",
     "text": [
      "[2, 40, 60, 80, 100]\n"
     ]
    }
   ],
   "source": [
    "data[1:4]=40,60,80\n",
    "print(data)"
   ]
  },
  {
   "cell_type": "markdown",
   "id": "747506e1-8a88-40fc-b4a0-d5d0dd3bbea5",
   "metadata": {},
   "source": [
    "#### remove method () \n",
    "1. if element is not present it will through error\r",
    "2. \n",
    "if element is present it will simply remove that value¶"
   ]
  },
  {
   "cell_type": "markdown",
   "id": "d5706d14-8871-4e3b-86ab-1c3b8382b6d0",
   "metadata": {},
   "source": [
    "##### TypeError: list.remove() takes exactly one argument (2 given)"
   ]
  },
  {
   "cell_type": "code",
   "execution_count": 109,
   "id": "2c2ab8b2-673b-4070-a194-b2d6509aa770",
   "metadata": {},
   "outputs": [
    {
     "name": "stdout",
     "output_type": "stream",
     "text": [
      "['red', 'green', 'orange']\n"
     ]
    }
   ],
   "source": [
    "colors=[\"red\",\"green\",\"orange\"]\n",
    "print(colors)"
   ]
  },
  {
   "cell_type": "code",
   "execution_count": 114,
   "id": "f8c1adbb-0dcb-487b-9083-54fb6ada6cae",
   "metadata": {},
   "outputs": [
    {
     "ename": "ValueError",
     "evalue": "list.remove(x): x not in list",
     "output_type": "error",
     "traceback": [
      "\u001b[1;31m---------------------------------------------------------------------------\u001b[0m",
      "\u001b[1;31mValueError\u001b[0m                                Traceback (most recent call last)",
      "Cell \u001b[1;32mIn[114], line 1\u001b[0m\n\u001b[1;32m----> 1\u001b[0m colors\u001b[38;5;241m.\u001b[39mremove(\u001b[38;5;241m1\u001b[39m)\n\u001b[0;32m      2\u001b[0m \u001b[38;5;28mprint\u001b[39m(colors)\n",
      "\u001b[1;31mValueError\u001b[0m: list.remove(x): x not in list"
     ]
    }
   ],
   "source": [
    "colors.remove(\"red\")\n",
    "print(colors)"
   ]
  },
  {
   "cell_type": "markdown",
   "id": "077593a4-64c4-4eed-8372-3464e6b5867d",
   "metadata": {},
   "source": [
    "# pop method\n",
    "1. the pop method will bydefault remove the last element\r",
    "2. \n",
    "it can remove the element also from the specified index3. \r\n",
    "pop will remove only one value at a time"
   ]
  },
  {
   "cell_type": "code",
   "execution_count": 96,
   "id": "c5e1aceb-e965-4ab9-b701-e85bda065203",
   "metadata": {},
   "outputs": [
    {
     "name": "stdout",
     "output_type": "stream",
     "text": [
      "[1, 2, 3, 45]\n"
     ]
    }
   ],
   "source": [
    "val=[1,2,3,45]\n",
    "print(val)"
   ]
  },
  {
   "cell_type": "code",
   "execution_count": 97,
   "id": "5c4d0594-ab0b-4ed5-afd2-36545c016847",
   "metadata": {},
   "outputs": [
    {
     "name": "stdout",
     "output_type": "stream",
     "text": [
      "[1, 2, 3]\n"
     ]
    }
   ],
   "source": [
    "val.pop()\n",
    "print(val)"
   ]
  },
  {
   "cell_type": "code",
   "execution_count": 98,
   "id": "e0a97a78-39c5-4cec-b598-cbe9404cc8e2",
   "metadata": {},
   "outputs": [
    {
     "name": "stdout",
     "output_type": "stream",
     "text": [
      "[2, 3]\n"
     ]
    }
   ],
   "source": [
    "val.pop(0)\n",
    "print(val)"
   ]
  },
  {
   "cell_type": "markdown",
   "id": "2ff4075c-d502-45fe-8b29-a2ff083152e3",
   "metadata": {},
   "source": []
  },
  {
   "cell_type": "code",
   "execution_count": 3,
   "id": "36ba099c-a5fe-4bf3-908b-98c222957558",
   "metadata": {},
   "outputs": [
    {
     "name": "stdout",
     "output_type": "stream",
     "text": [
      "[1, 2, 3, 4, 5, 6, 67, 8, 9, 9]\n"
     ]
    }
   ],
   "source": [
    "data=[1,2,3,4,5,6,67,8,9,9]\n",
    "print(data)"
   ]
  },
  {
   "cell_type": "code",
   "execution_count": 6,
   "id": "44ab7786-8d71-4468-bffb-7b35b39de339",
   "metadata": {},
   "outputs": [
    {
     "ename": "TypeError",
     "evalue": "pop expected at most 1 argument, got 2",
     "output_type": "error",
     "traceback": [
      "\u001b[1;31m---------------------------------------------------------------------------\u001b[0m",
      "\u001b[1;31mTypeError\u001b[0m                                 Traceback (most recent call last)",
      "Cell \u001b[1;32mIn[6], line 1\u001b[0m\n\u001b[1;32m----> 1\u001b[0m data\u001b[38;5;241m.\u001b[39mpop(\u001b[38;5;241m2\u001b[39m,\u001b[38;5;241m3\u001b[39m)\n",
      "\u001b[1;31mTypeError\u001b[0m: pop expected at most 1 argument, got 2"
     ]
    }
   ],
   "source": [
    "data.pop(2)"
   ]
  },
  {
   "cell_type": "code",
   "execution_count": null,
   "id": "1d5465af-e99c-4ed5-b82b-b713d770419f",
   "metadata": {},
   "outputs": [],
   "source": [
    "print(data)"
   ]
  },
  {
   "cell_type": "code",
   "execution_count": 4,
   "id": "e3c64783-5b83-43f6-bb0c-da572fd7c8d7",
   "metadata": {},
   "outputs": [
    {
     "name": "stdout",
     "output_type": "stream",
     "text": [
      "[5, 6, 67, 8]\n"
     ]
    }
   ],
   "source": [
    "print(data[3:7])"
   ]
  },
  {
   "cell_type": "markdown",
   "id": "4dcfef13-042a-4f68-b766-fec1eefdce98",
   "metadata": {},
   "source": [
    "print.pop(3:7)"
   ]
  },
  {
   "cell_type": "markdown",
   "id": "7b97d1e9-f8d5-4c1c-a0d4-9684c7e8110a",
   "metadata": {},
   "source": [
    "### del keyword : it will delete the single or range of element using indexing and slicing  ............del can also be used to delete the varibale it self¶\r",
    "¶"
   ]
  },
  {
   "cell_type": "code",
   "execution_count": 6,
   "id": "b7b7bd0c-d46d-4d82-bd6b-9bbd8fd9f337",
   "metadata": {},
   "outputs": [
    {
     "name": "stdout",
     "output_type": "stream",
     "text": [
      "[1, 2, 4, 5, 6, 67, 8, 9, 9]\n"
     ]
    }
   ],
   "source": [
    "print(data)"
   ]
  },
  {
   "cell_type": "code",
   "execution_count": 7,
   "id": "60631ac1-7f28-4f43-898e-b977e6abba5f",
   "metadata": {},
   "outputs": [
    {
     "name": "stdout",
     "output_type": "stream",
     "text": [
      "[1, 2, 4, 5, 6, 67, 8, 9, 9]\n"
     ]
    }
   ],
   "source": [
    "del data[2]\n",
    "print(data)"
   ]
  },
  {
   "cell_type": "code",
   "execution_count": null,
   "id": "e2823231-8410-4903-9daa-6add3908b82d",
   "metadata": {},
   "outputs": [],
   "source": [
    "#\n",
    "\n",
    "del data[2:5]\n",
    "print(data)"
   ]
  },
  {
   "cell_type": "markdown",
   "id": "03f4f6b5-d4f1-4df0-ae6b-7092b298a272",
   "metadata": {},
   "source": [
    "### clear() : it will clear / remove all the element of a list\n",
    "1. list.clear() takes no arguments (1 given)"
   ]
  },
  {
   "cell_type": "code",
   "execution_count": 9,
   "id": "122e7206-69a7-48e1-b6cb-3d2894603986",
   "metadata": {},
   "outputs": [
    {
     "name": "stdout",
     "output_type": "stream",
     "text": [
      "[]\n"
     ]
    }
   ],
   "source": [
    "data.clear()\n",
    "print(data)"
   ]
  },
  {
   "cell_type": "markdown",
   "id": "1b370e07-2b97-4bde-961c-c9ae208f5075",
   "metadata": {},
   "source": [
    "### ===========================================================for loop======================================================================"
   ]
  },
  {
   "cell_type": "markdown",
   "id": "9f02ec36-3d53-4913-a4b6-3f671676136e",
   "metadata": {},
   "source": [
    "#### display the above list using for loop\n",
    "var =[1,2,3,4,5,6,7,8,10,9]   \n"
   ]
  },
  {
   "cell_type": "code",
   "execution_count": 154,
   "id": "8ead5e77-13b5-4d4e-9849-394a4e043540",
   "metadata": {},
   "outputs": [
    {
     "name": "stdout",
     "output_type": "stream",
     "text": [
      "1\n",
      "2\n",
      "3\n",
      "4\n",
      "5\n",
      "67\n",
      "8\n"
     ]
    }
   ],
   "source": [
    "var1 =[1,2,3,4,5,67,8]\n",
    "\n",
    "for c in var1:\n",
    "    print(c)\n",
    "    "
   ]
  },
  {
   "cell_type": "markdown",
   "id": "d1547c51-e14f-4343-a5e3-e7818f378899",
   "metadata": {},
   "source": [
    "#### display the above list using for loop  with index"
   ]
  },
  {
   "cell_type": "code",
   "execution_count": 152,
   "id": "66680afc-78d7-46d0-a77f-ebf78a2a1982",
   "metadata": {},
   "outputs": [
    {
     "name": "stdout",
     "output_type": "stream",
     "text": [
      "0 12\n",
      "1 13\n",
      "2 14\n",
      "3 15\n",
      "4 16\n",
      "5 17\n",
      "6 18\n"
     ]
    }
   ],
   "source": [
    "#1\n",
    "for x in range(0 ,7):\n",
    "    print(x ,var1[x])"
   ]
  },
  {
   "cell_type": "code",
   "execution_count": 153,
   "id": "3cc4cea4-86d6-46ae-b2b2-c715af279f9b",
   "metadata": {},
   "outputs": [
    {
     "name": "stdout",
     "output_type": "stream",
     "text": [
      "12\n"
     ]
    }
   ],
   "source": [
    "print(var[0])  # x"
   ]
  },
  {
   "cell_type": "code",
   "execution_count": 155,
   "id": "63ef2d82-545b-46ad-962e-568fcc6d9d90",
   "metadata": {},
   "outputs": [
    {
     "name": "stdout",
     "output_type": "stream",
     "text": [
      "index  0 element is 12\n",
      "index  1 element is 13\n",
      "index  2 element is 14\n",
      "index  3 element is 15\n",
      "index  4 element is 16\n",
      "index  5 element is 17\n",
      "index  6 element is 18\n"
     ]
    }
   ],
   "source": [
    "#2\n",
    "\n",
    "var2=[12,13,14,15,16,17,18]\n",
    "for x in range(0,len(var2)):\n",
    "    print(\"index \",x , \"element is\",var2[x] )"
   ]
  },
  {
   "cell_type": "code",
   "execution_count": 160,
   "id": "4888e93c-b628-49aa-aece-618d30ab0cda",
   "metadata": {},
   "outputs": [
    {
     "name": "stdout",
     "output_type": "stream",
     "text": [
      "index [0] is 1\n",
      "index [1] is 2\n",
      "index [2] is 3\n",
      "index [3] is 4\n",
      "index [4] is 5\n",
      "index [5] is 67\n",
      "index [6] is 8\n"
     ]
    }
   ],
   "source": [
    "# 3\n",
    "var =[1,2,3,4,5,67,8]\n",
    "i=0 \n",
    "for c in var:\n",
    "    print(f\"index {[i]} is {c}\")\n",
    "    i+=1"
   ]
  },
  {
   "cell_type": "markdown",
   "id": "2a33db30-881d-4f38-961e-f5799d0dec16",
   "metadata": {},
   "source": [
    "#### from the above list display only those element which is divisible by 2¶"
   ]
  },
  {
   "cell_type": "code",
   "execution_count": 156,
   "id": "887d8577-4984-4376-adce-a5d6c360baa0",
   "metadata": {},
   "outputs": [
    {
     "name": "stdout",
     "output_type": "stream",
     "text": [
      "12\n",
      "14\n",
      "16\n",
      "18\n"
     ]
    }
   ],
   "source": [
    "for c in var2:\n",
    "    if c%2==0:\n",
    "        print(c)\n",
    "        "
   ]
  },
  {
   "cell_type": "code",
   "execution_count": 159,
   "id": "dba974a1-0120-435f-876b-1778e3a0aee8",
   "metadata": {},
   "outputs": [
    {
     "name": "stdout",
     "output_type": "stream",
     "text": [
      "12 div by 2 :\n",
      "Not div by 2  : 13\n",
      "14 div by 2 :\n",
      "Not div by 2  : 15\n",
      "16 div by 2 :\n",
      "Not div by 2  : 17\n",
      "18 div by 2 :\n"
     ]
    }
   ],
   "source": [
    "for x in var2:\n",
    "    if x %2==0:\n",
    "       print(x,\"div by 2 :\")\n",
    "    else:\n",
    "      print(\"Not div by 2  :\",  x)"
   ]
  },
  {
   "cell_type": "markdown",
   "id": "3548f008-e877-4a03-9ab0-0c759385767a",
   "metadata": {},
   "source": [
    "#### crete  2 list   one for even and odd display only those element which is divisible by 2 under even list "
   ]
  },
  {
   "cell_type": "code",
   "execution_count": 174,
   "id": "c268c502-b241-472f-a0c1-8e30d02e720b",
   "metadata": {},
   "outputs": [
    {
     "name": "stdout",
     "output_type": "stream",
     "text": [
      "even  [12, 14, 16, 18]\n",
      "odd [13, 15, 17]\n"
     ]
    }
   ],
   "source": [
    "\n",
    "even=[]\n",
    "odd =[]\n",
    "for x in var2:\n",
    "    if x %2==0:\n",
    "      even.append(x)\n",
    "#print(\"even \",even)   # here   print  will loop  hnce:)whatevr writen inside  for  loop will repeat\n",
    "    else:\n",
    "      odd.append(x)\n",
    "#      print(\"odd\",odd)\n",
    "\n",
    "\n",
    "print(\"even \",even)\n",
    "print(\"odd\",odd)"
   ]
  },
  {
   "cell_type": "markdown",
   "id": "9959dddd-550c-472b-9d6b-0a84ca0e78ef",
   "metadata": {},
   "source": [
    "### ===========================================================for loop=============================================================================="
   ]
  },
  {
   "cell_type": "markdown",
   "id": "d258893e-dd9a-4b56-8edc-1949f61de230",
   "metadata": {},
   "source": [
    "## 1. deep copy\n",
    "   1. deep copy is achived using the = op.\n",
    "   2. if we add ,remove ,modify one list the another list  gets affected.   "
   ]
  },
  {
   "cell_type": "code",
   "execution_count": 242,
   "id": "2181506d-62ea-42ed-9f0f-584381e17ec8",
   "metadata": {},
   "outputs": [],
   "source": [
    "original=[1234,2,3,5,6,78,9]"
   ]
  },
  {
   "cell_type": "code",
   "execution_count": 243,
   "id": "26d2178e-2a29-437e-bfe5-ca7bbf7e87ad",
   "metadata": {},
   "outputs": [],
   "source": [
    "clone=original"
   ]
  },
  {
   "cell_type": "code",
   "execution_count": 244,
   "id": "5b5bb085-8bb7-4baf-8ea0-6244a7130d57",
   "metadata": {},
   "outputs": [
    {
     "name": "stdout",
     "output_type": "stream",
     "text": [
      "[1234, 2, 3, 5, 6, 78, 9]\n",
      "[1234, 2, 3, 5, 6, 78, 9]\n"
     ]
    }
   ],
   "source": [
    "print(original)\n",
    "print(clone)\n",
    "# copy is made using = assingmnt op"
   ]
  },
  {
   "cell_type": "markdown",
   "id": "f3aba085-36c0-494c-9618-60886bb1ca5f",
   "metadata": {},
   "source": [
    "#### add element to original list\n",
    "\n"
   ]
  },
  {
   "cell_type": "code",
   "execution_count": 245,
   "id": "d7335707-bacc-497a-8fd0-d11d09bba4d7",
   "metadata": {},
   "outputs": [],
   "source": [
    "#1\n",
    "original.append(\"blue\")"
   ]
  },
  {
   "cell_type": "code",
   "execution_count": 246,
   "id": "933ffa1b-55b5-4424-85f6-2b669a10febd",
   "metadata": {},
   "outputs": [
    {
     "name": "stdout",
     "output_type": "stream",
     "text": [
      "[1234, 2, 3, 5, 6, 78, 9, 'blue']\n",
      "[1234, 2, 3, 5, 6, 78, 9, 'blue']\n"
     ]
    }
   ],
   "source": [
    "print(original)\n",
    "print(clone)\n",
    "# \"blue\" is copied to clone also"
   ]
  },
  {
   "cell_type": "code",
   "execution_count": 247,
   "id": "2e6b6f1b-1336-4586-a37c-527c46115265",
   "metadata": {},
   "outputs": [],
   "source": [
    "#2\n",
    "clone.append(\"heheheheheheheheh\")"
   ]
  },
  {
   "cell_type": "code",
   "execution_count": 248,
   "id": "466de240-1075-4575-bad6-fb7bab47938f",
   "metadata": {},
   "outputs": [
    {
     "name": "stdout",
     "output_type": "stream",
     "text": [
      "[1234, 2, 3, 5, 6, 78, 9, 'blue', 'heheheheheheheheh']\n",
      "[1234, 2, 3, 5, 6, 78, 9, 'blue', 'heheheheheheheheh']\n"
     ]
    }
   ],
   "source": [
    "print(original)\n",
    "print(clone)\n",
    "# \"heheheheheheheheh\" is copied to original also"
   ]
  },
  {
   "cell_type": "markdown",
   "id": "8f3f6b83-2ca0-4ef6-b64c-a05dcfc3e2ca",
   "metadata": {},
   "source": [
    "#### remove element to original list"
   ]
  },
  {
   "cell_type": "code",
   "execution_count": 249,
   "id": "4f91ff88-0532-4046-9d51-6b9d690da83d",
   "metadata": {},
   "outputs": [],
   "source": [
    "original.remove(1234)\n"
   ]
  },
  {
   "cell_type": "code",
   "execution_count": 250,
   "id": "82ebd13b-3460-4f48-8845-a35d9a5b07f1",
   "metadata": {},
   "outputs": [
    {
     "name": "stdout",
     "output_type": "stream",
     "text": [
      "[2, 3, 5, 6, 78, 9, 'blue', 'heheheheheheheheh']\n",
      "[2, 3, 5, 6, 78, 9, 'blue', 'heheheheheheheheh']\n"
     ]
    }
   ],
   "source": [
    "# after removing the element\n",
    "\n",
    "print(original)\n",
    "print(clone)\n",
    "\n",
    "\n",
    "# removed from the  clone list  too"
   ]
  },
  {
   "cell_type": "markdown",
   "id": "86d9b9d2-2166-4ae5-9eeb-31e8eb1e73fa",
   "metadata": {},
   "source": [
    "#### modify or change 1st  element to  \"once in a blue moon \" clone list"
   ]
  },
  {
   "cell_type": "code",
   "execution_count": 251,
   "id": "65dfa10c-5862-473c-b4fb-52d6e9378ce8",
   "metadata": {},
   "outputs": [],
   "source": [
    "clone[0]=\"once in a blue moon \""
   ]
  },
  {
   "cell_type": "code",
   "execution_count": 252,
   "id": "6559caee-c9bd-45e1-976d-c876a6cad13c",
   "metadata": {},
   "outputs": [
    {
     "name": "stdout",
     "output_type": "stream",
     "text": [
      "['once in a blue moon ', 3, 5, 6, 78, 9, 'blue', 'heheheheheheheheh']\n",
      "['once in a blue moon ', 3, 5, 6, 78, 9, 'blue', 'heheheheheheheheh']\n"
     ]
    }
   ],
   "source": [
    "print(original)\n",
    "print(clone)\n",
    "\n",
    "\n",
    "# changed in original list too "
   ]
  },
  {
   "cell_type": "markdown",
   "id": "78164bea-a879-479b-8d5f-4912c74fb3ae",
   "metadata": {},
   "source": [
    "## 2. Shallow copy\n",
    "  1. shallow copy is achived using the copy method.\n",
    "  2. if we add ,remove ,modify one list the another list wont get affected."
   ]
  },
  {
   "cell_type": "code",
   "execution_count": 319,
   "id": "f473fb38-4a92-4ec6-a738-9139282ec499",
   "metadata": {},
   "outputs": [],
   "source": [
    "alpha =[\"hello \", \"hii \",\"bye  bye \",987650 ,1234,\"khana\",\"khaa\",\"ke Jana\"]\n",
    "\n"
   ]
  },
  {
   "cell_type": "code",
   "execution_count": 320,
   "id": "d6e168eb-a3ef-4c94-982f-d8b0d153b3df",
   "metadata": {},
   "outputs": [],
   "source": [
    "beta=alpha.copy()"
   ]
  },
  {
   "cell_type": "code",
   "execution_count": 321,
   "id": "6266603c-566f-4b69-8402-d73fa4c7c0a8",
   "metadata": {},
   "outputs": [
    {
     "name": "stdout",
     "output_type": "stream",
     "text": [
      "['hello ', 'hii ', 'bye  bye ', 987650, 1234, 'khana', 'khaa', 'ke Jana']\n",
      "['hello ', 'hii ', 'bye  bye ', 987650, 1234, 'khana', 'khaa', 'ke Jana']\n"
     ]
    }
   ],
   "source": [
    "print(alpha)\n",
    "print(beta)\n",
    "\n",
    "# copy is created"
   ]
  },
  {
   "cell_type": "markdown",
   "id": "c3c13745-1481-4d9e-8d95-f1914b01101b",
   "metadata": {},
   "source": [
    "#### add element to original list"
   ]
  },
  {
   "cell_type": "code",
   "execution_count": 322,
   "id": "73134763-1695-4161-8da3-340220d28b86",
   "metadata": {},
   "outputs": [],
   "source": [
    "#1\n",
    "alpha.append(\"uffff\")\n",
    "\n"
   ]
  },
  {
   "cell_type": "code",
   "execution_count": 323,
   "id": "ad363fe6-5dc7-4d31-b593-f84689f39b86",
   "metadata": {},
   "outputs": [
    {
     "name": "stdout",
     "output_type": "stream",
     "text": [
      "['hello ', 'hii ', 'bye  bye ', 987650, 1234, 'khana', 'khaa', 'ke Jana', 'uffff']\n",
      "['hello ', 'hii ', 'bye  bye ', 987650, 1234, 'khana', 'khaa', 'ke Jana']\n"
     ]
    }
   ],
   "source": [
    "print(alpha)\n",
    "print(beta)"
   ]
  },
  {
   "cell_type": "markdown",
   "id": "b0d0132e-7114-4690-88f1-733ba03ba3a7",
   "metadata": {},
   "source": [
    "#### remove element from original list and copied list"
   ]
  },
  {
   "cell_type": "code",
   "execution_count": 324,
   "id": "3a9b3297-9fd7-4be0-ba69-6fabcc36c1a2",
   "metadata": {},
   "outputs": [],
   "source": [
    "#1.\n",
    "\n",
    "beta.remove(987650)\n",
    "\n"
   ]
  },
  {
   "cell_type": "code",
   "execution_count": 325,
   "id": "49a81bd4-b9b3-437c-84e5-de663557ae1a",
   "metadata": {},
   "outputs": [
    {
     "name": "stdout",
     "output_type": "stream",
     "text": [
      "['hello ', 'hii ', 'bye  bye ', 987650, 1234, 'khana', 'khaa', 'ke Jana', 'uffff']\n",
      "['hello ', 'hii ', 'bye  bye ', 1234, 'khana', 'khaa', 'ke Jana']\n"
     ]
    }
   ],
   "source": [
    "print(alpha)\n",
    "print(beta)"
   ]
  },
  {
   "cell_type": "code",
   "execution_count": 326,
   "id": "ccb017cd-3cc3-4e77-9b4c-de2da8532456",
   "metadata": {},
   "outputs": [],
   "source": [
    "# 2.\n",
    "alpha.remove(1234)"
   ]
  },
  {
   "cell_type": "code",
   "execution_count": 327,
   "id": "e2787f7d-8d2e-44fb-985a-58d16bc4672e",
   "metadata": {},
   "outputs": [
    {
     "name": "stdout",
     "output_type": "stream",
     "text": [
      "['hello ', 'hii ', 'bye  bye ', 987650, 'khana', 'khaa', 'ke Jana', 'uffff']\n",
      "['hello ', 'hii ', 'bye  bye ', 1234, 'khana', 'khaa', 'ke Jana']\n"
     ]
    }
   ],
   "source": [
    "print(alpha)\n",
    "print(beta)"
   ]
  },
  {
   "cell_type": "markdown",
   "id": "4efa94cb-d7f5-43dd-b238-13ac242d9070",
   "metadata": {},
   "source": [
    "#### modify or change last  element in original list"
   ]
  },
  {
   "cell_type": "code",
   "execution_count": 330,
   "id": "706a5ff8-d51a-4ae1-af87-8e9e23e80990",
   "metadata": {},
   "outputs": [],
   "source": [
    "alpha[-1]=\" :) \""
   ]
  },
  {
   "cell_type": "code",
   "execution_count": 331,
   "id": "ee0b2575-3051-4b63-be40-893016b4d91e",
   "metadata": {},
   "outputs": [
    {
     "name": "stdout",
     "output_type": "stream",
     "text": [
      "['hello ', 'hii ', 'bye  bye ', 987650, 'khana', 'khaa', 'ke Jana', ' :) ']\n",
      "['hello ', 'hii ', 'bye  bye ', 1234, 'khana', 'khaa', 'ke Jana']\n"
     ]
    }
   ],
   "source": [
    "print(alpha)\n",
    "print(beta)"
   ]
  },
  {
   "cell_type": "markdown",
   "id": "2dd458b8-a199-4794-bdae-ca3f2127e71b",
   "metadata": {},
   "source": [
    "## SORTING   : \n",
    " "
   ]
  },
  {
   "cell_type": "markdown",
   "id": "36f80626-79b8-44dd-8473-263d801be3ef",
   "metadata": {},
   "source": [
    "### 1. sort() mthod by default  sort in accending order"
   ]
  },
  {
   "cell_type": "code",
   "execution_count": 332,
   "id": "7903acd5-b5d8-477c-ac31-04abfcc5de8c",
   "metadata": {},
   "outputs": [],
   "source": [
    "list1=[\"d\",\"k\",\"a\",\"e\",\"n\"]\n",
    "list2=[1,14,56,0,3,2,99]"
   ]
  },
  {
   "cell_type": "code",
   "execution_count": 333,
   "id": "c0c5f999-0290-45d9-a73a-f5cdd6b71207",
   "metadata": {},
   "outputs": [
    {
     "name": "stdout",
     "output_type": "stream",
     "text": [
      "['d', 'k', 'a', 'e', 'n']\n",
      "[1, 14, 56, 0, 3, 2, 99]\n"
     ]
    }
   ],
   "source": [
    "print(list1)\n",
    "print(list2)"
   ]
  },
  {
   "cell_type": "code",
   "execution_count": 334,
   "id": "121be4f0-571e-4950-9105-d391890b4e99",
   "metadata": {},
   "outputs": [
    {
     "name": "stdout",
     "output_type": "stream",
     "text": [
      "['a', 'd', 'e', 'k', 'n']\n"
     ]
    }
   ],
   "source": [
    "list1.sort()\n",
    "print(list1)"
   ]
  },
  {
   "cell_type": "code",
   "execution_count": 335,
   "id": "45504350-c3fa-43fb-9470-eff84ed711b4",
   "metadata": {},
   "outputs": [
    {
     "name": "stdout",
     "output_type": "stream",
     "text": [
      "[0, 1, 2, 3, 14, 56, 99]\n"
     ]
    }
   ],
   "source": [
    "list2.sort()\n",
    "print(list2)"
   ]
  },
  {
   "cell_type": "markdown",
   "id": "61754925-4b13-420b-9e00-794bc7601ed2",
   "metadata": {},
   "source": [
    "### 2.  sort in decending order  declare agr called :: (reverse = True ) :: "
   ]
  },
  {
   "cell_type": "code",
   "execution_count": 336,
   "id": "3a5f9b73-120f-4183-a5df-b512371cf984",
   "metadata": {},
   "outputs": [],
   "source": [
    "list1.sort(reverse=True)\n",
    "list2.sort(reverse=True)"
   ]
  },
  {
   "cell_type": "code",
   "execution_count": 337,
   "id": "0a4464fc-207b-4bc8-bc97-48364ea02f8d",
   "metadata": {},
   "outputs": [
    {
     "name": "stdout",
     "output_type": "stream",
     "text": [
      "['n', 'k', 'e', 'd', 'a']\n",
      "[99, 56, 14, 3, 2, 1, 0]\n"
     ]
    }
   ],
   "source": [
    "print(list1)\n",
    "print(list2)"
   ]
  },
  {
   "cell_type": "markdown",
   "id": "b5bfe852-37fc-4ba8-9975-7ebdcf231dab",
   "metadata": {},
   "source": [
    "##### sort the state"
   ]
  },
  {
   "cell_type": "code",
   "execution_count": 1,
   "id": "a519830c-93b1-4cbd-aa6e-1aababc47f4e",
   "metadata": {},
   "outputs": [
    {
     "name": "stdout",
     "output_type": "stream",
     "text": [
      "['Jammu', 'Rajisthan', 'Goa', 'Maharashtra', 'Delhi', 'Andhra']\n",
      "['Andhra', 'Delhi', 'Goa', 'Jammu', 'Maharashtra', 'Rajisthan']\n",
      "['Rajisthan', 'Maharashtra', 'Jammu', 'Goa', 'Delhi', 'Andhra']\n"
     ]
    }
   ],
   "source": [
    "state=[\"Jammu\",\"Rajisthan\",\"Goa\",\"Maharashtra\",\"Delhi\",\"Andhra\"]\n",
    "print(state)\n",
    "\n",
    "state.sort()\n",
    "print(state)\n",
    "\n",
    "\n",
    "state.sort(reverse=True)\n",
    "print(state)"
   ]
  },
  {
   "cell_type": "code",
   "execution_count": null,
   "id": "7f76ed8a-a3ee-4e03-897a-5e6994168ad2",
   "metadata": {},
   "outputs": [],
   "source": []
  },
  {
   "cell_type": "markdown",
   "id": "bae8fc70-575b-45e4-b398-0784dcefd446",
   "metadata": {},
   "source": [
    "##### Sort the state based on the number of character in each word"
   ]
  },
  {
   "cell_type": "code",
   "execution_count": 2,
   "id": "0493ffba-2cce-4882-976f-d8d807a009be",
   "metadata": {},
   "outputs": [
    {
     "name": "stdout",
     "output_type": "stream",
     "text": [
      "['Goa', 'Jammu', 'Delhi', 'Andhra', 'Rajisthan', 'Maharashtra']\n"
     ]
    }
   ],
   "source": [
    "state.sort(key=len)\n",
    "print(state)"
   ]
  },
  {
   "cell_type": "markdown",
   "id": "3d70c781-02f0-4590-9183-19a9fc387e96",
   "metadata": {},
   "source": [
    "##### Sort the state such that maharastra comes 1t"
   ]
  },
  {
   "cell_type": "code",
   "execution_count": 342,
   "id": "91ed4589-5b49-4211-9fc3-bf692c861a7f",
   "metadata": {},
   "outputs": [
    {
     "name": "stdout",
     "output_type": "stream",
     "text": [
      "['Maharashtra', 'Rajisthan', 'Andhra', 'Jammu', 'Delhi', 'Goa']\n"
     ]
    }
   ],
   "source": [
    "state.sort(key=len,reverse=True)\n",
    "print(state)"
   ]
  },
  {
   "cell_type": "markdown",
   "id": "2bf90388-bb89-4ed9-8783-aee2ca3b7c7b",
   "metadata": {},
   "source": [
    "## Numeric   : prform below \n",
    "sum()\n",
    "max()\n",
    "min()¶"
   ]
  },
  {
   "cell_type": "code",
   "execution_count": 345,
   "id": "d57c1fe9-4c09-47aa-aa7f-33ddbb2545ed",
   "metadata": {},
   "outputs": [
    {
     "data": {
      "text/plain": [
       "87"
      ]
     },
     "execution_count": 345,
     "metadata": {},
     "output_type": "execute_result"
    }
   ],
   "source": [
    "num=[12,13,14,15,16,17]\n",
    "sum(num)"
   ]
  },
  {
   "cell_type": "code",
   "execution_count": 347,
   "id": "cd6732a0-eca0-4c8b-9328-d0a40ca801a3",
   "metadata": {},
   "outputs": [
    {
     "name": "stdout",
     "output_type": "stream",
     "text": [
      "6\n"
     ]
    }
   ],
   "source": [
    "print(len(num))\n"
   ]
  },
  {
   "cell_type": "code",
   "execution_count": 348,
   "id": "44edfa5a-5103-46b8-a63d-e46dabe2fb3e",
   "metadata": {},
   "outputs": [
    {
     "data": {
      "text/plain": [
       "17"
      ]
     },
     "execution_count": 348,
     "metadata": {},
     "output_type": "execute_result"
    }
   ],
   "source": [
    "max(num)"
   ]
  },
  {
   "cell_type": "code",
   "execution_count": 349,
   "id": "6819ceb9-6336-44fc-a17b-d5e4495a9bb1",
   "metadata": {},
   "outputs": [
    {
     "data": {
      "text/plain": [
       "12"
      ]
     },
     "execution_count": 349,
     "metadata": {},
     "output_type": "execute_result"
    }
   ],
   "source": [
    "min(num)"
   ]
  },
  {
   "cell_type": "markdown",
   "id": "2c2297ec-0ca5-42f5-bc68-12fc4a9cef2f",
   "metadata": {},
   "source": [
    "# NOTE :"
   ]
  },
  {
   "cell_type": "markdown",
   "id": "6340ab69-1a29-4a67-961a-36c3466a51eb",
   "metadata": {},
   "source": [
    "You're confirming the answers!\n",
    "\n",
    "Yes, that's correct:\n",
    "\n",
    "- Lower and Upper are indeed String Methods.\n",
    "- Append and Remove are indeed List Methods.\n",
    "- Min and Max are indeed Built-in Functions.\n",
    "\n",
    "Well done!"
   ]
  },
  {
   "cell_type": "markdown",
   "id": "9bde29fd-86f9-4b92-9e4a-c34e43bc1da1",
   "metadata": {},
   "source": [
    "# 1.  Why built in functions  min max but not lower and append"
   ]
  },
  {
   "cell_type": "code",
   "execution_count": null,
   "id": "e9b71ec2-dc06-4998-89ef-cd01abc75e93",
   "metadata": {},
   "outputs": [],
   "source": [
    "In Python, min() and max() are built-in functions because they can work with various types of data, such as:\n",
    "\n",
    "- Lists\n",
    "- Tuples\n",
    "- Strings\n",
    "- Dictionaries (with some limitations)\n",
    "- Sets\n",
    "- Custom iterable objects\n",
    "\n",
    "They can also take multiple arguments, and even accept a custom key function to determine the minimum or maximum value.\n",
    "\n",
    "On the other hand, lower() and append() are methods because they are specific to certain data types:\n",
    "\n",
    "- lower() is a method of string objects, used to convert the string to lowercase.\n",
    "- append() is a method of list objects, used to add an element to the end of the list.\n",
    "\n",
    "These methods are tightly coupled to their respective data types, and don't make sense in other contexts. By making them methods, Python's designers emphasized their connection to the specific data types they operate on.\n",
    "\n",
    "Does that help clarify the distinction?"
   ]
  },
  {
   "cell_type": "markdown",
   "id": "4fb87896-56f6-4738-8482-df160e0c5c3a",
   "metadata": {},
   "source": [
    "# 2 .How to identify functions and methods in pyrhon"
   ]
  },
  {
   "cell_type": "raw",
   "id": "9df4263c-1f23-4c58-a19a-ff7279af0486",
   "metadata": {},
   "source": [
    "Here are some tips to help you identify functions and methods in Python:\n",
    "\n",
    "Functions\n",
    "\n",
    "1. No dot notation: Functions are called without using dot notation. For example: print(\"Hello\")\n",
    "2. *Defined with def*: Functions are defined using the def keyword. For example: def greet(name): print(\"Hello\", name)\n",
    "3. Can be called independently: Functions can be called independently of any object. For example: math.sqrt(4)\n",
    "4. Typically operate on arguments: Functions typically operate on arguments passed to them.\n",
    "\n",
    "Methods\n",
    "\n",
    "1. Dot notation: Methods are called using dot notation. For example: my_string.lower()\n",
    "2. Defined inside a class: Methods are defined inside a class definition. For example: class MyClass: def my_method(self): print(\"Hello\")\n",
    "3. Called on an object: Methods are called on an object of the class. For example: my_object.my_method()\n",
    "4. Typically operate on the object's state: Methods typically operate on the object's state (attributes).\n",
    "\n",
    "Some examples to illustrate the difference:\n",
    "\n",
    "- print(\"Hello\") is a function call.\n",
    "- \"hello\".lower() is a method call.\n",
    "- math.sqrt(4) is a function call.\n",
    "- my_list.append(4) is a method call.\n",
    "\n",
    "By following these guidelines, you should be able to identify whether something is a function or a method in Python!"
   ]
  },
  {
   "cell_type": "markdown",
   "id": "3cbb0afd-df76-4821-bd34-a8d6f986d7c9",
   "metadata": {},
   "source": [
    "# 3.Math. Sqrt is using. U said functions don't use."
   ]
  },
  {
   "cell_type": "raw",
   "id": "b8ebe74c-9024-4788-8790-2aa723a5ec79",
   "metadata": {},
   "source": [
    "You are correct, I previously mentioned that functions do not use dot notation, but math.sqrt() is indeed a function that uses dot notation.\n",
    "\n",
    "In Python, math is a module, and sqrt is a function within that module. The dot notation is used to access the sqrt function within the math module.\n",
    "\n",
    "So, to correct my previous statement:\n",
    "\n",
    "- Functions can be defined independently (e.g., def greet(name): ...) or as part of a module (e.g., math.sqrt()).\n",
    "- Dot notation can be used to access functions within a module (e.g., math.sqrt()), but it's not typically used for independent functions (e.g., greet(\"John\")).\n",
    "\n",
    "Thank you for pointing out the inconsistency!"
   ]
  },
  {
   "cell_type": "code",
   "execution_count": null,
   "id": "7b167137-642f-4bc8-a53e-9c95ce4b9d46",
   "metadata": {},
   "outputs": [],
   "source": []
  }
 ],
 "metadata": {
  "kernelspec": {
   "display_name": "Python 3 (ipykernel)",
   "language": "python",
   "name": "python3"
  },
  "language_info": {
   "codemirror_mode": {
    "name": "ipython",
    "version": 3
   },
   "file_extension": ".py",
   "mimetype": "text/x-python",
   "name": "python",
   "nbconvert_exporter": "python",
   "pygments_lexer": "ipython3",
   "version": "3.12.4"
  }
 },
 "nbformat": 4,
 "nbformat_minor": 5
}
