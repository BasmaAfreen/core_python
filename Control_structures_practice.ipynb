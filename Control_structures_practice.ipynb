{
 "cells": [
  {
   "cell_type": "markdown",
   "id": "310a939f",
   "metadata": {},
   "source": [
    "# Variable: Container where data is store"
   ]
  },
  {
   "cell_type": "markdown",
   "id": "df5d8c64",
   "metadata": {},
   "source": [
    "## Data Type: Form of storage for Data"
   ]
  },
  {
   "cell_type": "code",
   "execution_count": 1,
   "id": "16f297aa",
   "metadata": {},
   "outputs": [],
   "source": [
    "num1 = 12\n",
    "num2 = 45.22\n",
    "num3 = \"Python\"\n",
    "num4 = True\n",
    "num5 = 2+7j"
   ]
  },
  {
   "cell_type": "code",
   "execution_count": 2,
   "id": "fcb3bc37",
   "metadata": {},
   "outputs": [
    {
     "name": "stdout",
     "output_type": "stream",
     "text": [
      "Value of Num1: 12\n",
      "Value of Num2: 45.22\n",
      "Value of Num3: Python\n",
      "Value of Num4: True\n",
      "Value of Num5: (2+7j)\n"
     ]
    }
   ],
   "source": [
    "print(\"Value of Num1:\",num1)\n",
    "print(\"Value of Num2:\",num2)\n",
    "print(\"Value of Num3:\",num3)\n",
    "print(\"Value of Num4:\",num4)\n",
    "print(\"Value of Num5:\",num5)"
   ]
  },
  {
   "cell_type": "code",
   "execution_count": 4,
   "id": "7f5ce028",
   "metadata": {},
   "outputs": [
    {
     "name": "stdout",
     "output_type": "stream",
     "text": [
      "<class 'int'>\n",
      "<class 'float'>\n",
      "<class 'str'>\n",
      "<class 'bool'>\n",
      "<class 'complex'>\n"
     ]
    }
   ],
   "source": [
    "print(type(num1))\n",
    "print(type(num2))\n",
    "print(type(num3))\n",
    "print(type(num4))\n",
    "print(type(num5))"
   ]
  },
  {
   "cell_type": "code",
   "execution_count": 5,
   "id": "b2851f30",
   "metadata": {},
   "outputs": [
    {
     "name": "stdout",
     "output_type": "stream",
     "text": [
      "Addition 17\n",
      "Subtraction 7\n",
      "Multiplication 60\n",
      "Division 2.4\n",
      "Floor Division 2\n",
      "Remainder 2\n",
      "Exponent 248832\n"
     ]
    }
   ],
   "source": [
    "var1 = 12\n",
    "var2 = 5\n",
    "print(\"Addition\",var1 + var2)\n",
    "print(\"Subtraction\",var1 - var2)\n",
    "print(\"Multiplication\",var1 * var2)\n",
    "print(\"Division\",var1/var2)\n",
    "print(\"Floor Division\",var1//var2)\n",
    "print(\"Remainder\",var1 % var2)\n",
    "print(\"Exponent\",var1 ** var2)"
   ]
  },
  {
   "cell_type": "code",
   "execution_count": 6,
   "id": "65927432",
   "metadata": {},
   "outputs": [
    {
     "name": "stdout",
     "output_type": "stream",
     "text": [
      "Num1 =  58 Num2 =  90\n"
     ]
    }
   ],
   "source": [
    "num1 = 58\n",
    "num2 = 90\n",
    "print(\"Num1 = \",num1,\"Num2 = \",num2)"
   ]
  },
  {
   "cell_type": "code",
   "execution_count": 1,
   "id": "497d9a44",
   "metadata": {},
   "outputs": [
    {
     "name": "stdout",
     "output_type": "stream",
     "text": [
      "True\n",
      "False\n"
     ]
    }
   ],
   "source": [
    "cond1 = True\n",
    "cond2 = False\n",
    "cond3 = True\n",
    "cond4 = True\n",
    "print(cond1 and cond3 and cond4)\n",
    "print(cond1 and cond2)"
   ]
  },
  {
   "cell_type": "code",
   "execution_count": 2,
   "id": "db44ab2a",
   "metadata": {},
   "outputs": [
    {
     "name": "stdout",
     "output_type": "stream",
     "text": [
      "Enter the first value12\n",
      "Enter the second value23\n",
      "Total Value is:  35\n"
     ]
    }
   ],
   "source": [
    "a = int(input(\"Enter the first value\"))\n",
    "b = int(input(\"Enter the second value\"))\n",
    "print(\"Total Value is: \",a+b)"
   ]
  },
  {
   "cell_type": "code",
   "execution_count": 3,
   "id": "1c64c52c",
   "metadata": {},
   "outputs": [
    {
     "name": "stdout",
     "output_type": "stream",
     "text": [
      "Enter the first value12\n",
      "Enter the second value32\n",
      "DataType of a is :  <class 'int'>\n",
      "DataType of b is :  <class 'int'>\n"
     ]
    }
   ],
   "source": [
    "a = int(input(\"Enter the first value\"))\n",
    "b = int(input(\"Enter the second value\"))\n",
    "print(\"DataType of a is : \",type(a))\n",
    "print(\"DataType of b is : \",type(b))"
   ]
  },
  {
   "cell_type": "code",
   "execution_count": 4,
   "id": "9811dc57",
   "metadata": {},
   "outputs": [
    {
     "name": "stdout",
     "output_type": "stream",
     "text": [
      "Enter the first value55\n",
      "Enter the second value32\n",
      "DataType of a is :  <class 'str'>\n",
      "DataType of b is :  <class 'str'>\n"
     ]
    }
   ],
   "source": [
    "a = input(\"Enter the first value\")\n",
    "b = input(\"Enter the second value\")\n",
    "print(\"DataType of a is : \",type(a))\n",
    "print(\"DataType of b is : \",type(b))"
   ]
  },
  {
   "cell_type": "code",
   "execution_count": 7,
   "id": "9d0cf262",
   "metadata": {},
   "outputs": [
    {
     "name": "stdout",
     "output_type": "stream",
     "text": [
      "Hi\n",
      "Hello\n",
      "How are You\n",
      "Thank You\n"
     ]
    }
   ],
   "source": [
    "a = 34\n",
    "if a>=0 :\n",
    "    print(\"Hi\")\n",
    "    print(\"Hello\")\n",
    "    print(\"How are You\")\n",
    "print(\"Thank You\")"
   ]
  },
  {
   "cell_type": "code",
   "execution_count": 11,
   "id": "d525169b",
   "metadata": {},
   "outputs": [
    {
     "name": "stdout",
     "output_type": "stream",
     "text": [
      "Enter the number:5\n",
      "5 Is a Positive Number\n",
      "Done\n"
     ]
    }
   ],
   "source": [
    "a = int(input(\"Enter the number:\"))\n",
    "if a >= 0 :\n",
    "    print(a,\"Is a Positive Number\")\n",
    "else:\n",
    "    print(a,\"Is a Negative Number\")\n",
    "    \n",
    "print(\"Done\")\n"
   ]
  },
  {
   "cell_type": "markdown",
   "id": "fb929e23-3857-44c5-90a5-d3d51d665969",
   "metadata": {},
   "source": [
    "# elif"
   ]
  },
  {
   "cell_type": "markdown",
   "id": "a1c70add",
   "metadata": {},
   "source": [
    "### for checking multiple condition we need to elif condition or else condition"
   ]
  },
  {
   "cell_type": "code",
   "execution_count": 19,
   "id": "fd189c1d",
   "metadata": {},
   "outputs": [
    {
     "name": "stdout",
     "output_type": "stream",
     "text": [
      "Enter the value: 80\n",
      "Eighty\n"
     ]
    }
   ],
   "source": [
    "a = float(input(\"Enter the value: \"))\n",
    "if a == 25:\n",
    "    print(\"Twenty Five\")\n",
    "elif a == 50:\n",
    "    print(\"Fifty\")\n",
    "elif a == 75:\n",
    "    print(\"Seventy five\")\n",
    "elif a == 80:\n",
    "    print(\"Eighty\")\n",
    "else:\n",
    "    print(\"Invalid Number\")"
   ]
  },
  {
   "cell_type": "code",
   "execution_count": 26,
   "id": "1b5ffbbf",
   "metadata": {},
   "outputs": [
    {
     "name": "stdout",
     "output_type": "stream",
     "text": [
      "Enter the value of a: 5\n",
      "Enter the value of b: 0\n",
      "Enter the operation needed: +, -, * , //\n",
      "Invaid input\n"
     ]
    }
   ],
   "source": [
    "a = float(input(\"Enter the value of a: \"))\n",
    "b = float(input(\"Enter the value of b: \"))\n",
    "c = input(\"Enter the operation needed: +, -, * , /\")\n",
    "\n",
    "if c == '+':\n",
    "    print(a+b)\n",
    "elif c == '-':\n",
    "    print(a-b)\n",
    "elif c == '*':\n",
    "    print(a*b)\n",
    "elif c == '/':\n",
    "    if b == 0:\n",
    "        print(\"Invaid input\")\n",
    "    else:\n",
    "        print(a/b)\n",
    "else:\n",
    "    print(\"Invaid operator\")"
   ]
  },
  {
   "cell_type": "code",
   "execution_count": 30,
   "id": "f831b69b",
   "metadata": {},
   "outputs": [
    {
     "name": "stdout",
     "output_type": "stream",
     "text": [
      "City Name: Agra, Delhi, Mumbai: Mumbai\n",
      "Gateway of India is monument in  Mumbai\n"
     ]
    }
   ],
   "source": [
    "CityName = input(\"City Name: Agra, Delhi, Mumbai: \")\n",
    "if CityName == \"Agra\":\n",
    "    print(\"Taj Mahal is monument in \",CityName)\n",
    "elif CityName == \"Delhi\":\n",
    "    print(\"Red Fort is monument in \",CityName)\n",
    "elif CityName == \"Mumbai\":\n",
    "    print(\"Gateway of India is monument in \",CityName)\n",
    "else :\n",
    "    print(\"Invalid city\")\n"
   ]
  },
  {
   "cell_type": "code",
   "execution_count": 31,
   "id": "55274ff5",
   "metadata": {},
   "outputs": [
    {
     "name": "stdout",
     "output_type": "stream",
     "text": [
      "City Name (Agra, Delhi, Mumbai): agra\n",
      "Taj Mahal is a monument in Agra.\n"
     ]
    }
   ],
   "source": [
    "CityName = input(\"City Name (Agra, Delhi, Mumbai): \").strip().lower()\n",
    "\n",
    "if CityName == \"agra\":\n",
    "    print(\"Taj Mahal is a monument in Agra.\")\n",
    "elif CityName == \"delhi\":\n",
    "    print(\"Red Fort is a monument in Delhi.\")\n",
    "elif CityName == \"mumbai\":\n",
    "    print(\"Gateway of India is a monument in Mumbai.\")\n",
    "else:\n",
    "    print(\"Invalid city\")\n"
   ]
  },
  {
   "cell_type": "code",
   "execution_count": 9,
   "id": "0d50fb6d",
   "metadata": {},
   "outputs": [
    {
     "name": "stdout",
     "output_type": "stream",
     "text": [
      "Enter the value: 2\n",
      "Not divisible by 2 and 12\n"
     ]
    }
   ],
   "source": [
    "a = int(input(\"Enter the value: \"))\n",
    "if a != 0 and (a % 2 == 0 and a % 12 == 0):\n",
    "    print(\"Divisible by 2 and 12\")\n",
    "else:\n",
    "    print(\"Not divisible by 2 and 12\")\n"
   ]
  },
  {
   "cell_type": "code",
   "execution_count": 15,
   "id": "994c128f",
   "metadata": {},
   "outputs": [
    {
     "name": "stdout",
     "output_type": "stream",
     "text": [
      "Enter a Value: 55\n",
      "Not Divisible by 2 and 3\n"
     ]
    }
   ],
   "source": [
    "a = int(input(\"Enter a Value: \"))\n",
    "if a!=0 and (a % 2 == 0 and a % 3 == 0):\n",
    "    print(\"Divisible by 2 and 3\")\n",
    "elif a!=0 and (a % 2 == 0 and a % 3 != 0):\n",
    "    print(\"Divisible by 2 Only\")\n",
    "elif a!=0 and (a % 2 != 0 and a % 3 == 0):\n",
    "    print(\"Divisible by 3 only\")\n",
    "else:\n",
    "    print(\"Not Divisible by 2 and 3\")"
   ]
  },
  {
   "cell_type": "markdown",
   "id": "d390cfab-c940-4135-bc6b-94f4a26f5985",
   "metadata": {},
   "source": [
    "# while loop"
   ]
  },
  {
   "cell_type": "code",
   "execution_count": 16,
   "id": "32cb26a2",
   "metadata": {},
   "outputs": [
    {
     "name": "stdout",
     "output_type": "stream",
     "text": [
      "1\n",
      "2\n",
      "3\n",
      "4\n",
      "5\n",
      "6\n",
      "7\n",
      "8\n",
      "9\n",
      "10\n",
      "End\n"
     ]
    }
   ],
   "source": [
    "a = 1\n",
    "while a <=10:\n",
    "    print(a)\n",
    "    a+=1\n",
    "print(\"End\")"
   ]
  },
  {
   "cell_type": "code",
   "execution_count": 17,
   "id": "5d9deb31",
   "metadata": {},
   "outputs": [
    {
     "name": "stdout",
     "output_type": "stream",
     "text": [
      "10\n",
      "9\n",
      "8\n",
      "7\n",
      "6\n",
      "5\n",
      "4\n",
      "3\n",
      "2\n",
      "1\n"
     ]
    }
   ],
   "source": [
    "a = 10\n",
    "while a >=1:\n",
    "    print(a)\n",
    "    a -=1"
   ]
  },
  {
   "cell_type": "code",
   "execution_count": 22,
   "id": "ea7519ce",
   "metadata": {},
   "outputs": [
    {
     "name": "stdout",
     "output_type": "stream",
     "text": [
      "Enter the Value:12\n",
      "1\n",
      "4\n",
      "9\n",
      "16\n",
      "25\n",
      "36\n",
      "49\n",
      "64\n",
      "81\n",
      "100\n",
      "121\n",
      "144\n"
     ]
    }
   ],
   "source": [
    "a = int(input(\"Enter the Value:\"))\n",
    "i = 1 \n",
    "while i <= a:\n",
    "    print(i * i)\n",
    "    i += 1"
   ]
  },
  {
   "cell_type": "code",
   "execution_count": 32,
   "id": "ce6ed2e8",
   "metadata": {},
   "outputs": [
    {
     "name": "stdout",
     "output_type": "stream",
     "text": [
      "Enter the Value5\n",
      "Enter the end point6\n",
      "5\n",
      "10\n",
      "15\n",
      "20\n",
      "25\n",
      "30\n"
     ]
    }
   ],
   "source": [
    "a = int(input(\"Enter the Value\"))\n",
    "b = int(input(\"Enter the end point\"))\n",
    "i = 1\n",
    "while i<=b:\n",
    "    print(a*i)\n",
    "    i+=1"
   ]
  },
  {
   "cell_type": "code",
   "execution_count": 33,
   "id": "7894b94d",
   "metadata": {},
   "outputs": [
    {
     "name": "stdout",
     "output_type": "stream",
     "text": [
      "Enter the Value55\n",
      "Enter the end point2\n",
      "55 * 1 = 55 \n",
      "55 * 2 = 110 \n"
     ]
    }
   ],
   "source": [
    "a = int(input(\"Enter the Value\"))\n",
    "b = int(input(\"Enter the end point\"))\n",
    "i = 1\n",
    "while i<=b:\n",
    "    print(f\"{a} * {i} = {a*i} \")\n",
    "    i+=1"
   ]
  },
  {
   "cell_type": "code",
   "execution_count": 36,
   "id": "01c4d396",
   "metadata": {},
   "outputs": [
    {
     "name": "stdout",
     "output_type": "stream",
     "text": [
      "Enter the End Point:5\n",
      "Odd number is1 True\n",
      "Odd number is2 False\n",
      "Odd number is3 True\n",
      "Odd number is4 False\n",
      "Odd number is5 True\n"
     ]
    }
   ],
   "source": [
    "a = int(input(\"Enter the End Point: \"))\n",
    "i = 1\n",
    "while i <= a:\n",
    "    if i % 2 != 0:\n",
    "        print(f\"Odd number: {i}\")\n",
    "    i += 1"
   ]
  },
  {
   "cell_type": "code",
   "execution_count": 37,
   "id": "6a0b44db",
   "metadata": {},
   "outputs": [
    {
     "name": "stdout",
     "output_type": "stream",
     "text": [
      "Happy Diwali!!!\n"
     ]
    }
   ],
   "source": [
    "data = \"Happy Diwali!!!\"\n",
    "print(data)"
   ]
  },
  {
   "cell_type": "markdown",
   "id": "0ee1dddd-966f-432c-a005-118d9ec69b0e",
   "metadata": {},
   "source": [
    "# for loop"
   ]
  },
  {
   "cell_type": "code",
   "execution_count": 41,
   "id": "34cb9483",
   "metadata": {},
   "outputs": [
    {
     "name": "stdout",
     "output_type": "stream",
     "text": [
      "Happy Diwali!!!\n",
      "End\n"
     ]
    }
   ],
   "source": [
    "for i in data:\n",
    "    print(i,end=\"\")\n",
    "print(\"\\nEnd\")"
   ]
  },
  {
   "cell_type": "code",
   "execution_count": 44,
   "id": "6ab64c58",
   "metadata": {},
   "outputs": [
    {
     "name": "stdout",
     "output_type": "stream",
     "text": [
      "Enter the String: Hello\n",
      "Vowel count in 'Hello': 2\n"
     ]
    }
   ],
   "source": [
    "a = input(\"Enter the String: \")\n",
    "vowel_count = 0\n",
    "for char in a:\n",
    "    if char.lower() in [\"a\", \"e\", \"i\", \"o\", \"u\"]:\n",
    "        vowel_count += 1\n",
    "\n",
    "print(f\"Vowel count in '{a}': {vowel_count}\")"
   ]
  },
  {
   "cell_type": "code",
   "execution_count": 45,
   "id": "c26ea011",
   "metadata": {},
   "outputs": [
    {
     "name": "stdout",
     "output_type": "stream",
     "text": [
      "Enter the String: TASMIYA\n",
      "Vowel count in 'TASMIYA': 3\n"
     ]
    }
   ],
   "source": [
    "a = input(\"Enter the String: \")\n",
    "data=\"aeiou\"\n",
    "vowel_count = 0\n",
    "for char in a:\n",
    "    if char.lower() in data:\n",
    "        vowel_count += 1\n",
    "\n",
    "print(f\"Vowel count in '{a}': {vowel_count}\")"
   ]
  },
  {
   "cell_type": "code",
   "execution_count": 51,
   "id": "7d440bb2",
   "metadata": {},
   "outputs": [
    {
     "name": "stdout",
     "output_type": "stream",
     "text": [
      "Enter the String: qwertyu\n",
      "count in the string: 7\n"
     ]
    }
   ],
   "source": [
    "a = input(\"Enter the String: \")\n",
    "count = 0\n",
    "for i in a:\n",
    "    count += 1\n",
    "print(f\"count in the string: {count}\")\n"
   ]
  },
  {
   "cell_type": "markdown",
   "id": "06c835cc-c746-4b85-a366-7d7ef4c1aa93",
   "metadata": {},
   "source": [
    "# if else"
   ]
  },
  {
   "cell_type": "code",
   "execution_count": 62,
   "id": "0f6f64ac",
   "metadata": {},
   "outputs": [
    {
     "name": "stdout",
     "output_type": "stream",
     "text": [
      "Enter the Start point: 20\n",
      "Enter the End point: 100\n",
      "Ending point is greater than starting point\n"
     ]
    }
   ],
   "source": [
    "a = int(input(\"Enter the Start point: \"))\n",
    "b = int(input(\"Enter the End point: \"))\n",
    "i = 1\n",
    "if a > b:\n",
    "    for i in range(a,b+1):\n",
    "        print(i)\n",
    "else:\n",
    "    print(\"Ending point is greater than starting point\")"
   ]
  },
  {
   "cell_type": "code",
   "execution_count": 69,
   "id": "3f8376b2",
   "metadata": {},
   "outputs": [
    {
     "name": "stdout",
     "output_type": "stream",
     "text": [
      "Enter the Start point: 5\n",
      "Enter the End point: 500\n",
      "15\n",
      "30\n",
      "45\n",
      "60\n",
      "75\n",
      "90\n",
      "105\n",
      "120\n",
      "135\n",
      "150\n",
      "165\n",
      "180\n",
      "195\n",
      "210\n",
      "225\n",
      "240\n",
      "255\n",
      "270\n",
      "285\n",
      "300\n",
      "315\n",
      "330\n",
      "345\n",
      "360\n",
      "375\n",
      "390\n",
      "405\n",
      "420\n",
      "435\n",
      "450\n",
      "465\n",
      "480\n",
      "495\n"
     ]
    }
   ],
   "source": [
    "a = int(input(\"Enter the Start point: \"))\n",
    "b = int(input(\"Enter the End point: \"))\n",
    "i = 1\n",
    "if a < b:\n",
    "    for i in range(a, b + 1):\n",
    "        if i % 5 == 0 and i % 15 == 0:\n",
    "            print(i)\n",
    "else:\n",
    "    print(\"Ending point is greater than starting point\")            "
   ]
  },
  {
   "cell_type": "markdown",
   "id": "e7f0f4ad-01d2-4800-9cae-d59cade151b8",
   "metadata": {},
   "source": [
    "# if with for"
   ]
  },
  {
   "cell_type": "code",
   "execution_count": 73,
   "id": "ed30583e",
   "metadata": {},
   "outputs": [
    {
     "name": "stdout",
     "output_type": "stream",
     "text": [
      "Enter the Start point: 1\n",
      "Enter the End point: 10\n",
      "Total even numbers: 5\n",
      "Total odd numbers: 5\n"
     ]
    }
   ],
   "source": [
    "a = int(input(\"Enter the Start point: \"))\n",
    "b = int(input(\"Enter the End point: \"))\n",
    "\n",
    "even_count = 0\n",
    "odd_count = 0\n",
    "\n",
    "if a < b:\n",
    "    for i in range(a, b + 1):\n",
    "        if i % 2 == 0:\n",
    "            even_count += 1\n",
    "        else:\n",
    "            odd_count += 1\n",
    "\n",
    "print(f\"Total even numbers: {even_count}\")\n",
    "print(f\"Total odd numbers: {odd_count}\")"
   ]
  },
  {
   "cell_type": "code",
   "execution_count": null,
   "id": "1d1512f6",
   "metadata": {},
   "outputs": [],
   "source": []
  }
 ],
 "metadata": {
  "kernelspec": {
   "display_name": "Python 3 (ipykernel)",
   "language": "python",
   "name": "python3"
  },
  "language_info": {
   "codemirror_mode": {
    "name": "ipython",
    "version": 3
   },
   "file_extension": ".py",
   "mimetype": "text/x-python",
   "name": "python",
   "nbconvert_exporter": "python",
   "pygments_lexer": "ipython3",
   "version": "3.12.4"
  }
 },
 "nbformat": 4,
 "nbformat_minor": 5
}
