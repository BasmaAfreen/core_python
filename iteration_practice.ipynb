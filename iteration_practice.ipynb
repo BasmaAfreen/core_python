{
 "cells": [
  {
   "cell_type": "markdown",
   "id": "bab77f35-6f7b-47d6-9109-e725560ff7d9",
   "metadata": {},
   "source": [
    "#### write a python code to print the number from 1 till 10."
   ]
  },
  {
   "cell_type": "code",
   "execution_count": 33,
   "id": "5894e161-9941-4387-bdee-ae9f76b52df8",
   "metadata": {},
   "outputs": [
    {
     "name": "stdout",
     "output_type": "stream",
     "text": [
      "1\n",
      "2\n",
      "3\n",
      "4\n",
      "5\n",
      "6\n",
      "7\n",
      "8\n"
     ]
    }
   ],
   "source": [
    "i=1\n",
    "if i >=1 and i<=10 : print(i)\n",
    "i+=1\n",
    "if i<=10 : print(i)\n",
    "i+=1\n",
    "if i<=10 : print(i)\n",
    "i+=1\n",
    "if i<=10 : print(i)\n",
    "i+=1\n",
    "if i<=10 : print(i)\n",
    "i+=1\n",
    "if i<=10 : print(i)\n",
    "i+=1\n",
    "if i<=10 : print(i)\n",
    "i+=1\n",
    "if i<=10 : print(i)\n"
   ]
  },
  {
   "cell_type": "markdown",
   "id": "9c70e517-d3ed-4aa2-973a-7353f8c3077b",
   "metadata": {},
   "source": [
    "# so here comes loop                :)\n",
    "                            \n",
    "that iterates 10 times                "
   ]
  },
  {
   "cell_type": "code",
   "execution_count": 30,
   "id": "7e0e6b25-9e53-43f1-891c-094ba8020cd4",
   "metadata": {},
   "outputs": [
    {
     "name": "stdout",
     "output_type": "stream",
     "text": [
      "1\n",
      "2\n",
      "3\n",
      "4\n",
      "5\n",
      "6\n",
      "7\n",
      "8\n",
      "9\n",
      "10\n"
     ]
    }
   ],
   "source": [
    "i=1\n",
    "while i <= 10:\n",
    "    print(i)\n",
    "    i +=1"
   ]
  },
  {
   "cell_type": "code",
   "execution_count": 35,
   "id": "93f0fbdd-4b9e-4e3d-a6f6-043c9c9533d6",
   "metadata": {},
   "outputs": [
    {
     "name": "stdout",
     "output_type": "stream",
     "text": [
      "1\n",
      "2\n",
      "3\n",
      "4\n",
      "5\n",
      "6\n",
      "7\n",
      "8\n",
      "9\n",
      "10\n"
     ]
    }
   ],
   "source": [
    "for i in range (1 ,11):\n",
    "    print(i)\n",
    "    "
   ]
  },
  {
   "cell_type": "markdown",
   "id": "f02b008e-8772-40cf-a9e1-1ee2633e1f88",
   "metadata": {},
   "source": [
    "In Python for loop initialisation and incrementisation is not necessary??\n",
    "\n",
    "That's correct!\n",
    "\n",
    "In Python, for loops don't require explicit initialization or incrementation like other languages (e.g., C, Java). Instead, Python's for loop iterates directly over sequences (e.g., lists, tuples, strings) or iterators.\n",
    "\n",
    "Python's for loop syntax:\n",
    "\n",
    "\n",
    "for variable in iterable:\n",
    "    # do something\n",
    "\n",
    "\n",
    "No need for:\n",
    "\n",
    "1. Initialization (i = 0)\n",
    "2. Incrementation (i += 1)\n",
    "3. Conditional checks (i < len(iterable))\n",
    "\n",
    "Example:\n",
    "\n",
    "\n",
    "fruits = ['apple', 'banana', 'cherry']\n",
    "for fruit in fruits:\n",
    "    print(fruit)\n",
    "\n",
    "\n",
    "Python's for loop handles the iteration internally, making the code more concise and readable.\n",
    "\n",
    "However, if you need to iterate over a range of numbers, you can use the range() function:\n",
    "\n",
    "\n",
    "for i in range(5):  # iterate from 0 to 4\n",
    "    print(i)\n"
   ]
  },
  {
   "cell_type": "code",
   "execution_count": 36,
   "id": "634337ab-8265-4fbb-bb8f-43718f4d3669",
   "metadata": {},
   "outputs": [
    {
     "name": "stdout",
     "output_type": "stream",
     "text": [
      "0\n",
      "1\n",
      "2\n",
      "3\n",
      "4\n",
      "5\n",
      "6\n",
      "7\n",
      "8\n",
      "9\n"
     ]
    }
   ],
   "source": [
    "for i in range (10):\n",
    "    print(i)\n",
    "    "
   ]
  },
  {
   "cell_type": "code",
   "execution_count": 2,
   "id": "2a48b5e5-6b47-4f0d-b75f-b1cd7d3e1089",
   "metadata": {},
   "outputs": [
    {
     "name": "stdout",
     "output_type": "stream",
     "text": [
      "0\n",
      "1\n",
      "2\n",
      "3\n",
      "4\n",
      "5\n",
      "6\n",
      "7\n",
      "8\n",
      "9\n"
     ]
    }
   ],
   "source": [
    "for i in range (0 ,10):\n",
    "  \n",
    "    print(i)\n",
    "    "
   ]
  },
  {
   "cell_type": "code",
   "execution_count": null,
   "id": "dd3f7b85-7fe2-4760-99f4-711bc81b9a8d",
   "metadata": {},
   "outputs": [],
   "source": [
    "for i in range(1 ,10 ,2):\n",
    "    print(i)"
   ]
  },
  {
   "cell_type": "code",
   "execution_count": 3,
   "id": "381b1908-d345-47b1-b68c-bee739c9d00d",
   "metadata": {},
   "outputs": [
    {
     "name": "stdout",
     "output_type": "stream",
     "text": [
      "0\n",
      "1\n",
      "2\n",
      "3\n",
      "4\n",
      "5\n",
      "6\n",
      "7\n",
      "8\n",
      "9\n",
      "10\n"
     ]
    }
   ],
   "source": [
    "for i in range (0 ,10+1):\n",
    "  \n",
    "    print(i)\n",
    "    "
   ]
  },
  {
   "cell_type": "markdown",
   "id": "60c90d8a-e273-4b0a-a8d4-091d39746fd9",
   "metadata": {},
   "source": [
    "### write a python code from the user that will accept start point and end point from user and print the series of number "
   ]
  },
  {
   "cell_type": "code",
   "execution_count": 5,
   "id": "471fd994-700b-4797-b241-fb57731e41dd",
   "metadata": {},
   "outputs": [
    {
     "name": "stdin",
     "output_type": "stream",
     "text": [
      "Enter the start point   1\n",
      "Enter the end point  5\n"
     ]
    },
    {
     "name": "stdout",
     "output_type": "stream",
     "text": [
      "0\n",
      "1\n",
      "2\n",
      "3\n",
      "4\n",
      "5\n"
     ]
    }
   ],
   "source": [
    "a = int(input(\"Enter the start point  \"))\n",
    "b= int(input(\"Enter the end point \"))\n",
    "\n",
    "i=0\n",
    "while i <=end:\n",
    "    print(i)\n",
    "    i+=1\n"
   ]
  },
  {
   "cell_type": "code",
   "execution_count": 6,
   "id": "015fa994-eb82-4289-90d4-756846ebb302",
   "metadata": {},
   "outputs": [
    {
     "name": "stdin",
     "output_type": "stream",
     "text": [
      "Enter the start point   1\n",
      "Enter the end point  5\n"
     ]
    },
    {
     "name": "stdout",
     "output_type": "stream",
     "text": [
      "1\n",
      "2\n",
      "3\n",
      "4\n",
      "5\n"
     ]
    }
   ],
   "source": [
    "a = int(input(\"Enter the start point  \"))\n",
    "b= int(input(\"Enter the end point \"))\n",
    "\n",
    "\n",
    "\n",
    "for i in range(a,b+1):   # include end point , if + not given wont include\n",
    "    print(i)\n",
    "    "
   ]
  },
  {
   "cell_type": "markdown",
   "id": "56db0b8e-c4ff-4ad8-a1ac-432e15356553",
   "metadata": {},
   "source": [
    "### write a python code to ask user to enter a number. and based on the user enter value print the square of of that number"
   ]
  },
  {
   "cell_type": "code",
   "execution_count": 14,
   "id": "5e07c6e5-3ad1-45da-994e-cc94cb8a8a3c",
   "metadata": {},
   "outputs": [
    {
     "name": "stdin",
     "output_type": "stream",
     "text": [
      "Enter the start point   3\n"
     ]
    },
    {
     "name": "stdout",
     "output_type": "stream",
     "text": [
      "9\n"
     ]
    }
   ],
   "source": [
    "a = int(input(\"Enter the start point  \"))\n",
    "\n",
    "print(a*a)   \n",
    " "
   ]
  },
  {
   "cell_type": "code",
   "execution_count": null,
   "id": "6d171113-0a82-45d4-8725-00e42e44fb8e",
   "metadata": {},
   "outputs": [],
   "source": []
  },
  {
   "cell_type": "markdown",
   "id": "196910d7-66ce-4d4c-8737-b0fcbb2fbed9",
   "metadata": {},
   "source": [
    "### write a python code to ask user to enter a number. and based on the user enter value print the square of each number"
   ]
  },
  {
   "cell_type": "code",
   "execution_count": 12,
   "id": "5863d473-04df-45bc-9e28-9905c616a57c",
   "metadata": {},
   "outputs": [
    {
     "name": "stdin",
     "output_type": "stream",
     "text": [
      "Enter the start point   10\n"
     ]
    },
    {
     "name": "stdout",
     "output_type": "stream",
     "text": [
      "10\n",
      "20\n",
      "30\n",
      "40\n",
      "50\n",
      "60\n",
      "70\n",
      "80\n",
      "90\n",
      "100\n"
     ]
    }
   ],
   "source": [
    "a = int(input(\"Enter the start point  \"))\n",
    "\n",
    "\n",
    "i=1\n",
    "while i <=a: \n",
    "    \n",
    "    print(i*a)    #1 * ,2* ,3* ,4* , ......10\n",
    "    i+=1\n"
   ]
  },
  {
   "cell_type": "code",
   "execution_count": null,
   "id": "e07d4d25-c2e7-4647-a3d5-a1865b18bf13",
   "metadata": {},
   "outputs": [],
   "source": []
  },
  {
   "cell_type": "code",
   "execution_count": 27,
   "id": "e3de4a92-1844-4663-96e7-ba0552429bd2",
   "metadata": {},
   "outputs": [
    {
     "name": "stdin",
     "output_type": "stream",
     "text": [
      "Enter the start point   10\n"
     ]
    },
    {
     "name": "stdout",
     "output_type": "stream",
     "text": [
      "0\n",
      "10\n",
      "20\n",
      "30\n",
      "40\n",
      "50\n",
      "60\n",
      "70\n",
      "80\n",
      "90\n",
      "100\n"
     ]
    }
   ],
   "source": [
    "a = int(input(\"Enter the start point  \"))\n",
    "for i in range(a+1):\n",
    "    print(i*a)\n",
    "   "
   ]
  },
  {
   "cell_type": "code",
   "execution_count": null,
   "id": "120ff0a5-22c3-421f-a2e7-4f07601f7d2e",
   "metadata": {},
   "outputs": [],
   "source": []
  },
  {
   "cell_type": "code",
   "execution_count": 40,
   "id": "ab6b08f2-f257-4998-9f1b-ecd2f23fd852",
   "metadata": {},
   "outputs": [
    {
     "name": "stdout",
     "output_type": "stream",
     "text": [
      "a\n",
      "s\n",
      "v\n",
      "b\n"
     ]
    }
   ],
   "source": [
    "var =['a','s','v','b']\n",
    "for i in var:\n",
    "    print(i)"
   ]
  },
  {
   "cell_type": "code",
   "execution_count": 9,
   "id": "7d482fa2-b35c-4fc8-86f2-126d7311e218",
   "metadata": {},
   "outputs": [
    {
     "name": "stdin",
     "output_type": "stream",
     "text": [
      "enter 10\n"
     ]
    },
    {
     "name": "stdout",
     "output_type": "stream",
     "text": [
      "1\n",
      "3\n",
      "6\n",
      "10\n",
      "15\n",
      "21\n",
      "28\n",
      "36\n",
      "45\n"
     ]
    }
   ],
   "source": [
    "a=int(input(\"enter\"))\n",
    "sum=0\n",
    "for i in range( 1, a):\n",
    "    sum +=i\n",
    "    print(sum)"
   ]
  },
  {
   "cell_type": "code",
   "execution_count": 46,
   "id": "10573d47-9779-420f-90f4-8eeaca2fa3ca",
   "metadata": {},
   "outputs": [
    {
     "name": "stdout",
     "output_type": "stream",
     "text": [
      "1\n",
      "3\n",
      "5\n",
      "7\n",
      "9\n"
     ]
    }
   ],
   "source": [
    "for i in range(1 ,10 ,2):\n",
    "    print(i)"
   ]
  },
  {
   "cell_type": "code",
   "execution_count": 3,
   "id": "1aa02941-4559-4f5d-8fe3-985e8a2f8ace",
   "metadata": {},
   "outputs": [
    {
     "name": "stdin",
     "output_type": "stream",
     "text": [
      "wklj 19\n",
      "wklj 10\n"
     ]
    },
    {
     "name": "stdout",
     "output_type": "stream",
     "text": [
      "19\n",
      "38\n",
      "57\n",
      "76\n",
      "95\n",
      "114\n",
      "133\n",
      "152\n",
      "171\n",
      "190\n"
     ]
    }
   ],
   "source": [
    "a=int(input(\"wklj\"))#19\n",
    "b=int(input(\"wklj\")) # 10\n",
    "i =1\n",
    "while i <= b:  # 1 <= 10\n",
    "     print( a * i)  # #19 *1\n",
    "     i+=1   # 1+=1=1"
   ]
  },
  {
   "cell_type": "code",
   "execution_count": null,
   "id": "ea720d71-4392-4c48-94f3-f69beafa6c0a",
   "metadata": {},
   "outputs": [],
   "source": []
  }
 ],
 "metadata": {
  "kernelspec": {
   "display_name": "Python 3 (ipykernel)",
   "language": "python",
   "name": "python3"
  },
  "language_info": {
   "codemirror_mode": {
    "name": "ipython",
    "version": 3
   },
   "file_extension": ".py",
   "mimetype": "text/x-python",
   "name": "python",
   "nbconvert_exporter": "python",
   "pygments_lexer": "ipython3",
   "version": "3.12.4"
  }
 },
 "nbformat": 4,
 "nbformat_minor": 5
}
