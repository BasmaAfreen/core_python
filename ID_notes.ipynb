{
 "cells": [
  {
   "cell_type": "code",
   "execution_count": 14,
   "id": "b6ee7d44-833c-4f24-a10f-266e00fbe890",
   "metadata": {},
   "outputs": [
    {
     "name": "stdin",
     "output_type": "stream",
     "text": [
      "enter 7\n"
     ]
    },
    {
     "name": "stdout",
     "output_type": "stream",
     "text": [
      "cannot voot\n"
     ]
    }
   ],
   "source": [
    "a=int(input(\"enter\"))\n",
    "if a >= 18:\n",
    "    print(\"can vote\")\n",
    "else :\n",
    "    print(\"cannot vote\")"
   ]
  },
  {
   "cell_type": "code",
   "execution_count": 26,
   "id": "3964ca22-9337-4086-b650-718b0cd3bbf3",
   "metadata": {},
   "outputs": [
    {
     "name": "stdin",
     "output_type": "stream",
     "text": [
      "enter 12\n",
      "enter 3\n",
      "enter 3\n"
     ]
    },
    {
     "name": "stdout",
     "output_type": "stream",
     "text": [
      "a is greater 12\n"
     ]
    }
   ],
   "source": [
    "a=int(input(\"enter\")) #\n",
    "b=int(input(\"enter\"))\n",
    "c=int(input(\"enter\"))\n",
    "if a >= b and a >= c:\n",
    "    print(\"a is greater :\",a)\n",
    "else :\n",
    "    print(\" not greater\") "
   ]
  },
  {
   "cell_type": "code",
   "execution_count": 24,
   "id": "06733b92-4795-4a63-b276-0310c386f3df",
   "metadata": {},
   "outputs": [
    {
     "name": "stdout",
     "output_type": "stream",
     "text": [
      "12\n"
     ]
    }
   ],
   "source": [
    "a=12\n",
    "b=3\n",
    "c=4\n",
    "if a >= b and a >= c:\n",
    "    print(a)\n",
    "else :\n",
    "    print(\" not greater\") "
   ]
  },
  {
   "cell_type": "code",
   "execution_count": 27,
   "id": "f5332016-2155-45ed-ba31-ac215b272558",
   "metadata": {},
   "outputs": [
    {
     "name": "stdin",
     "output_type": "stream",
     "text": [
      "enter 2024\n"
     ]
    },
    {
     "name": "stdout",
     "output_type": "stream",
     "text": [
      "leap year 2024\n"
     ]
    }
   ],
   "source": [
    "a=int(input(\"enter\"))\n",
    "if a % 4==0:                                                                # bcz leap year comes evry 4 year\n",
    "    print(\"leap year\",a)\n",
    "else :\n",
    "    print(\"year\")"
   ]
  },
  {
   "cell_type": "code",
   "execution_count": 29,
   "id": "c6e68f62-67f8-4049-aebf-5c5029ae611f",
   "metadata": {},
   "outputs": [
    {
     "name": "stdin",
     "output_type": "stream",
     "text": [
      "enter 6\n"
     ]
    },
    {
     "name": "stdout",
     "output_type": "stream",
     "text": [
      "div by both 2 and 3  6\n"
     ]
    }
   ],
   "source": [
    "a=int(input(\"enter\"))\n",
    "if a % 2==0 and a%3==0:                                                                # bcz leap year comes evry 4 year\n",
    "    print(\"div by both 2 and 3 \",a)\n",
    "else :\n",
    "    print(\"year\")"
   ]
  },
  {
   "cell_type": "markdown",
   "id": "0b6778d7-11d1-404b-8717-b8e01b57bcf8",
   "metadata": {},
   "source": [
    "You've provided two code snippets:\n",
    "\n",
    "Snippet 1: Day of the week\n",
    "\n",
    "day = input(\"enter\")\n",
    "if day is \"sunday\" and day is \"saturday\":\n",
    "    print(\"weekend\")\n",
    "else:\n",
    "    print(\"weekday\")\n",
    "\n",
    "Issues:\n",
    "\n",
    "1. day is \"sunday\" and day is \"saturday\" will always be False because day can't be both values simultaneously.\n",
    "2. Use == for string comparison, not is.\n",
    "3. Use or instead of and.\n",
    "\n",
    "Corrected Snippet 1:\n",
    "\n",
    "day = input(\"enter\").lower()\n",
    "if day == \"sunday\" or day == \"saturday\":\n",
    "    print(\"weekend\")\n",
    "else:\n",
    "    print(\"weekday\")\n",
    "\n",
    "\n",
    "Snippet 2: Divisible by 2 and 3\n",
    "\n",
    "a = int(input(\"enter\"))\n",
    "if a % 2 == 0 and a % 3 == 0:\n",
    "    print(\"div by both 2 and 3\", a)\n",
    "else:\n",
    "    print(\"year\")\n",
    "\n",
    "Issues:\n",
    "\n",
    "1. The comment mentions leap year, but the condition checks divisibility by 2 and 3, not 4.\n",
    "2. The else clause prints \"year\", which might be misleading.\n",
    "\n",
    "Corrected Snippet 2:\n",
    "\n",
    "a = int(input(\"enter\"))\n",
    "if a % 2 == 0 and a % 3 == 0:\n",
    "    print(\"Divisible by both 2 and 3\", a)\n",
    "else:\n",
    "    print(\"Not divisible by both\")\n",
    "\n",
    "\n",
    "Key differences:\n",
    "\n",
    "1. Comparison operators: is (identity) vs == (equality).\n",
    "2. Logical operators: and (both conditions) vs or (either condition).\n",
    "3. Code clarity and accuracy.\n",
    "\n",
    "\n",
    "\n",
    "\n"
   ]
  },
  {
   "cell_type": "markdown",
   "id": "65d38e01-fe59-4ea6-b3d6-c80ffc79aabb",
   "metadata": {},
   "source": [
    "In Python:\n",
    "\n",
    "== (Double Equals) checks for equality:\n",
    "\n",
    "- Compares values of variables\n",
    "- Returns True if values are equal, False otherwise\n",
    "\n",
    "is (Identity Operator) checks for identity:\n",
    "\n",
    "- Compares memory locations of variables\n",
    "- Returns True if variables point to the same object, False otherwise\n",
    "\n",
    "Example:\n",
    "\n",
    "\n",
    "a = \"hello\"\n",
    "b = \"hello\"\n",
    "\n",
    "print(a == b)  # True (values are equal)\n",
    "print(a is b)  # True (variables point to the same string object, due to internment)\n",
    "\n",
    "c = [1, 2, 3]\n",
    "d = [1, 2, 3]\n",
    "\n",
    "print(c == d)  # True (values are equal)\n",
    "print(c is d)  # False (variables point to different list objects)\n",
    "``'\n",
    "\n",
    "When to use:\n",
    "\n",
    "* `==` for comparing values (e.g., numbers, strings)\n",
    "* `is` for comparing identities (e.g., checking if two variables point to the same object)\n",
    "\n",
    "Best practice:\n",
    "\n",
    "* Use `==` for equality checks unless you specifically need to check identity.\n"
   ]
  },
  {
   "cell_type": "markdown",
   "id": "2069b946-950f-4e03-b52d-ed52c977ca9b",
   "metadata": {},
   "source": [
    "# 1. \"Pointing to the same object\" means that two or more variables refer to the exact same memory location, containing the same value.\n",
    "\n",
    "Here are examples:\n",
    "\n",
    "Strings (due to internment)\n",
    "\n",
    "\n",
    "a = \"hello\"\n",
    "b = \"hello\"\n",
    "\n",
    "print(id(a))  # 4381234416\n",
    "print(id(b))  # 4381234416 (same memory location)\n",
    "\n",
    "print(a is b)  # True\n",
    "\n",
    "________________________________________________________________________________________________________________________________________________________\n",
    "Lists (not due to internment)\n",
    "\n",
    "\n",
    "c = [1, 2, 3]\n",
    "d = [1, 2, 3]\n",
    "\n",
    "print(id(c))  # 4381234992\n",
    "print(id(d))  # 4381235056 (different memory locations)\n",
    "\n",
    "print(c is d)  # False\n",
    "\n",
    "\n",
    "Explicitly pointing to same object\n",
    "\n",
    "\n",
    "e = [1, 2, 3]\n",
    "f = e\n",
    "\n",
    "print(id(e))  # 4381234992\n",
    "print(id(f))  # 4381234992 (same memory location)\n",
    "\n",
    "print(e is f)  # True\n",
    "\n",
    "\n",
    "In the last example, f is assigned the same object as e, so they point to the same memory location.\n",
    "\n",
    "Understanding this concept helps in:\n",
    "\n",
    "- Memory management\n",
    "- Object-oriented programming\n",
    "- Optimizing code\n",
    "\n",
    "Let me know if you have more questions!\n",
    "\n",
    "\n",
    "4...........................................................\n",
    "\n",
    "Internment, in the context of programming, refers to the process of storing only one copy of each distinct string value in memory. This technique is called \"string internment\" or \"string interning.\"\n",
    "\n",
    "How it works:\n",
    "\n",
    "1. When a program creates a string, the runtime environment checks if the same string already exists in memory.\n",
    "2. If it does, the new variable points to the existing string object.\n",
    "3. If not, a new string object is created in memory.\n",
    "\n",
    "Benefits:\n",
    "\n",
    "1. Memory efficiency: Reduces memory usage by avoiding duplicate string storage.\n",
    "2. Faster comparison: Comparing interned strings using is operator is faster than comparing non-interned strings using == operator.\n",
    "\n",
    "Example in Python:\n",
    "\n",
    "\n",
    "a = \"hello\"\n",
    "b = \"hello\"\n",
    "\n",
    "print(id(a))  # 4381234416\n",
    "print(id(b))  # 4381234416 (same memory location)\n",
    "\n",
    "print(a is b)  # True\n",
    "\n",
    "\n",
    "In this example, a and b point to the same string object in memory due to internment.\n",
    "\n",
    "Note:\n",
    "\n",
    "- Internment is not guaranteed for all strings in all programming languages.\n",
    "- In Python, internment is implemented for strings, but not for other data types like lists or dictionaries.\n",
    "- Internment can be affected by factors like string length, encoding, and runtime environment.\n",
    "\n",
    "Internment helps optimize memory usage and improves performance in certain scenarios.\n",
    "\n",
    "\n",
    "\n",
    "5........................\n",
    "For numbers, the concept similar to internment is called \"integer caching\" or \"small integer optimization.\"\n",
    "\n",
    "Integer Caching:\n",
    "\n",
    "In some programming languages, including Python, small integers (-5 to 256) are cached, meaning:\n",
    "\n",
    "1. Only one copy of each small integer is stored in memory.\n",
    "2. Variables assigned these values point to the cached copy.\n",
    "\n",
    "Example in Python:\n",
    "\n",
    "\n",
    "a = 5\n",
    "b = 5\n",
    "\n",
    "print(id(a))  # 140715231532032\n",
    "print(id(b))  # 140715231532032 (same memory location)\n",
    "\n",
    "print(a is b)  # True\n",
    "\n",
    "\n",
    "In this example, a and b point to the same integer object in memory due to integer caching.\n",
    "\n",
    "Benefits:\n",
    "\n",
    "1. Memory efficiency\n",
    "2. Faster comparison\n",
    "\n",
    "Limits:\n",
    "\n",
    "- Python caches integers from -5 to 256.\n",
    "- Other languages may have different caching ranges.\n",
    "\n",
    "Note:\n",
    "\n",
    "- Integer caching is not guaranteed for all numbers or languages.\n",
    "- Larger integers or floating-point numbers are not cached.\n",
    "\n",
    "Other Data Types:\n",
    "\n",
    "- Floats: Not cached in Python.\n",
    "- Lists, Dictionaries, Objects: Not cached.\n",
    "\n",
    "- only\n",
    "- Strings: Interned (as discussed earlier).\n",
    "\n",
    "Understanding integer caching helps optimize code and explains why certain comparisons behave unexpectedly."
   ]
  },
  {
   "cell_type": "markdown",
   "id": "64e912e1-e307-4dc8-9242-5d575eedabde",
   "metadata": {},
   "source": [
    "# Q ...A= 12 \n",
    "A= 13\n",
    "B= \"c\" \n",
    "B=\"d \n",
    "Why does it return different memory location... We are replacing the 12 with 13  so when I ask id of  A Or B it should return the id of a\n",
    "where 12 is stored when I call  again a stored 13\n",
    "\n",
    "You're observing the behavior of Python's assignment and memory management.\n",
    "\n",
    "In Python, when you assign a value to a variable, it doesn't store the value in the variable itself. Instead, it stores a reference to the value in memory.\n",
    "\n",
    "# Here's what happens in your example:\n",
    "\n",
    "1. A = 12: Python creates an integer object with the value 12 in memory and assigns a reference to it to the variable A. \n",
    "Let's say the memory address is 0x1000. So, A points to 0x1000.\n",
    "\n",
    "2. A = 13: Python creates a new integer object with the value 13 in memory and assigns a reference to it to the variable A.\n",
    "Let's say the memory address is 0x2000. So, A now points to 0x2000. The original object at 0x1000 is still in memory, but it's no longer referenced by A.\n",
    "\n",
    "3. B = \"c\": Python creates a string object with the value \"c\" in memory and assigns a reference to it to the variable B. \n",
    "Let's say the memory address is 0x3000. So, B points to 0x3000.\n",
    "\n",
    "4. B = \"d\": Python creates a new string object with the value \"d\" in memory and assigns a reference to it to the variable B. \n",
    "Let's say the memory address is 0x4000. So, B now points to 0x4000. The original object at 0x3000 is still in memory, but it's no longer referenced by B.\n",
    "\n",
    "When you print the id() of A or B, you're getting the memory address of the current object they reference. Since the objects are created anew each time you assign a new value, the memory addresses are different.\n",
    "\n",
    "Here's some example code to illustrate this:\n",
    "\n",
    "\n",
    "A = 12\n",
    "print(id(A))  # prints the memory address of the integer object 12\n",
    "\n",
    "A = 13\n",
    "print(id(A))  # prints the memory address of the integer object 13\n",
    "\n",
    "B = \"c\"\n",
    "print(id(B))  # prints the memory address of the string object \"c\"\n",
    "\n",
    "B = \"d\"\n",
    "print(id(B))  # prints the memory address of the string object \"d\"\n"
   ]
  },
  {
   "cell_type": "markdown",
   "id": "4685b41a-1cc7-407a-b6d7-dabce603f96d",
   "metadata": {},
   "source": [
    "Then y not for this a [1,2,3][1,2,3] memory location is different\n",
    "\n",
    "1....................\n",
    "Lists, unlike integers and strings, are mutable objects. This means their contents can change after creation.\n",
    "\n",
    "Python doesn't cache lists because:\n",
    "\n",
    "1. Mutability: Lists can change, making caching less efficient.\n",
    "2. Dynamic size: Lists can grow or shrink, making memory allocation complex.\n",
    "3. Unpredictable hash values: Lists' hash values can change, affecting dictionary storage.\n",
    "\n",
    "When you create two identical lists:\n",
    "\n",
    "\n",
    "a = [1, 2, 3]\n",
    "b = [1, 2, 3]\n",
    "``\"\n",
    "\n",
    "Python creates two separate list objects in memory:\n",
    "\n",
    "\n",
    "print(id(a))  # 4381234992\n",
    "print(id(b))  # 4381235056 (different memory locations)\n",
    "\n",
    "\n",
    "Although their contents are identical, `a` and `b` point to different objects.\n",
    "\n",
    "However, if you assign `a` to `b`:\n",
    "\n",
    "\n",
    "a = [1, 2, 3]\n",
    "b = a\n",
    "\n",
    "\n",
    "Now `a` and `b` point to the same list object:\n",
    "\n",
    "\n",
    "print(id(a))  # 4381234992\n",
    "print(id(b))  # 4381234992 (same memory location)\n",
    "\n",
    "\n",
    "This is because assignment (`b = a`) makes `b` reference the same object as `a`.\n",
    "\n",
    "To summarize:\n",
    "\n",
    "*   Integers and strings (immutable): Cached for efficiency.\n",
    "*   Lists (mutable): Not cached due to dynamic nature.\n",
    "\n",
    "This design choice balances memory efficiency with flexibility for mutable objects.\n",
    "\n",
    "2.......................................................\n",
    "Here's a simple explanation:\n",
    "\n",
    "Lists:\n",
    "\n",
    "- Can change (add/remove items)\n",
    "- Not stored in same memory location (even if identical)\n",
    "- Example: a = [1,2,3], b = [1,2,3] have different memory locations\n",
    "\n",
    "Integers & Strings:\n",
    "\n",
    "- Can't change\n",
    "- Stored in same memory location (if identical)\n",
    "- Example: a = 5, b = 5 have same memory location\n",
    "\n",
    "Why?\n",
    "\n",
    "- Lists are flexible, so caching isn't helpful.\n",
    "- Integers & strings are fixed, so caching saves memory.\n",
    "\n",
    "That's it!\n",
    "    \n",
    "3..............................................\n",
    "\n",
    "Caching means:\n",
    "\n",
    "Storing frequently-used data in a quick-access location\n",
    "\n",
    "Goals:\n",
    "\n",
    "1. Faster access\n",
    "2. Reduced memory usage\n",
    "3. Improved performance\n",
    "\n",
    "How caching works:\n",
    "\n",
    "1. Store data in a special area (cache)\n",
    "2. When needed, check cache first\n",
    "3. If found, use cached data (fast)\n",
    "4. If not found, retrieve from original source (slower)\n",
    "\n",
    "Types of caching:\n",
    "\n",
    "1. Memory caching (RAM)\n",
    "2. Disk caching (hard drive)\n",
    "3. Web caching (browser)\n",
    "\n",
    "Examples:\n",
    "\n",
    "1. Browser cache (stores web pages)\n",
    "2. CPU cache (stores frequently-used instructions)\n",
    "3. Python's integer caching (stores small integers)\n",
    "\n",
    "Benefits:\n",
    "\n",
    "1. Faster access times\n",
    "2. Reduced memory usage\n",
    "3. Improved system performance\n",
    "\n",
    "Simple analogy:\n",
    "\n",
    "Caching is like keeping frequently-used books on a nearby shelf for easy access, instead of retrieving them from a distant library every time."
   ]
  },
  {
   "cell_type": "code",
   "execution_count": 34,
   "id": "0b7ab1b9-5822-4ab5-99a6-064870c958e9",
   "metadata": {},
   "outputs": [
    {
     "name": "stderr",
     "output_type": "stream",
     "text": [
      "<>:2: SyntaxWarning: \"is\" with 'str' literal. Did you mean \"==\"?\n",
      "<>:2: SyntaxWarning: \"is\" with 'str' literal. Did you mean \"==\"?\n",
      "<>:2: SyntaxWarning: \"is\" with 'str' literal. Did you mean \"==\"?\n",
      "<>:2: SyntaxWarning: \"is\" with 'str' literal. Did you mean \"==\"?\n"
     ]
    },
    {
     "name": "stdin",
     "output_type": "stream",
     "text": [
      "enter kk\n"
     ]
    },
    {
     "name": "stdout",
     "output_type": "stream",
     "text": [
      "weekday\n"
     ]
    },
    {
     "name": "stderr",
     "output_type": "stream",
     "text": [
      "C:\\Users\\Basma\\AppData\\Local\\Temp\\ipykernel_15672\\3872464531.py:2: SyntaxWarning: \"is\" with 'str' literal. Did you mean \"==\"?\n",
      "  if  day is \"sunday\" or day is \"saturday\":\n",
      "C:\\Users\\Basma\\AppData\\Local\\Temp\\ipykernel_15672\\3872464531.py:2: SyntaxWarning: \"is\" with 'str' literal. Did you mean \"==\"?\n",
      "  if  day is \"sunday\" or day is \"saturday\":\n"
     ]
    }
   ],
   "source": [
    "day=input(\"enter\")\n",
    "if  day is \"sunday\" or day is \"saturday\":\n",
    "    print(\"weekend\")\n",
    "else :\n",
    "    print(\"weekday\")"
   ]
  },
  {
   "cell_type": "code",
   "execution_count": 37,
   "id": "f9382965-ae74-4fa9-bb8a-f1bbaf64a63e",
   "metadata": {},
   "outputs": [
    {
     "name": "stdin",
     "output_type": "stream",
     "text": [
      "enter MONDAY\n"
     ]
    },
    {
     "name": "stdout",
     "output_type": "stream",
     "text": [
      "weekday\n"
     ]
    }
   ],
   "source": [
    "day=input(\"enter\").lower()\n",
    "if  day ==\"sunday\" and day ==\"saturday\":\n",
    "    print(\"weekend\")\n",
    "else :\n",
    "    print(\"weekday\")"
   ]
  },
  {
   "cell_type": "markdown",
   "id": "29c5ec28-75ac-449d-9ed7-52ba73d0cebd",
   "metadata": {},
   "source": [
    "### ----------------------------------------------------------------------------------------------------------------------------------"
   ]
  },
  {
   "cell_type": "code",
   "execution_count": null,
   "id": "852b3957-d85e-433a-a22f-740b3f04de99",
   "metadata": {},
   "outputs": [],
   "source": []
  }
 ],
 "metadata": {
  "kernelspec": {
   "display_name": "Python 3 (ipykernel)",
   "language": "python",
   "name": "python3"
  },
  "language_info": {
   "codemirror_mode": {
    "name": "ipython",
    "version": 3
   },
   "file_extension": ".py",
   "mimetype": "text/x-python",
   "name": "python",
   "nbconvert_exporter": "python",
   "pygments_lexer": "ipython3",
   "version": "3.12.4"
  }
 },
 "nbformat": 4,
 "nbformat_minor": 5
}
