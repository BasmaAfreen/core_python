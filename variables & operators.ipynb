{
 "cells": [
  {
   "cell_type": "markdown",
   "id": "1209f0b8-bdcd-429d-bc56-c429972a6638",
   "metadata": {},
   "source": [
    "## variable: container where actual data is stored\n",
    "- data type: form of storage for your data\n",
    "- python is an expressive language\n"
   ]
  },
  {
   "cell_type": "code",
   "execution_count": 1,
   "id": "f5032993-b82a-4ca7-90ad-1fe1d40b2b54",
   "metadata": {},
   "outputs": [],
   "source": [
    "num1 = 12\n",
    "num2 = 45.22\n",
    "num3 = \"Python\"\n",
    "num4 = True\n",
    "num5 = 2+7j"
   ]
  },
  {
   "cell_type": "code",
   "execution_count": null,
   "id": "e53321ed-be02-404f-8cd8-3189be0ce35f",
   "metadata": {},
   "outputs": [],
   "source": [
    "rint(\"Value of Num1:\",num1)\n",
    "print(\"Value of Num2:\",num2)\n",
    "print(\"Value of Num3:\",num3)\n",
    "print(\"Value of Num4:\",num4)\n",
    "print(\"Value of Num5:\",num5)"
   ]
  },
  {
   "cell_type": "markdown",
   "id": "b1bf45e7-de01-426d-8207-0ab061f5b39b",
   "metadata": {},
   "source": [
    "#### type(): which is used to revel the data type of variable¶"
   ]
  },
  {
   "cell_type": "code",
   "execution_count": null,
   "id": "d2a64065-6cc4-4bcc-aa39-45e806d3d6f2",
   "metadata": {},
   "outputs": [],
   "source": [
    "print(type(num1))\n",
    "print(type(num2))\n",
    "print(type(num3))\n",
    "print(type(num4))\n",
    "print(type(num5))"
   ]
  },
  {
   "cell_type": "code",
   "execution_count": null,
   "id": "4a2bd6c4-a1fd-4483-82a6-26f9aa3438d5",
   "metadata": {},
   "outputs": [],
   "source": []
  },
  {
   "cell_type": "markdown",
   "id": "1730f947-8b64-4d72-a2d7-0e3ddfaa715f",
   "metadata": {},
   "source": [
    "## operators : are symbol and key words used to perform the specific operation"
   ]
  },
  {
   "cell_type": "markdown",
   "id": "16caf27f-a1c5-4688-98a4-77942c4dd9ce",
   "metadata": {},
   "source": [
    "### arithmetic operators"
   ]
  },
  {
   "cell_type": "code",
   "execution_count": 1,
   "id": "2d056155-5400-41ef-bbd0-f41db3e56675",
   "metadata": {},
   "outputs": [],
   "source": [
    "\n",
    "num1=2\n",
    "num2=3"
   ]
  },
  {
   "cell_type": "code",
   "execution_count": 2,
   "id": "fd46d93c-ae0f-4339-a1c9-0c45ff8cd448",
   "metadata": {},
   "outputs": [
    {
     "name": "stdout",
     "output_type": "stream",
     "text": [
      "5\n"
     ]
    }
   ],
   "source": [
    "print(num1+num2)"
   ]
  },
  {
   "cell_type": "code",
   "execution_count": 3,
   "id": "24a144a1-b174-4244-8a5d-f058f2438da2",
   "metadata": {},
   "outputs": [
    {
     "name": "stdout",
     "output_type": "stream",
     "text": [
      "-1\n",
      "6\n",
      "division  0.6666666666666666\n",
      "0\n",
      "modulus 2\n",
      "8\n"
     ]
    }
   ],
   "source": [
    "print(num1-num2)\n",
    "print(num1*num2)\n",
    "print(\"division \",num1/num2)   # quotient\n",
    "print(num1//num2)  # floor division  wont print values after . decimal point\n",
    "print( \"modulus\",num1%num2)   # reminder\n",
    "print(num1**num2)"
   ]
  },
  {
   "cell_type": "markdown",
   "id": "982e73d9-b0c8-490a-9f6b-6f6bed20dc87",
   "metadata": {},
   "source": [
    "### 2. comparision "
   ]
  },
  {
   "cell_type": "code",
   "execution_count": 4,
   "id": "adc43562-5ded-44e2-a120-f5bd8ed3d426",
   "metadata": {},
   "outputs": [
    {
     "name": "stdout",
     "output_type": "stream",
     "text": [
      "num1 =  90 num2 = 90\n",
      "True\n",
      "False\n",
      "lesser  False\n",
      "greter False\n",
      "True\n",
      "True\n"
     ]
    }
   ],
   "source": [
    "m1=90\n",
    "m2=90\n",
    "print(\"num1 = \" ,m1, \"num2 =\" ,m2)\n",
    "print(m1==m2)\n",
    "print(m1!=m2)\n",
    "print(\"lesser \" , m1<m2)\n",
    "print(\"greter\" ,m1>m2)\n",
    "print(m1>=m2)\n",
    "print(m1<=m2)"
   ]
  },
  {
   "cell_type": "markdown",
   "id": "ed55e969-c86a-42c0-be34-297885c27ff9",
   "metadata": {},
   "source": [
    "### 3. logical operator\n",
    "it is used to compare against the condition\n",
    "and : all must be true\n",
    "or : at least one condition must be true¶"
   ]
  },
  {
   "cell_type": "code",
   "execution_count": null,
   "id": "a9ce0151-bc05-4350-9d32-85fc6290f441",
   "metadata": {},
   "outputs": [],
   "source": [
    "con1=True\n",
    "con2=True\n",
    "con3=True\n",
    "print(con1 and con2 and con3)\n",
    "con4= False\n",
    "print(con1 and con2 and con3 and con4)\n",
    "#rror  (con1 and)\n",
    "print( con2 and con4)\n"
   ]
  },
  {
   "cell_type": "raw",
   "id": "cd748e3e-7960-4efe-afee-d7882d2c3da1",
   "metadata": {},
   "source": [
    "# or"
   ]
  },
  {
   "cell_type": "code",
   "execution_count": null,
   "id": "a4c06980-1333-4881-8821-725eb931b42b",
   "metadata": {},
   "outputs": [],
   "source": [
    "c1= False\n",
    "c2=False\n",
    "c3= True\n",
    "print(con1 or con2 or con3)"
   ]
  },
  {
   "cell_type": "code",
   "execution_count": null,
   "id": "9099ed0b-a26d-467b-86a1-a07e98bb2bbd",
   "metadata": {},
   "outputs": [],
   "source": []
  },
  {
   "cell_type": "markdown",
   "id": "9e0a4a04-f5f6-4fea-9a05-96989100ba0b",
   "metadata": {},
   "source": [
    "### not : will reverse th ouput\n",
    "true ---> false\r\n",
    "false ---> true\r\n"
   ]
  },
  {
   "cell_type": "code",
   "execution_count": 14,
   "id": "7104dc9c-3501-4328-8d19-5114f21aa51d",
   "metadata": {},
   "outputs": [
    {
     "name": "stdout",
     "output_type": "stream",
     "text": [
      "True\n",
      "False\n",
      "False\n",
      "True\n"
     ]
    }
   ],
   "source": [
    "c1= True\n",
    "c2=False\n",
    "c3= True\n",
    "print(c1)\n",
    "print(not c1 )\n",
    "print(c1 and c2) #anD should return false  is false but it will return true \n",
    "\n",
    "print(not(c1 and c2))#anD should return false  is false but it will return true "
   ]
  },
  {
   "cell_type": "markdown",
   "id": "b194890a-f503-4f3e-900d-27b612ebfa06",
   "metadata": {},
   "source": [
    "### membership operator    ============ object"
   ]
  },
  {
   "cell_type": "code",
   "execution_count": 15,
   "id": "c8853f7d-d0e3-4841-96c0-77f555f67e0a",
   "metadata": {},
   "outputs": [
    {
     "name": "stdout",
     "output_type": "stream",
     "text": [
      "False\n",
      "True\n"
     ]
    }
   ],
   "source": [
    "data= \"water\"\n",
    "# IN : MUST BE Present  var\n",
    "print(\"o\" in data)\n",
    "#  not IN : MUST not  be Present  var\n",
    "print(\"o\"  not in data)"
   ]
  },
  {
   "cell_type": "markdown",
   "id": "84c63f5c-a8af-4193-a0cf-a600841a7db0",
   "metadata": {},
   "source": [
    "\n",
    "# identity operator \n",
    "  checks  if both obj  have same memory location  "
   ]
  },
  {
   "cell_type": "code",
   "execution_count": 70,
   "id": "022e0ac0-f30d-49bd-a4a5-665911bf380c",
   "metadata": {},
   "outputs": [
    {
     "name": "stdout",
     "output_type": "stream",
     "text": [
      "True\n",
      "False\n"
     ]
    }
   ],
   "source": [
    "x=[\"bop\"]\n",
    "y=[\"bop\"]\n",
    "x=z\n",
    "print(x is z)\n",
    "print(x is y)\n",
    "# is a and b are identical\n",
    "#print(z is  not x)"
   ]
  },
  {
   "cell_type": "code",
   "execution_count": 71,
   "id": "65b13cc8-58df-4999-9acc-acf4216f3a2e",
   "metadata": {},
   "outputs": [
    {
     "name": "stdout",
     "output_type": "stream",
     "text": [
      "True\n",
      "True\n"
     ]
    }
   ],
   "source": [
    "x=\"bop\"\n",
    "y=\"bop\"\n",
    "x=z\n",
    "print(x is z)\n",
    "print(x is y)"
   ]
  },
  {
   "cell_type": "code",
   "execution_count": 33,
   "id": "a92946ec-12c2-447a-beaf-ca625a5b0fd3",
   "metadata": {},
   "outputs": [
    {
     "name": "stdout",
     "output_type": "stream",
     "text": [
      "False\n",
      "True\n",
      "False\n"
     ]
    }
   ],
   "source": [
    "a=12\n",
    "b=34\n",
    "print(a is b) #  is a and b are identical\n",
    "print(a is  not b)\n",
    "print(a == b)  # ONLY COMPARE FOR Numric values   and checks obj equality same content"
   ]
  },
  {
   "cell_type": "code",
   "execution_count": 28,
   "id": "851c9521-d4a5-45cb-a90d-19ff7cad9fe5",
   "metadata": {},
   "outputs": [
    {
     "name": "stdout",
     "output_type": "stream",
     "text": [
      "True\n",
      "True\n"
     ]
    }
   ],
   "source": [
    "a1=\"bob\"   \n",
    "b1=\"bob\"\n",
    "print(a1 ==b1)\n",
    "print(a1 is b1)"
   ]
  },
  {
   "cell_type": "markdown",
   "id": "44bc53d6-5105-4c74-982c-b41a26f158e9",
   "metadata": {},
   "source": [
    "# assingmnt operator "
   ]
  },
  {
   "cell_type": "raw",
   "id": "9e696591-d6f6-41f5-a9cb-4a3e23cdf89a",
   "metadata": {},
   "source": [
    "# which var you want to store the result\n",
    "ans:  var1"
   ]
  },
  {
   "cell_type": "raw",
   "id": "c61aa0b3-48c3-4ad2-86d4-002f364a356d",
   "metadata": {},
   "source": [
    "\n",
    "what opration you want to to prform\n",
    "ans  :  +\n"
   ]
  },
  {
   "cell_type": "code",
   "execution_count": 56,
   "id": "71c9f0ce-1d8c-42f0-bd95-a25b72c60d81",
   "metadata": {},
   "outputs": [
    {
     "name": "stdout",
     "output_type": "stream",
     "text": [
      "var1 32\n"
     ]
    }
   ],
   "source": [
    "var11= 12\n",
    "var21 = 20\n",
    "#print(var11)\n",
    "#print(var21)\n",
    "var11+= var21\n",
    "print(\"var1\",var1)"
   ]
  },
  {
   "cell_type": "code",
   "execution_count": null,
   "id": "b471ccf2-6c35-47ea-879f-d49c2f0e642a",
   "metadata": {},
   "outputs": [],
   "source": [
    "var11= 12\n",
    "var21 = 20\n",
    "#print(var11)\n",
    "#print(var21)\n",
    "var11+= var21\n",
    "print(\"var1\",var1"
   ]
  }
 ],
 "metadata": {
  "kernelspec": {
   "display_name": "Python 3 (ipykernel)",
   "language": "python",
   "name": "python3"
  },
  "language_info": {
   "codemirror_mode": {
    "name": "ipython",
    "version": 3
   },
   "file_extension": ".py",
   "mimetype": "text/x-python",
   "name": "python",
   "nbconvert_exporter": "python",
   "pygments_lexer": "ipython3",
   "version": "3.12.4"
  }
 },
 "nbformat": 4,
 "nbformat_minor": 5
}
