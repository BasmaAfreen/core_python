{
 "cells": [
  {
   "cell_type": "code",
   "execution_count": 1,
   "id": "a117157a-ce88-4277-a114-b1a9104a3125",
   "metadata": {},
   "outputs": [
    {
     "name": "stdout",
     "output_type": "stream",
     "text": [
      "5\n"
     ]
    }
   ],
   "source": [
    "\n",
    "num1=2\n",
    "num2=3\n",
    "print(num1+num2)"
   ]
  },
  {
   "cell_type": "markdown",
   "id": "4ac9fbe8-d134-4589-996c-46c4cee8ecf6",
   "metadata": {},
   "source": [
    "### change the val to 20 and 30"
   ]
  },
  {
   "cell_type": "code",
   "execution_count": null,
   "id": "fe23445c-45db-4c87-b8cf-436fad83476c",
   "metadata": {},
   "outputs": [],
   "source": [
    "\n",
    "num1=20\n",
    "num2=333\n",
    "print(num1+num2)"
   ]
  },
  {
   "cell_type": "markdown",
   "id": "a5cc56ad-728f-4b12-81c8-d1eb98fc9512",
   "metadata": {},
   "source": [
    "# Dynamic \n",
    "dynamic input : input the value when your application is on to execution\r\n",
    "input(): this function is used to accept the data from user at run time\r\n",
    "NOTE: bydefault the datatype for input method is string¶"
   ]
  },
  {
   "cell_type": "code",
   "execution_count": null,
   "id": "ecbca229-bcc9-42af-a423-082ca4c48383",
   "metadata": {},
   "outputs": [],
   "source": [
    "a=input()\n",
    "print(\"user entered value\", a)"
   ]
  },
  {
   "cell_type": "code",
   "execution_count": null,
   "id": "f8dec2bf-b469-4f89-a30c-c20907bb47f0",
   "metadata": {},
   "outputs": [],
   "source": [
    "a=input(\"enter the 1st value\")\n",
    "b=input(\"enter the 1st value\")\n",
    "print(\"addition\", a+b)"
   ]
  },
  {
   "cell_type": "code",
   "execution_count": null,
   "id": "8bc7a439-f38d-43a0-811e-981046e10b75",
   "metadata": {},
   "outputs": [],
   "source": [
    "a=input(\"enter the 1st value\")\n",
    "b=input(\"enter the 2nd value\")\n",
    "print(\"datatype of a\", type(a))\n",
    "print(\"datatype of b\" ,type(b))"
   ]
  },
  {
   "cell_type": "code",
   "execution_count": null,
   "id": "187a3fa9-1223-4023-836c-d661de6ccdaa",
   "metadata": {},
   "outputs": [],
   "source": [
    "a=int('12')\n",
    "print(\"datatype of a\", type(a))"
   ]
  },
  {
   "cell_type": "code",
   "execution_count": null,
   "id": "e4a20cad-80ea-49b7-b55e-668ca2762b5a",
   "metadata": {},
   "outputs": [],
   "source": [
    "a=int(input(\"enter the 1st value\"))\n",
    "b=int(input(\"enter the 2nd value\"))\n",
    "print(\"user entered\", a+b)"
   ]
  },
  {
   "cell_type": "markdown",
   "id": "8f7e7c42-49cc-4216-928a-5c2ba6b5d693",
   "metadata": {},
   "source": [
    "# conditional statments\n"
   ]
  },
  {
   "cell_type": "code",
   "execution_count": null,
   "id": "bfb307a8-e685-47c4-8946-ed2de2da580c",
   "metadata": {},
   "outputs": [],
   "source": [
    "num=12\n",
    "num>=0"
   ]
  },
  {
   "cell_type": "markdown",
   "id": "4c710412-4748-4804-9452-fb5385d37405",
   "metadata": {},
   "source": [
    "#   when we want to  execute  b/sonly  if the conditional is in true only"
   ]
  },
  {
   "cell_type": "raw",
   "id": "b52f4cd1-ae90-4c2c-815a-9b30d22b7fdc",
   "metadata": {},
   "source": [
    " z=10 \n",
    "if  z>0:\n",
    "    print(\"hllo\")  # blc\n",
    "    print(\"hii\")\n",
    "print(\"bye\")          # here we are breaking the indentation  ::::::and it will xecute thi line if the con is true or false"
   ]
  },
  {
   "cell_type": "code",
   "execution_count": null,
   "id": "147eac31-bdce-49fb-8fac-2670f1d07c6b",
   "metadata": {},
   "outputs": [],
   "source": [
    "z=-3 \n",
    "if  z>0:\n",
    "    print(\"hllo\")\n",
    "    print(\"hii\")  \n",
    "print(\"bye\")   "
   ]
  },
  {
   "cell_type": "markdown",
   "id": "b641156e-a443-4fe8-aef2-dd6f7dc73a4c",
   "metadata": {},
   "source": [
    "#### write a python code to check whether the input number from user is positive or negative"
   ]
  },
  {
   "cell_type": "code",
   "execution_count": null,
   "id": "0ea4e4e3-c98a-4f68-b512-da29317cfc16",
   "metadata": {},
   "outputs": [],
   "source": [
    "a=int(input(\"enter a value\"))\n",
    "if  a >=0:\n",
    "    print(\"positive no\", a)\n",
    "\n",
    "print(\"negative\",a)"
   ]
  },
  {
   "cell_type": "code",
   "execution_count": null,
   "id": "0b9793f1-4d6d-4ab9-8633-b9717c9740ad",
   "metadata": {},
   "outputs": [],
   "source": [
    "a=int(input(\"nter\"))\n",
    "if a >= 0:\n",
    "    print(\"yes\")\n",
    "else :\n",
    "    print(\"no\")"
   ]
  },
  {
   "cell_type": "markdown",
   "id": "49ec6d8e-db81-48af-8b33-b7bd3b97cdca",
   "metadata": {},
   "source": [
    "#### if___ and else___ block\r\n",
    "-\n",
    "we want to  execute bls whenf th if e codition n in false "
   ]
  },
  {
   "cell_type": "code",
   "execution_count": 2,
   "id": "593292b1-8cf6-4331-abed-81bea93964f5",
   "metadata": {},
   "outputs": [
    {
     "name": "stdin",
     "output_type": "stream",
     "text": [
      "enter the value 8\n"
     ]
    },
    {
     "name": "stdout",
     "output_type": "stream",
     "text": [
      "positive no. 8\n",
      "im will printing anyway\n"
     ]
    }
   ],
   "source": [
    "a=int(input(\"enter the value\"))\n",
    "if a>=0:\n",
    "    print(\"positive no.\",a)\n",
    "else:   \n",
    "    print(\"negative no\", a)\n",
    "print(\"i will be printing anyway\") \n"
   ]
  },
  {
   "cell_type": "markdown",
   "id": "907c0cf2-eabb-4658-a15c-66c9de8d0e6e",
   "metadata": {},
   "source": [
    "### "
   ]
  },
  {
   "cell_type": "code",
   "execution_count": null,
   "id": "9307d7ff-3289-480f-bb60-f164b90aa5c7",
   "metadata": {},
   "outputs": [],
   "source": [
    "a=int(input(\"Enter a value\"))\n",
    "if a==25 or a==50 or a==75 or a==80:\n",
    "    print(\"yes\")                                                                                              # it will print same statmnt for all con\n",
    "else:\n",
    "    print(\"NO\")"
   ]
  },
  {
   "cell_type": "markdown",
   "id": "2b45c94d-609a-470e-81d5-2de4161efb84",
   "metadata": {},
   "source": [
    "### >>>>>>>>>>>>>>>>>>>>>>>>>>>>>>>>>>>>>>>>>>>>>>>>>>>>>>>>>>>>>>>>>>"
   ]
  },
  {
   "cell_type": "code",
   "execution_count": null,
   "id": "550960e0-2cd7-46c6-87f0-716950873354",
   "metadata": {},
   "outputs": [],
   "source": []
  },
  {
   "cell_type": "markdown",
   "id": "12e04d22-16f7-474d-8be9-5fabd4af8138",
   "metadata": {},
   "source": [
    "### for checking multiple condition we need to go throung\n",
    "##### if ___ elif ____else statement"
   ]
  },
  {
   "cell_type": "code",
   "execution_count": null,
   "id": "5973357a-551f-4fea-b62a-aad6c07935d3",
   "metadata": {},
   "outputs": [],
   "source": [
    "a=int(input(\"Enter a value either 25, 50 ,75 and 80\"))\n",
    "if a==25:\n",
    "    print(\"Twenty -five\")\n",
    "elif a==50:\n",
    "    print(\"Fifty\")\n",
    "elif a==75:\n",
    "    print(\"seventy five\")\n",
    "elif a==80:\n",
    "    print(\"Eighty\")\n",
    "    print(\"eighty rupees will be added to your account\")\n",
    "else:\n",
    "    print(\"Unmatch value\")"
   ]
  },
  {
   "cell_type": "code",
   "execution_count": null,
   "id": "92d7f229-097b-4cc5-b0d3-94f78dbcf4ff",
   "metadata": {},
   "outputs": [],
   "source": [
    "# enter a value : 12"
   ]
  },
  {
   "cell_type": "code",
   "execution_count": null,
   "id": "d23de7d7-6d01-439d-a1ec-5bbadf295867",
   "metadata": {},
   "outputs": [],
   "source": [
    "#enter a value : 45"
   ]
  },
  {
   "cell_type": "code",
   "execution_count": null,
   "id": "6c38c3e0-d394-4fa5-acb4-1ff51b28c1dd",
   "metadata": {},
   "outputs": [],
   "source": [
    "#enter a operation : + , - , * , /"
   ]
  },
  {
   "cell_type": "code",
   "execution_count": null,
   "id": "e909c7d1-7e41-4ff3-a431-8327e0f3f81a",
   "metadata": {},
   "outputs": [],
   "source": [
    "a=int(input(\"enter  1st value\"))\n",
    "b=int(input(\"enter  2nd value\"))\n",
    "c=input(\"enter a operation : + , - , * , / :::\" )\n",
    "if c==\"+\":\n",
    "    print(a+b)\n",
    "elif c==\"-\":\n",
    "    print(a-b)\n",
    "elif c==\"*\":\n",
    "    print(\"Multiplication \",a*b)\n",
    "elif c==\"/\":\n",
    "    print(\"Division \",a/b)   \n",
    "else :\n",
    "    print(\"no operation is given\")\n",
    "    \n"
   ]
  },
  {
   "cell_type": "markdown",
   "id": "70283305-8865-4485-b6d6-6af84987dc99",
   "metadata": {},
   "source": [
    "#### nested if statement   e\n",
    "ex :excute blc only if you usr nam and password is tru or right"
   ]
  },
  {
   "cell_type": "code",
   "execution_count": null,
   "id": "75e21024-3a75-419f-a037-adcc6d6b7bf3",
   "metadata": {},
   "outputs": [],
   "source": [
    "a=int(input(\"Enter a value\")) \n",
    "if a>=0:\n",
    "    print(\"further evaluation\")\n",
    "    if a==25:\n",
    "        print(\"Twenty -five\")\n",
    "    elif a==50:\n",
    "        print(\"Fifty\")\n",
    "    elif a==75:\n",
    "        print(\"seventy five\")\n",
    "    elif a==80:\n",
    "        print(\"Eighty\")\n",
    "        print(\"eighty rupees will be added to your account\")\n",
    "    else:\n",
    "        print(\"Unmatch value\")\n",
    "else:\n",
    "    print(\"Negative Number \",a)\n",
    "print(\"Thank You\")\n"
   ]
  },
  {
   "cell_type": "markdown",
   "id": "1ecc511c-eb85-4e69-99a1-669cb97996db",
   "metadata": {},
   "source": [
    "#### what if user  enter 12 / 0   it will rturn ZeroDivisionError: division by zero"
   ]
  },
  {
   "cell_type": "code",
   "execution_count": null,
   "id": "e59b70a8-bacb-4ca6-9eff-e1388a554c4b",
   "metadata": {},
   "outputs": [],
   "source": [
    "a=int(input(\"enter  1st value\"))\n",
    "b=int(input(\"enter  2nd value\"))\n",
    "c=input(\"enter a operation : + , - , * , / :::\" )\n",
    "if c==\"+\":\n",
    "    print(a+b)\n",
    "elif c==\"-\":\n",
    "    print(a-b)\n",
    "elif c==\"*\":\n",
    "    print(\"Multiplication \",a*b)\n",
    "    \n",
    "elif c==\"/\":\n",
    "    if b==0:\n",
    "        print(\"zero cannot b divisible by any no.\")\n",
    "    else:\n",
    "         print(\"Division \",a/b)   \n",
    "else :\n",
    "    print(\"no operation is given\")\n",
    "    \n"
   ]
  },
  {
   "cell_type": "markdown",
   "id": "21e09440-9ac2-4dca-991e-76ecde79c124",
   "metadata": {},
   "source": [
    "#### get the city name from user (agra,delhi,mumbai) and print the monument (agra == tajmahal),(delhi==redfort),(mumbai==gateofindia)¶"
   ]
  },
  {
   "cell_type": "code",
   "execution_count": null,
   "id": "709ddd50-b554-4ad2-9341-5e7d86dff31a",
   "metadata": {},
   "outputs": [],
   "source": [
    "city=input(\"get the city name from user\")  #????????????\n",
    "\n",
    "if  city ==\"agra\":\n",
    "    print(\"the monument tajmahal\")\n",
    "elif city==\"mumbai\":\n",
    "    print(\"the monument gateofindia\")\n",
    "elif city==\"delhi\":\n",
    "    print(\"the monument rdfort\")\n",
    "else :\n",
    "    print(\"oops\")\n",
    "\n"
   ]
  },
  {
   "cell_type": "code",
   "execution_count": null,
   "id": "3bc3ea7c-37fe-4e58-823a-61c4bc13a737",
   "metadata": {},
   "outputs": [],
   "source": [
    "city=input(\"get the city name from user\").upper()  #??????\n",
    "print(\"the monument tajmahal\", city)"
   ]
  },
  {
   "cell_type": "markdown",
   "id": "17223f88-ccd1-4198-9642-35aafefa7d7a",
   "metadata": {},
   "source": [
    "# 30-10-2024 (Wednesday)\n",
    "write a python code to ask user to enter a number . based on the user input value check whether it is divisible by 2 and 12 or not"
   ]
  },
  {
   "cell_type": "code",
   "execution_count": null,
   "id": "52506032-575d-45f8-8c2e-894bc0a0f98c",
   "metadata": {},
   "outputs": [],
   "source": [
    "a=int(input(\"enter\"))\n",
    "b=int(input(\"enter\"))\n",
    "print(a%b)   # hre we are prforming opration "
   ]
  },
  {
   "cell_type": "code",
   "execution_count": null,
   "id": "95c57c93-3e5a-4310-88dd-ebac9fc81de0",
   "metadata": {},
   "outputs": [],
   "source": [
    "a=int(input(\"enter a number\"))\n",
    "\n",
    "if a % 2==0 and a %12==0:\n",
    "    print(\"yes\")\n",
    "else :\n",
    "    print(\"no\")\n"
   ]
  },
  {
   "cell_type": "markdown",
   "id": "283443d0-fec5-4d97-8e3a-e12b00ebbd98",
   "metadata": {},
   "source": [
    "### write a python code to ask user to enter a number . based on the user input value check whether it is divisible by following condition.\n",
    "1) Divisible by 2 only\n",
    "2) Divisible by 3 only\n",
    "3) Divisible by 2 and 3 both the value\n",
    "4) NOT Divisible by 2 and 3 both the value"
   ]
  },
  {
   "cell_type": "code",
   "execution_count": null,
   "id": "21e7c68f-7d2f-4864-a0a9-286a4518c94c",
   "metadata": {},
   "outputs": [],
   "source": [
    "d=int(input(\"enter\"))\n",
    "if d % 2==0:\n",
    "    print(\"Divisible by 2 only\")\n",
    "elif d % 3==0:\n",
    "    print(\"Divisible by 3 only\")\n",
    "elif d % 2==0  and d% 3==0:\n",
    "    print(\"Divisible by 2 and 3 both the value\")\n",
    "elif   not d % 2==0  and d% 3==0:\n",
    "    print(\"NOT Divisible by 2 and 3 both the value\")\n",
    "\n",
    "else :\n",
    "    print(\"no\")\n",
    "\n",
    "\n",
    "# here what is happniing ???  common no between 2 and 3 are  6 12 18 ...when you give 6 which is div by both  it will 1st only diviible by    if d % 2==0:\n",
    "it wont till here  elif d % 2==0  and d% 3==0:"
   ]
  },
  {
   "cell_type": "code",
   "execution_count": null,
   "id": "43b3ccbb-0380-42b7-99c0-020b7c98c8c8",
   "metadata": {},
   "outputs": [],
   "source": [
    " d=int(input(\"enter\"))\n",
    "if d % 2==0:    \n",
    "    if d % 3==0:\n",
    "        print(\"Divisible by  both 2 and 3\")\n",
    "    else:\n",
    "       print(\"Divisible by 2 only\")\n",
    "else :\n",
    "    \n",
    "    \n",
    "    if d % 3==0:\n",
    "          print(\"Divisible by  3 only\")\n",
    "    else:\n",
    "       print(\"not Divisible by2 and 3 only\")\n",
    "        \n",
    "elif   not d % 2==0  and d% 3==0:\n",
    "       # print(\"NOT Divisible by 2 and 3 both the value\")\n",
    "\n"
   ]
  },
  {
   "cell_type": "markdown",
   "id": "db96b95d-609c-44c4-894d-24c1ec992831",
   "metadata": {},
   "source": [
    "#### program to chck income >=50000  credit_score >= 600: age >=21  \"eligibl for credit card\""
   ]
  },
  {
   "cell_type": "code",
   "execution_count": 7,
   "id": "e01008c9-7e5d-44fa-87b2-194f4465a01a",
   "metadata": {},
   "outputs": [
    {
     "name": "stdin",
     "output_type": "stream",
     "text": [
      "nter income 78990\n",
      "enter score 890\n",
      "enter age 56\n"
     ]
    },
    {
     "name": "stdout",
     "output_type": "stream",
     "text": [
      "eligibl for credit card\n"
     ]
    }
   ],
   "source": [
    "income=int(input(\"nter income\"))\n",
    "credit_score=int(input(\"enter score\"))\n",
    "age=int(input(\"enter age\"))\n",
    "if income >=50000:\n",
    "    if credit_score >= 600:\n",
    "        if  age >=21:\n",
    "            print(\"eligibl for credit card\")\n",
    "        else :\n",
    "            print(\" not eligibl for  du to credit card\")\n",
    "    else :\n",
    "        print (\"not eligibl for  du tolow credit score\")\n",
    "else:\n",
    "    print(\"not eligibl for  du toless income\")"
   ]
  },
  {
   "cell_type": "code",
   "execution_count": 10,
   "id": "4f3effad-f552-4221-94d7-7e2e08a3bc38",
   "metadata": {},
   "outputs": [
    {
     "name": "stdin",
     "output_type": "stream",
     "text": [
      "cus_type 700\n"
     ]
    },
    {
     "name": "stdout",
     "output_type": "stream",
     "text": [
      "gold\n"
     ]
    }
   ],
   "source": [
    "spend=int(input(\"cus_type\")) \n",
    "if spend >= 1000:\n",
    "    print(\"pre\")\n",
    "elif spend >= 500:\n",
    "        print(\"gold\")\n",
    "elif spend >= 100:\n",
    "        print(\"silver\")\n",
    "else :\n",
    "     print(\" oops\")"
   ]
  },
  {
   "cell_type": "code",
   "execution_count": null,
   "id": "0a5ca24f-6a2d-469a-8f87-86c1742eaabd",
   "metadata": {},
   "outputs": [],
   "source": []
  },
  {
   "cell_type": "code",
   "execution_count": null,
   "id": "29a27785-2a7b-4733-94cb-8121701f5ef1",
   "metadata": {},
   "outputs": [],
   "source": []
  },
  {
   "cell_type": "code",
   "execution_count": null,
   "id": "ca0ba2db-3788-4bcb-8797-a2cc8f4c7210",
   "metadata": {},
   "outputs": [],
   "source": []
  },
  {
   "cell_type": "code",
   "execution_count": null,
   "id": "bca86e3e-4bed-466d-bb42-f79158c925f7",
   "metadata": {},
   "outputs": [],
   "source": []
  },
  {
   "cell_type": "code",
   "execution_count": null,
   "id": "1f5db242-658b-45bc-9b5a-b0c1c4d1910e",
   "metadata": {},
   "outputs": [],
   "source": []
  },
  {
   "cell_type": "code",
   "execution_count": null,
   "id": "dcac8c08-0fd7-4735-a96c-43e98d053083",
   "metadata": {},
   "outputs": [],
   "source": []
  },
  {
   "cell_type": "code",
   "execution_count": null,
   "id": "1dea687c-cc5f-462d-b9a9-0b4cd728b93b",
   "metadata": {},
   "outputs": [],
   "source": []
  },
  {
   "cell_type": "code",
   "execution_count": null,
   "id": "2a8f384d-6901-4919-920c-169f0b5d07fb",
   "metadata": {},
   "outputs": [],
   "source": [
    "data1=\"python\"\n",
    "print(id(data1))"
   ]
  },
  {
   "cell_type": "code",
   "execution_count": null,
   "id": "f6305c99-a5c9-443e-b948-32308a3e6376",
   "metadata": {},
   "outputs": [],
   "source": []
  },
  {
   "cell_type": "code",
   "execution_count": null,
   "id": "c6a281bd-ae6c-4631-83fb-71466ba9bfed",
   "metadata": {},
   "outputs": [],
   "source": [
    "data1=\"hiiiiiiiiiii\"\n",
    "print(id(data1))"
   ]
  },
  {
   "cell_type": "code",
   "execution_count": null,
   "id": "cdc5e83b-f989-4bd0-b8c1-7525951b57f9",
   "metadata": {},
   "outputs": [],
   "source": [
    "data1=\"bye\"\n",
    "print(id(data1))"
   ]
  },
  {
   "cell_type": "code",
   "execution_count": null,
   "id": "2d693c83-1b4e-406b-863d-edb4f755f9a1",
   "metadata": {},
   "outputs": [],
   "source": []
  },
  {
   "cell_type": "code",
   "execution_count": null,
   "id": "78fd742e-ef47-414c-a528-1eaf07a5930d",
   "metadata": {},
   "outputs": [],
   "source": []
  },
  {
   "cell_type": "code",
   "execution_count": null,
   "id": "ef7a51e9-12da-4f22-8758-0e7d957d0f54",
   "metadata": {},
   "outputs": [],
   "source": []
  },
  {
   "cell_type": "code",
   "execution_count": null,
   "id": "bf25cecd-b0df-41d1-aaf9-0923456b7249",
   "metadata": {},
   "outputs": [],
   "source": []
  }
 ],
 "metadata": {
  "kernelspec": {
   "display_name": "Python 3 (ipykernel)",
   "language": "python",
   "name": "python3"
  },
  "language_info": {
   "codemirror_mode": {
    "name": "ipython",
    "version": 3
   },
   "file_extension": ".py",
   "mimetype": "text/x-python",
   "name": "python",
   "nbconvert_exporter": "python",
   "pygments_lexer": "ipython3",
   "version": "3.12.4"
  }
 },
 "nbformat": 4,
 "nbformat_minor": 5
}
