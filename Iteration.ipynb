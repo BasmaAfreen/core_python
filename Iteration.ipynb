{
 "cells": [
  {
   "cell_type": "markdown",
   "id": "463718cc-dd2a-43c1-972c-dea4b39c6231",
   "metadata": {},
   "source": [
    "## Execute a block of statement repeatedly / Continous : Looping Statement"
   ]
  },
  {
   "cell_type": "markdown",
   "id": "ecb13eb4-d4b2-4c6a-bec2-3b494758a315",
   "metadata": {},
   "source": [
    "### while Loop : execute the block only if the condition evaluates true"
   ]
  },
  {
   "cell_type": "code",
   "execution_count": 2,
   "id": "6ce4abba-2e42-4fd3-9780-1e7caa5959af",
   "metadata": {},
   "outputs": [
    {
     "name": "stdout",
     "output_type": "stream",
     "text": [
      "heloo\n"
     ]
    }
   ],
   "source": [
    "while False:\n",
    "    print(\"hii\")\n",
    "print(\"heloo\")"
   ]
  },
  {
   "cell_type": "raw",
   "id": "787a42b5-9cec-4b92-81fe-88a3148771df",
   "metadata": {},
   "source": [
    "num =1 \n",
    "while num <=10:\n",
    "    print(\"good\")\n",
    "###  \"good\" bwill print infinite times so we us assingmnt operator\n"
   ]
  },
  {
   "cell_type": "code",
   "execution_count": null,
   "id": "fadc7871-d865-4ff4-bcbc-abdb1f14531c",
   "metadata": {},
   "outputs": [],
   "source": [
    "num =1 \n",
    "while num <=10:\n",
    "    print(\"good\")\n",
    "    num=num+1  #so we us assingmnt operator\n",
    "# \"good\" b e will print 10 times "
   ]
  },
  {
   "cell_type": "code",
   "execution_count": null,
   "id": "9a1c56e4-d83d-4b47-a59b-b650f6f1fe7d",
   "metadata": {},
   "outputs": [],
   "source": [
    "num =1 \n",
    "while num <=10:\n",
    "    print(\"good\")\n",
    "    num+=1     #so we us assingmnt operator     shortcut method\n",
    "print(\"end\")"
   ]
  },
  {
   "cell_type": "raw",
   "id": "140ded8f-1023-44c2-9076-b2a3ba39a669",
   "metadata": {},
   "source": [
    "### write a python code to print the number from 1 till 10."
   ]
  },
  {
   "cell_type": "code",
   "execution_count": 1,
   "id": "01be8441-ff8d-44fc-b488-9c227fb7cb8b",
   "metadata": {},
   "outputs": [
    {
     "name": "stdout",
     "output_type": "stream",
     "text": [
      "1\n",
      "2\n",
      "3\n",
      "4\n",
      "5\n",
      "6\n",
      "7\n",
      "8\n",
      "9\n",
      "10\n"
     ]
    }
   ],
   "source": [
    "num  =1\n",
    "while num<=10:\n",
    "    print (num)\n",
    "    num+=1"
   ]
  },
  {
   "cell_type": "markdown",
   "id": "d337d9c2-464d-4218-a3d0-bf56e78c55fd",
   "metadata": {},
   "source": [
    "### if you give num = 0 then it will intialize with  o 12 3 4 5 6 7 8 9 10   so in qu its mntioned print from 1 to 10"
   ]
  },
  {
   "cell_type": "markdown",
   "id": "4b33f242-8cc9-4a7d-b161-99414ec2e58b",
   "metadata": {},
   "source": [
    "### write a python code to print the number from 10 till 1."
   ]
  },
  {
   "cell_type": "raw",
   "id": "f0ff09d1-da24-4bef-9a22-9eaf3ac2828a",
   "metadata": {},
   "source": [
    "num  =10\n",
    "while num>=1:      #2. 10 >= 1 -----> yes              go to lin 4    3. print 11 :  11 >=1 ,yes    <------|\n",
    "                        \n",
    "    print (num)    #3.  then print   10                                                                    |\n",
    "    num=num+1      #4. 10+=1 ==11      ..............                 from here it will go above to 2 line |   next: 11+=1==12\n",
    "\n",
    "       ###   {but look at quetion mentioned from only to 10 - 1 means go in reverse order   so  go for   reverse order}"
   ]
  },
  {
   "cell_type": "code",
   "execution_count": null,
   "id": "7b32ffbf-7149-42ca-aa5b-94a22485a34b",
   "metadata": {},
   "outputs": [],
   "source": [
    "number = 10\n",
    "while number>=1:\n",
    "    print(\"Number is \",number)\n",
    "    number-=1\n",
    "print(\"END\")"
   ]
  },
  {
   "cell_type": "markdown",
   "id": "68150f0f-1d81-401d-87cf-01e107a3891b",
   "metadata": {},
   "source": [
    "### for loop"
   ]
  },
  {
   "cell_type": "markdown",
   "id": "f9a95474-c7da-4934-9200-b73b31b30f5f",
   "metadata": {},
   "source": [
    "### write a python code to ask user to enter a number. and based on the user enter value print the square of each number"
   ]
  },
  {
   "cell_type": "raw",
   "id": "39fec2d3-be66-4d79-913a-f69ba38cf011",
   "metadata": {},
   "source": [
    "### num  =int(input(\"eneter\"))\n",
    "while num*2:\n",
    "    print (num)1\n",
    "    num+=1  \n",
    "#### infinite loop   y bcz   { while num*2:  here you can give only assingment operator only cant give arithmatic op} "
   ]
  },
  {
   "cell_type": "code",
   "execution_count": 8,
   "id": "6ef341f0-7699-49f0-ac54-37e881a12ed6",
   "metadata": {},
   "outputs": [
    {
     "name": "stdin",
     "output_type": "stream",
     "text": [
      "enter 5\n"
     ]
    },
    {
     "name": "stdout",
     "output_type": "stream",
     "text": [
      "square 1 is 1\n",
      "square 2 is 4\n",
      "square 3 is 9\n",
      "square 4 is 16\n",
      "square 5 is 25\n"
     ]
    }
   ],
   "source": [
    "num  =int(input(\"enter\"))    # 5\n",
    "for i in range(1 , num+1):\n",
    "    print(f\"square {i} is {i*i}\")"
   ]
  },
  {
   "cell_type": "code",
   "execution_count": null,
   "id": "141daf6f-1b2d-4670-b3e7-f7809cd6debc",
   "metadata": {},
   "outputs": [],
   "source": [
    "num  =int(input(\"enter\"))                                             # given 3                 \n",
    "\n",
    "while num<=12:  # repeat for only 12 numbers   limit is set            # 3<=12                   4<= 12         <----|\n",
    "    print (\"Square of the number\", num  ,\"is\" ,num*2)                  #    3* 2=6                                  | \n",
    "    num+=1                                                             # 3+=1== 4 ...............> go up           |\n",
    "    \n",
    "{ here multiplication is happning    3* 2=6   but we need to   print the square of each no.  ex.. 2*2=4 ,  3*3=9 , 4*4=16...tc }"
   ]
  },
  {
   "cell_type": "code",
   "execution_count": 7,
   "id": "c604f732-aeb4-40b2-ac84-c9cdff5e073b",
   "metadata": {},
   "outputs": [
    {
     "name": "stdin",
     "output_type": "stream",
     "text": [
      "Enter a value 5\n"
     ]
    },
    {
     "name": "stdout",
     "output_type": "stream",
     "text": [
      "Square of number 1 is 1\n",
      "Square of number 2 is 4\n",
      "Square of number 3 is 9\n",
      "Square of number 4 is 16\n",
      "Square of number 5 is 25\n",
      "End\n"
     ]
    }
   ],
   "source": [
    "var = int(input(\"Enter a value\"))#12\n",
    "i=1\n",
    "while i<=var:                                      #so here there is no limit  user can  enter any number  and set th limit\n",
    "   #print(\"Square of the number \",i ,\" is \",i*i)\n",
    "    print(f\"Square of number {i} is {i * i}\")\n",
    "    i+=1\n",
    "    \n",
    "print(\"End\")"
   ]
  },
  {
   "cell_type": "code",
   "execution_count": null,
   "id": "19217d4b-e6d4-43a1-8180-08bf69ac77c4",
   "metadata": {},
   "outputs": [],
   "source": [
    "######### table\n",
    "num  =int(input(\"eneter\"))\n",
    "while num<=12:   #repeat for only 12 numbers\n",
    "    print (num*2)\n",
    "    num+=1  \n"
   ]
  },
  {
   "cell_type": "markdown",
   "id": "c50e5347-ffc1-46fe-8bb3-8457e91c3c38",
   "metadata": {},
   "source": [
    "### write a python code to ask user to enter a number for printing the table. and also ask the end point."
   ]
  },
  {
   "cell_type": "code",
   "execution_count": 10,
   "id": "556a5ad3-e203-42df-a450-a8b9e4fdb980",
   "metadata": {},
   "outputs": [
    {
     "name": "stdin",
     "output_type": "stream",
     "text": [
      "eneter 1\n",
      "eneter 5\n"
     ]
    },
    {
     "name": "stdout",
     "output_type": "stream",
     "text": [
      "enter a number for printing the table 1\n",
      "enter a number for printing the table 2\n",
      "enter a number for printing the table 3\n",
      "enter a number for printing the table 4\n",
      "enter a number for printing the table 5\n"
     ]
    }
   ],
   "source": [
    "num  =int(input(\"eneter\"))  # 2\n",
    "end =int(input(\"eneter\"))   #10\n",
    "i=1\n",
    "while   i <=end:                                           # (1.) 1<=2.......(1.a) 2<=2......(1.b) 3<=2  no.. so it will stop \n",
    "    print(\"enter a number for printing the table\",i)   # (2.) 2*1..........(2.a)2*2..............^\n",
    "    i+=1                                                  # (3.) 1+=1=2.......(3.a)2+=1=3...........|"
   ]
  },
  {
   "cell_type": "code",
   "execution_count": 3,
   "id": "d328d006-74bf-4943-bb41-ad8557b48c97",
   "metadata": {},
   "outputs": [
    {
     "name": "stdin",
     "output_type": "stream",
     "text": [
      "enter a number for printing the table 1\n",
      "enter end point 10\n"
     ]
    },
    {
     "name": "stdout",
     "output_type": "stream",
     "text": [
      " 1 * 1 = 1\n",
      " 1 * 2 = 2\n",
      " 1 * 3 = 3\n",
      " 1 * 4 = 4\n",
      " 1 * 5 = 5\n",
      " 1 * 6 = 6\n",
      " 1 * 7 = 7\n",
      " 1 * 8 = 8\n",
      " 1 * 9 = 9\n",
      " 1 * 10 = 10\n"
     ]
    }
   ],
   "source": [
    "num  =int(input(\"enter a number for printing the table\"))  # 2\n",
    "end =int(input(\"enter end point\"))                         # 10\n",
    "i=1\n",
    "while   i <=end:                                           # 1<=10 .........................................................| 10<=10  <------------| TRUE                                        \n",
    "    print(f\" {num} * {i} = {num*i}\")   # 2*1==2.........................................................|----> 2*10==20        ^\n",
    "    i+=1                                                   # 1+=1=2 ................................................................> 9+=1==10      |"
   ]
  },
  {
   "cell_type": "markdown",
   "id": "45057336-1205-4a87-a69b-1a58175a3123",
   "metadata": {},
   "source": [
    "### f is formatted string"
   ]
  },
  {
   "cell_type": "code",
   "execution_count": null,
   "id": "7bcaa202-0004-4d6f-8347-a43cb0ae73e8",
   "metadata": {},
   "outputs": [],
   "source": [
    "name=\"Jasmine\"\n",
    "age=34\n",
    "location =\"Mumbai\"\n",
    "Course = \"DS\"\n",
    "#Student name is jasmine age is 34 loation is Mumbai and course enroll for DS\n",
    "print(\"Student name is \",name ,\" age is \",age)\n",
    "print(f\"Student name is {name}  age is {age} loation is {location} and course enroll for {Course}\")"
   ]
  },
  {
   "cell_type": "markdown",
   "id": "a9708044-26d3-433e-8014-8935eebae125",
   "metadata": {},
   "source": [
    "####    write a python code to ask user to enter  which by default tart from 1 . btween th rang of 1 to user value print odd numbers"
   ]
  },
  {
   "cell_type": "code",
   "execution_count": 6,
   "id": "9f5bb115-7017-47ea-b6c7-bb4bef9e5ed5",
   "metadata": {},
   "outputs": [
    {
     "name": "stdin",
     "output_type": "stream",
     "text": [
      "enter 5\n"
     ]
    },
    {
     "name": "stdout",
     "output_type": "stream",
     "text": [
      "odd num is 1\n",
      "odd num is 3\n",
      "odd num is 5\n"
     ]
    }
   ],
   "source": [
    "num=int(input(\"enter\"))  # 12\n",
    "i=1          \n",
    "while  i<=num:    # <=12\n",
    "    if  i % 2 !=0:\n",
    "     print(\"odd num is :\",i)  \n",
    "    i+=1        #1+=1==2"
   ]
  },
  {
   "cell_type": "code",
   "execution_count": 5,
   "id": "b89b64a9-a806-4967-b4d7-1c2bfb5e9dc4",
   "metadata": {},
   "outputs": [
    {
     "name": "stdin",
     "output_type": "stream",
     "text": [
      "Enter the End Point:  15\n"
     ]
    },
    {
     "name": "stdout",
     "output_type": "stream",
     "text": [
      "Odd number: 1\n",
      "Odd number: 3\n",
      "Odd number: 5\n",
      "Odd number: 7\n",
      "Odd number: 9\n",
      "Odd number: 11\n",
      "Odd number: 13\n",
      "Odd number: 15\n"
     ]
    }
   ],
   "source": [
    "a= int(input(\"Enter the End Point: \"))  \n",
    "i = 1\n",
    "while i <= a:\n",
    "    if i % 2 != 0:\n",
    "        print(f\"Odd number: {i}\")\n",
    "    i += 1"
   ]
  },
  {
   "cell_type": "markdown",
   "id": "047d53e5-3e89-468b-a7fc-739467b0d05c",
   "metadata": {},
   "source": [
    "##  for loop  :  for loop i used to iterate among the string , list ,tuple ..etc"
   ]
  },
  {
   "cell_type": "code",
   "execution_count": 74,
   "id": "7ec88a32-3098-42f6-814e-59a899cd2e7a",
   "metadata": {},
   "outputs": [
    {
     "name": "stdout",
     "output_type": "stream",
     "text": [
      "today is  diwali\n"
     ]
    }
   ],
   "source": [
    "data=\"today is  diwali\"\n",
    "print(data)"
   ]
  },
  {
   "cell_type": "code",
   "execution_count": 75,
   "id": "043ccf12-d430-4225-8295-82703c098710",
   "metadata": {},
   "outputs": [
    {
     "name": "stdout",
     "output_type": "stream",
     "text": [
      "t\n",
      "o\n",
      "d\n",
      "a\n",
      "y\n",
      " \n",
      "i\n",
      "s\n",
      " \n",
      " \n",
      "d\n",
      "i\n",
      "w\n",
      "a\n",
      "l\n",
      "i\n",
      "hello\n",
      "bye\n"
     ]
    }
   ],
   "source": [
    "for i in data:\n",
    "    print(i )\n",
    "print(\"hello\")\n",
    "print(\"bye\")"
   ]
  },
  {
   "cell_type": "code",
   "execution_count": null,
   "id": "9738ffc5-7329-40d3-9dc2-04727000b8f7",
   "metadata": {},
   "outputs": [],
   "source": [
    "a = input(\"Enter the start point  \")\n",
    "\n",
    "\n",
    "for i in a:\n",
    "    print(i)"
   ]
  },
  {
   "cell_type": "code",
   "execution_count": 22,
   "id": "63ecf653-96d0-46c1-8121-52e99c48dcca",
   "metadata": {},
   "outputs": [
    {
     "name": "stdout",
     "output_type": "stream",
     "text": [
      "today is  diwalihello\n",
      "bye\n"
     ]
    }
   ],
   "source": [
    "for basma in data:\n",
    "   print(basma,end=\"\")\n",
    "print(\"hello\")\n",
    "print(\"bye\")"
   ]
  },
  {
   "cell_type": "code",
   "execution_count": 25,
   "id": "a10e3baf-b945-4c5d-8424-c3c9bc2082fa",
   "metadata": {},
   "outputs": [
    {
     "name": "stdout",
     "output_type": "stream",
     "text": [
      "today is  diwali\n",
      "hello\n",
      "bye\n"
     ]
    }
   ],
   "source": [
    "for a in data:\n",
    "   print(a,end=\"\")\n",
    "print(\"\\nhello\")\n",
    "print(\"bye\")"
   ]
  },
  {
   "cell_type": "markdown",
   "id": "4099897b-5308-40fd-b034-cbd0a1bf22b8",
   "metadata": {},
   "source": [
    "#### write a python code that will accept th string  from the user and print th count of vowel  is ( a e i o u)"
   ]
  },
  {
   "cell_type": "code",
   "execution_count": 23,
   "id": "498a6de8-a372-4c7f-b206-b7dd7f06ef0e",
   "metadata": {},
   "outputs": [
    {
     "name": "stdin",
     "output_type": "stream",
     "text": [
      "Enter the String:  tasmiya\n"
     ]
    },
    {
     "name": "stdout",
     "output_type": "stream",
     "text": [
      "Vowel count in 'tasmiya'is 3\n"
     ]
    }
   ],
   "source": [
    "#method 1\n",
    "a = input(\"Enter the String: \")\n",
    "vowel = \"aeiou\"\n",
    "count=0\n",
    "for char in a:\n",
    "    if char.lower() in vowel:\n",
    "        count += 1\n",
    "\n",
    "print(f\"Vowel count in '{a}'is {count}\")"
   ]
  },
  {
   "cell_type": "code",
   "execution_count": null,
   "id": "602f265e-fe0d-4294-a448-532b37f24614",
   "metadata": {},
   "outputs": [],
   "source": [
    "#mthod 2\n",
    "a = input(\"Enter the String: \")\n",
    "vowel_count = 0\n",
    "for char in a:\n",
    "    if char.lower() in [\"a\", \"e\", \"i\", \"o\", \"u\"]:\n",
    "        vowel_count += 1\n",
    "\n",
    "print(f\"Vowel count in '{a}': {vowel_count}\")"
   ]
  },
  {
   "cell_type": "markdown",
   "id": "82595efb-0f78-478d-9f43-0b01ca4ca21e",
   "metadata": {},
   "source": [
    "### write a python code that will accept th string from the user and print th count of total letters"
   ]
  },
  {
   "cell_type": "code",
   "execution_count": 25,
   "id": "873a4376-9f24-46f2-85a0-e6619b36b2f1",
   "metadata": {},
   "outputs": [
    {
     "name": "stdin",
     "output_type": "stream",
     "text": [
      "Enter the String:  basma\n"
     ]
    },
    {
     "name": "stdout",
     "output_type": "stream",
     "text": [
      "total no of char count in 'basma'is 5\n"
     ]
    }
   ],
   "source": [
    "a = input(\"Enter the String: \")\n",
    "count = 0\n",
    "for i in a:\n",
    "    count += 1\n",
    "print(f\"count in the string: {count}\")\n"
   ]
  },
  {
   "cell_type": "markdown",
   "id": "496f8eeb-117d-4bcc-9b9e-ee1442fd68a2",
   "metadata": {},
   "source": [
    "### range(start ,end(n=n+1),step diffrence(by default it is 1)"
   ]
  },
  {
   "cell_type": "code",
   "execution_count": 1,
   "id": "ea672938-3d1b-4865-96a7-aca7ef975b1d",
   "metadata": {},
   "outputs": [
    {
     "name": "stdout",
     "output_type": "stream",
     "text": [
      "0\n",
      "1\n",
      "2\n",
      "3\n",
      "4\n",
      "5\n",
      "6\n",
      "7\n",
      "8\n",
      "9\n"
     ]
    }
   ],
   "source": [
    "for i in range (10):\n",
    "    print(i)\n",
    "    "
   ]
  },
  {
   "cell_type": "code",
   "execution_count": 3,
   "id": "3917523a-58fa-48a6-94d7-af65f04234dc",
   "metadata": {},
   "outputs": [
    {
     "name": "stdout",
     "output_type": "stream",
     "text": [
      "1\n",
      "2\n",
      "3\n",
      "4\n",
      "5\n",
      "6\n",
      "7\n",
      "8\n",
      "9\n"
     ]
    }
   ],
   "source": [
    "for i in range (1,10):\n",
    "  \n",
    "    print(i)\n",
    "    "
   ]
  },
  {
   "cell_type": "code",
   "execution_count": null,
   "id": "9e3c8009-ad6d-4fbd-ad72-42c45c8205c1",
   "metadata": {},
   "outputs": [],
   "source": [
    "for i in range (0 ,10+1):\n",
    "  \n",
    "    print(i)\n",
    "    "
   ]
  },
  {
   "cell_type": "code",
   "execution_count": 4,
   "id": "8194278f-e666-4e8f-9902-f2f4a2160364",
   "metadata": {},
   "outputs": [
    {
     "name": "stdout",
     "output_type": "stream",
     "text": [
      "0\n",
      "3\n",
      "6\n",
      "9\n",
      "12\n",
      "15\n",
      "18\n",
      "21\n",
      "24\n",
      "27\n"
     ]
    }
   ],
   "source": [
    "\n",
    "for i in range(0 ,30,3):\n",
    "    print(i)"
   ]
  },
  {
   "cell_type": "markdown",
   "id": "42bc540d-fdff-49f9-af86-e5b420671a3f",
   "metadata": {},
   "source": [
    "### write a python code from the user that will accept start point and end point from user and print the series of number¶"
   ]
  },
  {
   "cell_type": "code",
   "execution_count": 12,
   "id": "ed4d0473-668a-4c32-9316-b479247dd57c",
   "metadata": {},
   "outputs": [
    {
     "name": "stdin",
     "output_type": "stream",
     "text": [
      "Enter the   10\n",
      "Enter the :  20\n"
     ]
    },
    {
     "name": "stdout",
     "output_type": "stream",
     "text": [
      "10\n",
      "11\n",
      "12\n",
      "13\n",
      "14\n",
      "15\n",
      "16\n",
      "17\n",
      "18\n",
      "19\n"
     ]
    }
   ],
   "source": [
    "a = int(input(\"Enter the  \"))\n",
    "b= int(input(\"Enter the : \"))\n",
    "\n",
    "for i in range(a,b): \n",
    "    print(i)\n",
    "    \n",
    "    \n"
   ]
  },
  {
   "cell_type": "code",
   "execution_count": 21,
   "id": "8da0af5a-f170-43f8-aefa-1d87332d8ac8",
   "metadata": {},
   "outputs": [
    {
     "name": "stdin",
     "output_type": "stream",
     "text": [
      "Enter the   20\n",
      "Enter the :  30\n"
     ]
    },
    {
     "name": "stdout",
     "output_type": "stream",
     "text": [
      "20\n",
      "21\n",
      "22\n",
      "23\n",
      "24\n",
      "25\n",
      "26\n",
      "27\n",
      "28\n",
      "29\n",
      "30\n"
     ]
    }
   ],
   "source": [
    "a = int(input(\"Enter the  \"))\n",
    "b= int(input(\"Enter the : \"))\n",
    "i=1\n",
    "for i in range(a,b+1):    # include end point , if + not given wont include nd point\n",
    "    print(i)\n",
    "    "
   ]
  },
  {
   "cell_type": "markdown",
   "id": "efb10326-89cd-46fc-9fb8-58573ffe3a16",
   "metadata": {},
   "source": [
    "#### what if user enter   end point  which  is  smaller   ans: print a proper statment "
   ]
  },
  {
   "cell_type": "code",
   "execution_count": 7,
   "id": "dfc48470-4c13-4f81-b809-f99a459be275",
   "metadata": {},
   "outputs": [
    {
     "name": "stdin",
     "output_type": "stream",
     "text": [
      "Enter the   10\n",
      "Enter the :  5\n"
     ]
    },
    {
     "name": "stdout",
     "output_type": "stream",
     "text": [
      "end  point is smaller\n"
     ]
    }
   ],
   "source": [
    "a = int(input(\"Enter the  \"))\n",
    "b= int(input(\"Enter the : \"))\n",
    "i=1\n",
    "for i in range(a,b+1):    # include end point , if + not given wont include\n",
    "    print(i)\n",
    "print(\"end  point is smaller\")\n",
    "    "
   ]
  },
  {
   "cell_type": "markdown",
   "id": "2f688ed3-d279-474e-9cad-e5ba4a23842d",
   "metadata": {},
   "source": [
    "### can also use if statemnt ;"
   ]
  },
  {
   "cell_type": "code",
   "execution_count": 15,
   "id": "ecbf8532-3faa-4392-a1e9-65c5f392f1a6",
   "metadata": {},
   "outputs": [
    {
     "name": "stdin",
     "output_type": "stream",
     "text": [
      "Enter the   10\n",
      "Enter the :  5\n"
     ]
    },
    {
     "name": "stdout",
     "output_type": "stream",
     "text": [
      "end point  smaller \n"
     ]
    }
   ],
   "source": [
    "a = int(input(\"Enter the  \"))\n",
    "b= int(input(\"Enter the : \"))\n",
    "if  a < b :\n",
    "    for i in range(a,b+1):                     # include end point , if + not given wont include\n",
    "        print(i)\n",
    "else :\n",
    "    print(\"end point  smaller \")\n"
   ]
  },
  {
   "cell_type": "code",
   "execution_count": null,
   "id": "cf81fdc2-d14e-4542-b086-a63f9f6453c8",
   "metadata": {},
   "outputs": [],
   "source": [
    "a = int(input(\"Enter the Start point: \"))\n",
    "b = int(input(\"Enter the End point: \"))\n",
    "i = 1\n",
    "if a > b:\n",
    "    for i in range(a,b+1):\n",
    "        print(i)\n",
    "else:\n",
    "    print(\"Ending point is greater than starting point\")"
   ]
  },
  {
   "cell_type": "markdown",
   "id": "64a3e683-fe55-4be2-b9a2-c7d329d0d14b",
   "metadata": {},
   "source": [
    "#### write a python code that will accept the value  start    and  end point   from the user and print th numbers which are divisible by 5 and 15 \n",
    "\n"
   ]
  },
  {
   "cell_type": "code",
   "execution_count": 16,
   "id": "e5220934-eff7-4c72-97ca-1e50a884a35c",
   "metadata": {},
   "outputs": [
    {
     "name": "stdin",
     "output_type": "stream",
     "text": [
      "Enter the   5\n",
      "Ent 50\n"
     ]
    },
    {
     "name": "stdout",
     "output_type": "stream",
     "text": [
      "15\n",
      "30\n",
      "45\n"
     ]
    }
   ],
   "source": [
    "a = int(input(\"Enter the  \"))   \n",
    "b= int(input(\"Ent\"))\n",
    "for i in range(a,b+1): \n",
    "        if i % 5==0 and i % 15==0:\n",
    "          print(i)\n",
    "       "
   ]
  },
  {
   "cell_type": "markdown",
   "id": "43562f41-2960-47b2-9fb6-ee7e99fca95b",
   "metadata": {},
   "source": [
    "###### if you want to specify any condition   print only if   b is greater than a , bcz sometimes usr may enter  greater value in place of \" a\" "
   ]
  },
  {
   "cell_type": "code",
   "execution_count": 44,
   "id": "d8225a3e-e943-4c07-b962-3ec9cc3d95e6",
   "metadata": {},
   "outputs": [
    {
     "name": "stdin",
     "output_type": "stream",
     "text": [
      "Enter the   5\n",
      "Enter the :  50\n"
     ]
    },
    {
     "name": "stdout",
     "output_type": "stream",
     "text": [
      "15\n",
      "30\n",
      "45\n"
     ]
    }
   ],
   "source": [
    "a = int(input(\"Enter the Start point: \"))\n",
    "b = int(input(\"Enter the End point: \"))\n",
    "i = 1\n",
    "if a < b:\n",
    "    for i in range(a, b + 1):\n",
    "        if i % 5 == 0 and i % 15 == 0:\n",
    "            print(i)\n",
    "else:\n",
    "    print(\"Ending point is greater than starting point\")            "
   ]
  },
  {
   "cell_type": "markdown",
   "id": "f02e032e-9322-472c-bb00-29346ecce60f",
   "metadata": {},
   "source": [
    "### write a python code that will accept the value  start    and  end point   from the user count the even and odd numbrs\n"
   ]
  },
  {
   "cell_type": "code",
   "execution_count": 72,
   "id": "c7345fe1-2143-4601-8e29-56254e2bada2",
   "metadata": {},
   "outputs": [
    {
     "name": "stdin",
     "output_type": "stream",
     "text": [
      "Enter the   2\n",
      "Enter the :  55\n"
     ]
    },
    {
     "name": "stdout",
     "output_type": "stream",
     "text": [
      "27\n",
      "27\n"
     ]
    }
   ],
   "source": [
    "a = int(input(\"Enter the Start point: \"))\n",
    "b = int(input(\"Enter the End point: \"))\n",
    "\n",
    "even_count = 0\n",
    "odd_count = 0\n",
    "\n",
    "if a < b:\n",
    "    for i in range(a, b + 1):\n",
    "        if i % 2 == 0:\n",
    "            even_count += 1\n",
    "        else:\n",
    "            odd_count += 1\n",
    "\n",
    "print(f\"Total even numbers: {even_count}\")\n",
    "print(f\"Total odd numbers: {odd_count}\")"
   ]
  },
  {
   "cell_type": "markdown",
   "id": "d5b7bc37-03c5-4086-b1b7-860403eb1ac9",
   "metadata": {},
   "source": [
    "# 4-11-2024"
   ]
  },
  {
   "cell_type": "markdown",
   "id": "b8611c56-9284-46e4-a821-52cf908d5a65",
   "metadata": {},
   "source": [
    "#### write a python code that will accept the number from user and print the factorial of the given number"
   ]
  },
  {
   "cell_type": "code",
   "execution_count": 19,
   "id": "a6b18f65-d8bc-4115-8809-fed245bb6b6a",
   "metadata": {},
   "outputs": [
    {
     "name": "stdin",
     "output_type": "stream",
     "text": [
      "enter a num 5\n"
     ]
    },
    {
     "name": "stdout",
     "output_type": "stream",
     "text": [
      "factorial of given number 120\n"
     ]
    }
   ],
   "source": [
    "var=int(input(\"enter a num\"))\n",
    "fact=1\n",
    "if  var > 0:  # var > 0 , only can  go for factorial bcz se if we multipe any no with 0 answer will be zero .     \n",
    "    for i in range(1,var+1):\n",
    "      fact*=i\n",
    "    print(\"factorial of given number\",fact)\n",
    "else :\n",
    "    print(\"stop\")"
   ]
  },
  {
   "cell_type": "code",
   "execution_count": 11,
   "id": "8bf387e5-c218-4c59-84e4-59fa1e5bf005",
   "metadata": {},
   "outputs": [
    {
     "name": "stdin",
     "output_type": "stream",
     "text": [
      "Enter a Number 5\n"
     ]
    },
    {
     "name": "stdout",
     "output_type": "stream",
     "text": [
      "Factorial of given number is  1\n",
      "Factorial of given number is  2\n",
      "Factorial of given number is  6\n",
      "Factorial of given number is  24\n",
      "Factorial of given number is  120\n"
     ]
    }
   ],
   "source": [
    "var = int(input(\"Enter a Number\"))\n",
    "fact=1\n",
    "\n",
    "if var>0:\n",
    "    for i in range(1,var+1): #5+1\n",
    "     fact*=i\n",
    "        \n",
    "     print(\"Factorial of given number is \",fact)\n",
    "    \n",
    "else:\n",
    "    print(\"Stop\")"
   ]
  },
  {
   "cell_type": "markdown",
   "id": "0e95aeb0-b3f7-4a19-9d64-13af4959f2b9",
   "metadata": {},
   "source": [
    "#### write a python code that will accept the number from user and print the sum of natural Number¶"
   ]
  },
  {
   "cell_type": "code",
   "execution_count": null,
   "id": "0d220850-1566-4ca2-8ba2-e2c50b35a6fe",
   "metadata": {},
   "outputs": [],
   "source": []
  },
  {
   "cell_type": "code",
   "execution_count": 21,
   "id": "0e8a504c-cc3e-44bb-8056-d172f1e07e1c",
   "metadata": {},
   "outputs": [
    {
     "name": "stdin",
     "output_type": "stream",
     "text": [
      "Enter a Number 5\n"
     ]
    },
    {
     "name": "stdout",
     "output_type": "stream",
     "text": [
      "1\n",
      "3\n",
      "6\n",
      "10\n",
      "15\n",
      "stop\n"
     ]
    }
   ],
   "source": [
    "var = int(input(\"Enter a Number\"))\n",
    "sum =0\n",
    "for  i in range(1,var+1):\n",
    "    sum+=i\n",
    "    print(sum)\n",
    "else :\n",
    "    print(\"stop\")\n"
   ]
  },
  {
   "cell_type": "markdown",
   "id": "05fb3f06-db56-4cfe-a3bd-524b2820b946",
   "metadata": {},
   "source": [
    "# question from ai "
   ]
  },
  {
   "cell_type": "markdown",
   "id": "a44d37fd-abf3-4c97-a426-fb2693afce79",
   "metadata": {},
   "source": [
    "## 2.    itrate over a list "
   ]
  },
  {
   "cell_type": "code",
   "execution_count": 34,
   "id": "e18535cc-ea09-4f8d-9295-577b19b2c319",
   "metadata": {},
   "outputs": [
    {
     "name": "stdout",
     "output_type": "stream",
     "text": [
      "1\n",
      "2\n",
      "3\n",
      "4\n",
      "5\n",
      "6\n"
     ]
    }
   ],
   "source": [
    "a=[1,2,3,4,5,6]\n",
    "for i in a:             # right one\n",
    "    print(i)"
   ]
  },
  {
   "cell_type": "code",
   "execution_count": 22,
   "id": "8a5fba2b-d54f-41c6-9097-77abe4c197f3",
   "metadata": {},
   "outputs": [
    {
     "name": "stdout",
     "output_type": "stream",
     "text": [
      "[1, 2, 3, 4, 5, 6]\n",
      "[1, 2, 3, 4, 5, 6]\n",
      "[1, 2, 3, 4, 5, 6]\n",
      "[1, 2, 3, 4, 5, 6]\n",
      "[1, 2, 3, 4, 5, 6]\n",
      "[1, 2, 3, 4, 5, 6]\n"
     ]
    }
   ],
   "source": [
    "a=[1,2,3,4,5,6]\n",
    "for i in a:\n",
    "    print(a)"
   ]
  },
  {
   "cell_type": "code",
   "execution_count": 21,
   "id": "93830165-a0bb-4756-84b5-2316c3db4e35",
   "metadata": {},
   "outputs": [
    {
     "name": "stdout",
     "output_type": "stream",
     "text": [
      "nbjhui\n",
      "nbjhui\n",
      "nbjhui\n",
      "nbjhui\n",
      "nbjhui\n",
      "nbjhui\n"
     ]
    }
   ],
   "source": [
    "a=[1,2,3,4,5,6]\n",
    "for i in a:\n",
    "    print(\"nbjhui\")"
   ]
  },
  {
   "cell_type": "markdown",
   "id": "5bdf8855-e9be-4b43-9259-4bfe94c0a6e6",
   "metadata": {},
   "source": [
    "## 3    find sum   of all elements in a list   "
   ]
  },
  {
   "cell_type": "code",
   "execution_count": 50,
   "id": "dcb439e7-4a7c-44d6-8eba-fa6fc4781020",
   "metadata": {},
   "outputs": [
    {
     "name": "stdout",
     "output_type": "stream",
     "text": [
      "1\n",
      "3\n",
      "6\n",
      "10\n",
      "15\n",
      "21\n"
     ]
    }
   ],
   "source": [
    "a=[1,2,3,4,5,6]\n",
    "sum=0\n",
    "for i in a:\n",
    "    sum =sum+i\n",
    "    print(sum)"
   ]
  },
  {
   "cell_type": "markdown",
   "id": "1ae94313-d422-41f6-82a8-3a01d908b976",
   "metadata": {},
   "source": [
    "## 3    find sum   of all elements in a list  of usr entered values "
   ]
  },
  {
   "cell_type": "code",
   "execution_count": 49,
   "id": "74bae692-e472-4d4e-ba77-12eebc61e1b0",
   "metadata": {},
   "outputs": [
    {
     "name": "stdout",
     "output_type": "stream",
     "text": [
      "\n"
     ]
    }
   ],
   "source": [
    "a=int(input(\"enter\"))\n",
    "sum=0\n",
    "for i in range( 1, a):\n",
    "    sum +=i\n",
    "    print(sum)"
   ]
  },
  {
   "cell_type": "code",
   "execution_count": null,
   "id": "3b66ac34-12ef-429c-a409-1704708a94f8",
   "metadata": {},
   "outputs": [],
   "source": []
  },
  {
   "cell_type": "code",
   "execution_count": null,
   "id": "1fbf7920-b337-4144-bd4f-8d55974fc04f",
   "metadata": {},
   "outputs": [],
   "source": []
  },
  {
   "cell_type": "code",
   "execution_count": null,
   "id": "2ddbf510-dadb-4fd9-821e-471106054eb2",
   "metadata": {},
   "outputs": [],
   "source": []
  }
 ],
 "metadata": {
  "kernelspec": {
   "display_name": "Python 3 (ipykernel)",
   "language": "python",
   "name": "python3"
  },
  "language_info": {
   "codemirror_mode": {
    "name": "ipython",
    "version": 3
   },
   "file_extension": ".py",
   "mimetype": "text/x-python",
   "name": "python",
   "nbconvert_exporter": "python",
   "pygments_lexer": "ipython3",
   "version": "3.12.4"
  }
 },
 "nbformat": 4,
 "nbformat_minor": 5
}
